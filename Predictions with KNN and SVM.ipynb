{
 "cells": [
  {
   "cell_type": "markdown",
   "id": "27fc60c5",
   "metadata": {},
   "source": [
    "# Prediction of the probability of death of a patient that is entering an ICU (Intensive Care Unit)\n",
    "## Using KNN and SVM\n",
    "\n",
    "**Andrés Felipe Virgüez Clavijo**"
   ]
  },
  {
   "cell_type": "markdown",
   "id": "f385312d",
   "metadata": {},
   "source": [
    "This notebook shows the process of fitting KNN and SVM models into a dataset from MIMIC project (https://mimic.physionet.org/). MIMIC-III (Medical Information Mart for Intensive Care III) is a large, freely-available database comprising deidentified health-related data associated with over forty thousand patients who stayed in critical care units of the Beth Israel Deaconess Medical Center between 2001 and 2012.\n",
    "\n",
    "Each row of *mimic_train.csv* correponds to one ICU stay (*hadm_id*+*icustay_id*) of one patient (*subject_id*). Column HOSPITAL_EXPIRE_FLAG is the indicator of death (=1) as a result of the current hospital stay; this is the outcome to predict in our modelling exercise.\n",
    "The remaining columns correspond to vitals of each patient (when entering the ICU), plus some general characteristics (age, gender, etc.), and their explanation can be found at *mimic_patient_metadata.csv*.  \n",
    "\n",
    "The data used in this notebook results from a pre-processing process that is detailed in the notebook Data_preparation.ipynb (https://github.com/andresvBSE/BSE-CML2-P12/blob/main/Data_preparation.ipynb)\n",
    "\n",
    "**Import the basic libraries**"
   ]
  },
  {
   "cell_type": "code",
   "execution_count": null,
   "id": "7c8fe50e",
   "metadata": {},
   "outputs": [],
   "source": [
    "import pandas as pd\n",
    "import numpy as np\n",
    "\n",
    "import seaborn as sns\n",
    "import sklearn\n",
    "\n",
    "from datetime import datetime\n",
    "\n",
    "import warnings\n",
    "warnings.filterwarnings('ignore')"
   ]
  },
  {
   "cell_type": "code",
   "execution_count": 4,
   "id": "b06d3fa0",
   "metadata": {},
   "outputs": [],
   "source": [
    "import sys\n",
    "sys.path.append('src/features')\n",
    "\n",
    "from customplots import *\n",
    "from reweight_proba import *"
   ]
  },
  {
   "cell_type": "markdown",
   "id": "b45242d5",
   "metadata": {},
   "source": [
    "**Import the data**"
   ]
  },
  {
   "cell_type": "code",
   "execution_count": 5,
   "id": "db6c68b3",
   "metadata": {},
   "outputs": [
    {
     "name": "stdout",
     "output_type": "stream",
     "text": [
      "<class 'pandas.core.frame.DataFrame'>\n",
      "Int64Index: 20885 entries, 228357 to 258400\n",
      "Columns: 811 entries, HeartRate_Min to ICD9_0_L1_1_2_3\n",
      "dtypes: float64(811)\n",
      "memory usage: 129.4 MB\n",
      "None\n"
     ]
    },
    {
     "data": {
      "text/html": [
       "<div>\n",
       "<style scoped>\n",
       "    .dataframe tbody tr th:only-of-type {\n",
       "        vertical-align: middle;\n",
       "    }\n",
       "\n",
       "    .dataframe tbody tr th {\n",
       "        vertical-align: top;\n",
       "    }\n",
       "\n",
       "    .dataframe thead th {\n",
       "        text-align: right;\n",
       "    }\n",
       "</style>\n",
       "<table border=\"1\" class=\"dataframe\">\n",
       "  <thead>\n",
       "    <tr style=\"text-align: right;\">\n",
       "      <th></th>\n",
       "      <th>HeartRate_Min</th>\n",
       "      <th>HeartRate_Max</th>\n",
       "      <th>HeartRate_Mean</th>\n",
       "      <th>SysBP_Min</th>\n",
       "      <th>SysBP_Max</th>\n",
       "      <th>SysBP_Mean</th>\n",
       "      <th>DiasBP_Min</th>\n",
       "      <th>DiasBP_Max</th>\n",
       "      <th>DiasBP_Mean</th>\n",
       "      <th>MeanBP_Min</th>\n",
       "      <th>...</th>\n",
       "      <th>ICD9_CODE_O_10_L1_ICD9_CODE_O_6_L1</th>\n",
       "      <th>ICD9_CODE_O_10_L1_ICD9_CODE_O_7_L1</th>\n",
       "      <th>ICD9_CODE_O_10_L1_ICD9_CODE_O_8_L1</th>\n",
       "      <th>ICD9_CODE_O_10_L1_ICD9_CODE_O_9_L1</th>\n",
       "      <th>GENDER_ICD9DIAG</th>\n",
       "      <th>AGE_ICD9DIAG</th>\n",
       "      <th>GENDER_AGE_ICD9DIAG</th>\n",
       "      <th>ICD9_diagnosis_1_2</th>\n",
       "      <th>ICD9_0_L1_1_2</th>\n",
       "      <th>ICD9_0_L1_1_2_3</th>\n",
       "    </tr>\n",
       "    <tr>\n",
       "      <th>icustay_id</th>\n",
       "      <th></th>\n",
       "      <th></th>\n",
       "      <th></th>\n",
       "      <th></th>\n",
       "      <th></th>\n",
       "      <th></th>\n",
       "      <th></th>\n",
       "      <th></th>\n",
       "      <th></th>\n",
       "      <th></th>\n",
       "      <th></th>\n",
       "      <th></th>\n",
       "      <th></th>\n",
       "      <th></th>\n",
       "      <th></th>\n",
       "      <th></th>\n",
       "      <th></th>\n",
       "      <th></th>\n",
       "      <th></th>\n",
       "      <th></th>\n",
       "      <th></th>\n",
       "    </tr>\n",
       "  </thead>\n",
       "  <tbody>\n",
       "    <tr>\n",
       "      <th>228357</th>\n",
       "      <td>1.33218</td>\n",
       "      <td>1.948876</td>\n",
       "      <td>2.403148</td>\n",
       "      <td>-1.006425</td>\n",
       "      <td>-1.021078</td>\n",
       "      <td>-0.772756</td>\n",
       "      <td>-0.202861</td>\n",
       "      <td>0.088173</td>\n",
       "      <td>-0.127848</td>\n",
       "      <td>0.189415</td>\n",
       "      <td>...</td>\n",
       "      <td>1.509058</td>\n",
       "      <td>-0.398645</td>\n",
       "      <td>0.929949</td>\n",
       "      <td>0.367890</td>\n",
       "      <td>-0.720769</td>\n",
       "      <td>0.232231</td>\n",
       "      <td>0.355083</td>\n",
       "      <td>-0.187505</td>\n",
       "      <td>-0.222547</td>\n",
       "      <td>0.394449</td>\n",
       "    </tr>\n",
       "    <tr>\n",
       "      <th>221004</th>\n",
       "      <td>-0.46234</td>\n",
       "      <td>0.234689</td>\n",
       "      <td>-0.405068</td>\n",
       "      <td>-0.127652</td>\n",
       "      <td>-1.279621</td>\n",
       "      <td>-0.763765</td>\n",
       "      <td>0.399285</td>\n",
       "      <td>-0.764372</td>\n",
       "      <td>0.202969</td>\n",
       "      <td>0.117851</td>\n",
       "      <td>...</td>\n",
       "      <td>-0.866732</td>\n",
       "      <td>-0.909108</td>\n",
       "      <td>-0.905278</td>\n",
       "      <td>-0.872673</td>\n",
       "      <td>-0.225775</td>\n",
       "      <td>-0.270395</td>\n",
       "      <td>-0.528072</td>\n",
       "      <td>-0.246277</td>\n",
       "      <td>-0.177883</td>\n",
       "      <td>-0.847985</td>\n",
       "    </tr>\n",
       "    <tr>\n",
       "      <th>296315</th>\n",
       "      <td>0.78002</td>\n",
       "      <td>-0.353032</td>\n",
       "      <td>0.437012</td>\n",
       "      <td>-0.186237</td>\n",
       "      <td>-0.547081</td>\n",
       "      <td>-0.392030</td>\n",
       "      <td>0.055202</td>\n",
       "      <td>-1.137360</td>\n",
       "      <td>-0.532373</td>\n",
       "      <td>0.547234</td>\n",
       "      <td>...</td>\n",
       "      <td>1.856850</td>\n",
       "      <td>0.058470</td>\n",
       "      <td>-0.864646</td>\n",
       "      <td>-0.206783</td>\n",
       "      <td>-0.077142</td>\n",
       "      <td>-0.255789</td>\n",
       "      <td>0.369981</td>\n",
       "      <td>-0.101701</td>\n",
       "      <td>-0.191736</td>\n",
       "      <td>0.177013</td>\n",
       "    </tr>\n",
       "    <tr>\n",
       "      <th>245557</th>\n",
       "      <td>0.43492</td>\n",
       "      <td>1.116271</td>\n",
       "      <td>0.917094</td>\n",
       "      <td>-0.420577</td>\n",
       "      <td>-0.676353</td>\n",
       "      <td>-0.749047</td>\n",
       "      <td>-1.235111</td>\n",
       "      <td>0.034889</td>\n",
       "      <td>-1.922454</td>\n",
       "      <td>-0.597786</td>\n",
       "      <td>...</td>\n",
       "      <td>-0.520172</td>\n",
       "      <td>-0.677242</td>\n",
       "      <td>-0.700432</td>\n",
       "      <td>-0.290224</td>\n",
       "      <td>-0.352110</td>\n",
       "      <td>-0.306233</td>\n",
       "      <td>-0.432051</td>\n",
       "      <td>-0.472576</td>\n",
       "      <td>-0.253667</td>\n",
       "      <td>0.405987</td>\n",
       "    </tr>\n",
       "    <tr>\n",
       "      <th>292786</th>\n",
       "      <td>0.71100</td>\n",
       "      <td>0.430596</td>\n",
       "      <td>0.744087</td>\n",
       "      <td>-1.182180</td>\n",
       "      <td>-0.503991</td>\n",
       "      <td>-1.047845</td>\n",
       "      <td>-1.235111</td>\n",
       "      <td>-1.563633</td>\n",
       "      <td>-1.922454</td>\n",
       "      <td>-0.884041</td>\n",
       "      <td>...</td>\n",
       "      <td>-0.506747</td>\n",
       "      <td>-0.664903</td>\n",
       "      <td>-0.679860</td>\n",
       "      <td>-0.322564</td>\n",
       "      <td>-0.666738</td>\n",
       "      <td>-0.381377</td>\n",
       "      <td>0.218631</td>\n",
       "      <td>-0.403414</td>\n",
       "      <td>-0.956360</td>\n",
       "      <td>-0.462257</td>\n",
       "    </tr>\n",
       "  </tbody>\n",
       "</table>\n",
       "<p>5 rows × 811 columns</p>\n",
       "</div>"
      ],
      "text/plain": [
       "            HeartRate_Min  HeartRate_Max  HeartRate_Mean  SysBP_Min  \\\n",
       "icustay_id                                                            \n",
       "228357            1.33218       1.948876        2.403148  -1.006425   \n",
       "221004           -0.46234       0.234689       -0.405068  -0.127652   \n",
       "296315            0.78002      -0.353032        0.437012  -0.186237   \n",
       "245557            0.43492       1.116271        0.917094  -0.420577   \n",
       "292786            0.71100       0.430596        0.744087  -1.182180   \n",
       "\n",
       "            SysBP_Max  SysBP_Mean  DiasBP_Min  DiasBP_Max  DiasBP_Mean  \\\n",
       "icustay_id                                                               \n",
       "228357      -1.021078   -0.772756   -0.202861    0.088173    -0.127848   \n",
       "221004      -1.279621   -0.763765    0.399285   -0.764372     0.202969   \n",
       "296315      -0.547081   -0.392030    0.055202   -1.137360    -0.532373   \n",
       "245557      -0.676353   -0.749047   -1.235111    0.034889    -1.922454   \n",
       "292786      -0.503991   -1.047845   -1.235111   -1.563633    -1.922454   \n",
       "\n",
       "            MeanBP_Min  ...  ICD9_CODE_O_10_L1_ICD9_CODE_O_6_L1  \\\n",
       "icustay_id              ...                                       \n",
       "228357        0.189415  ...                            1.509058   \n",
       "221004        0.117851  ...                           -0.866732   \n",
       "296315        0.547234  ...                            1.856850   \n",
       "245557       -0.597786  ...                           -0.520172   \n",
       "292786       -0.884041  ...                           -0.506747   \n",
       "\n",
       "            ICD9_CODE_O_10_L1_ICD9_CODE_O_7_L1  \\\n",
       "icustay_id                                       \n",
       "228357                               -0.398645   \n",
       "221004                               -0.909108   \n",
       "296315                                0.058470   \n",
       "245557                               -0.677242   \n",
       "292786                               -0.664903   \n",
       "\n",
       "            ICD9_CODE_O_10_L1_ICD9_CODE_O_8_L1  \\\n",
       "icustay_id                                       \n",
       "228357                                0.929949   \n",
       "221004                               -0.905278   \n",
       "296315                               -0.864646   \n",
       "245557                               -0.700432   \n",
       "292786                               -0.679860   \n",
       "\n",
       "            ICD9_CODE_O_10_L1_ICD9_CODE_O_9_L1  GENDER_ICD9DIAG  AGE_ICD9DIAG  \\\n",
       "icustay_id                                                                      \n",
       "228357                                0.367890        -0.720769      0.232231   \n",
       "221004                               -0.872673        -0.225775     -0.270395   \n",
       "296315                               -0.206783        -0.077142     -0.255789   \n",
       "245557                               -0.290224        -0.352110     -0.306233   \n",
       "292786                               -0.322564        -0.666738     -0.381377   \n",
       "\n",
       "            GENDER_AGE_ICD9DIAG  ICD9_diagnosis_1_2  ICD9_0_L1_1_2  \\\n",
       "icustay_id                                                           \n",
       "228357                 0.355083           -0.187505      -0.222547   \n",
       "221004                -0.528072           -0.246277      -0.177883   \n",
       "296315                 0.369981           -0.101701      -0.191736   \n",
       "245557                -0.432051           -0.472576      -0.253667   \n",
       "292786                 0.218631           -0.403414      -0.956360   \n",
       "\n",
       "            ICD9_0_L1_1_2_3  \n",
       "icustay_id                   \n",
       "228357             0.394449  \n",
       "221004            -0.847985  \n",
       "296315             0.177013  \n",
       "245557             0.405987  \n",
       "292786            -0.462257  \n",
       "\n",
       "[5 rows x 811 columns]"
      ]
     },
     "execution_count": 5,
     "metadata": {},
     "output_type": "execute_result"
    }
   ],
   "source": [
    "train = pd.read_csv('data/processed/train.csv') \n",
    "train.set_index('icustay_id', inplace=True)\n",
    "\n",
    "print(train.info())\n",
    "train.head()"
   ]
  },
  {
   "cell_type": "code",
   "execution_count": 6,
   "id": "0510df38",
   "metadata": {},
   "outputs": [
    {
     "name": "stdout",
     "output_type": "stream",
     "text": [
      "<class 'pandas.core.frame.DataFrame'>\n",
      "Int64Index: 5221 entries, 286120 to 286384\n",
      "Columns: 810 entries, HeartRate_Min to ICD9_0_L1_1_2_3\n",
      "dtypes: float64(810)\n",
      "memory usage: 32.3 MB\n",
      "None\n"
     ]
    },
    {
     "data": {
      "text/html": [
       "<div>\n",
       "<style scoped>\n",
       "    .dataframe tbody tr th:only-of-type {\n",
       "        vertical-align: middle;\n",
       "    }\n",
       "\n",
       "    .dataframe tbody tr th {\n",
       "        vertical-align: top;\n",
       "    }\n",
       "\n",
       "    .dataframe thead th {\n",
       "        text-align: right;\n",
       "    }\n",
       "</style>\n",
       "<table border=\"1\" class=\"dataframe\">\n",
       "  <thead>\n",
       "    <tr style=\"text-align: right;\">\n",
       "      <th></th>\n",
       "      <th>HeartRate_Min</th>\n",
       "      <th>HeartRate_Max</th>\n",
       "      <th>HeartRate_Mean</th>\n",
       "      <th>SysBP_Min</th>\n",
       "      <th>SysBP_Max</th>\n",
       "      <th>SysBP_Mean</th>\n",
       "      <th>DiasBP_Min</th>\n",
       "      <th>DiasBP_Max</th>\n",
       "      <th>DiasBP_Mean</th>\n",
       "      <th>MeanBP_Min</th>\n",
       "      <th>...</th>\n",
       "      <th>ICD9_CODE_O_10_L1_ICD9_CODE_O_6_L1</th>\n",
       "      <th>ICD9_CODE_O_10_L1_ICD9_CODE_O_7_L1</th>\n",
       "      <th>ICD9_CODE_O_10_L1_ICD9_CODE_O_8_L1</th>\n",
       "      <th>ICD9_CODE_O_10_L1_ICD9_CODE_O_9_L1</th>\n",
       "      <th>GENDER_ICD9DIAG</th>\n",
       "      <th>AGE_ICD9DIAG</th>\n",
       "      <th>GENDER_AGE_ICD9DIAG</th>\n",
       "      <th>ICD9_diagnosis_1_2</th>\n",
       "      <th>ICD9_0_L1_1_2</th>\n",
       "      <th>ICD9_0_L1_1_2_3</th>\n",
       "    </tr>\n",
       "    <tr>\n",
       "      <th>icustay_id</th>\n",
       "      <th></th>\n",
       "      <th></th>\n",
       "      <th></th>\n",
       "      <th></th>\n",
       "      <th></th>\n",
       "      <th></th>\n",
       "      <th></th>\n",
       "      <th></th>\n",
       "      <th></th>\n",
       "      <th></th>\n",
       "      <th></th>\n",
       "      <th></th>\n",
       "      <th></th>\n",
       "      <th></th>\n",
       "      <th></th>\n",
       "      <th></th>\n",
       "      <th></th>\n",
       "      <th></th>\n",
       "      <th></th>\n",
       "      <th></th>\n",
       "      <th></th>\n",
       "    </tr>\n",
       "  </thead>\n",
       "  <tbody>\n",
       "    <tr>\n",
       "      <th>286120</th>\n",
       "      <td>0.02080</td>\n",
       "      <td>-0.010194</td>\n",
       "      <td>0.022425</td>\n",
       "      <td>0.399611</td>\n",
       "      <td>-0.762534</td>\n",
       "      <td>-0.099920</td>\n",
       "      <td>0.227244</td>\n",
       "      <td>-0.657804</td>\n",
       "      <td>-0.368620</td>\n",
       "      <td>0.332543</td>\n",
       "      <td>...</td>\n",
       "      <td>-0.665465</td>\n",
       "      <td>-1.859467</td>\n",
       "      <td>-1.366493</td>\n",
       "      <td>-1.256403</td>\n",
       "      <td>-0.429993</td>\n",
       "      <td>-0.337667</td>\n",
       "      <td>-1.282706</td>\n",
       "      <td>-0.481984</td>\n",
       "      <td>-0.430885</td>\n",
       "      <td>-1.534544</td>\n",
       "    </tr>\n",
       "    <tr>\n",
       "      <th>248206</th>\n",
       "      <td>0.60747</td>\n",
       "      <td>0.234689</td>\n",
       "      <td>0.550471</td>\n",
       "      <td>0.546073</td>\n",
       "      <td>1.413541</td>\n",
       "      <td>1.248266</td>\n",
       "      <td>0.184233</td>\n",
       "      <td>0.221383</td>\n",
       "      <td>0.806786</td>\n",
       "      <td>0.296761</td>\n",
       "      <td>...</td>\n",
       "      <td>1.106359</td>\n",
       "      <td>-0.067872</td>\n",
       "      <td>-0.497785</td>\n",
       "      <td>0.202090</td>\n",
       "      <td>-0.668973</td>\n",
       "      <td>-0.395110</td>\n",
       "      <td>0.458094</td>\n",
       "      <td>-0.651950</td>\n",
       "      <td>0.869419</td>\n",
       "      <td>0.838465</td>\n",
       "    </tr>\n",
       "    <tr>\n",
       "      <th>293175</th>\n",
       "      <td>-0.80744</td>\n",
       "      <td>0.724457</td>\n",
       "      <td>0.140758</td>\n",
       "      <td>0.048102</td>\n",
       "      <td>2.383079</td>\n",
       "      <td>0.063354</td>\n",
       "      <td>-0.374902</td>\n",
       "      <td>0.461162</td>\n",
       "      <td>-0.846234</td>\n",
       "      <td>0.046288</td>\n",
       "      <td>...</td>\n",
       "      <td>-0.410181</td>\n",
       "      <td>-0.724168</td>\n",
       "      <td>-0.541266</td>\n",
       "      <td>0.452246</td>\n",
       "      <td>0.062963</td>\n",
       "      <td>1.314272</td>\n",
       "      <td>0.256677</td>\n",
       "      <td>-0.049629</td>\n",
       "      <td>-0.381478</td>\n",
       "      <td>-0.079716</td>\n",
       "    </tr>\n",
       "    <tr>\n",
       "      <th>240974</th>\n",
       "      <td>0.02080</td>\n",
       "      <td>-1.528474</td>\n",
       "      <td>-0.983438</td>\n",
       "      <td>0.399611</td>\n",
       "      <td>-0.934897</td>\n",
       "      <td>-0.663219</td>\n",
       "      <td>-0.202861</td>\n",
       "      <td>-1.989905</td>\n",
       "      <td>-1.489938</td>\n",
       "      <td>0.117851</td>\n",
       "      <td>...</td>\n",
       "      <td>0.157968</td>\n",
       "      <td>0.013478</td>\n",
       "      <td>-1.776884</td>\n",
       "      <td>-0.095481</td>\n",
       "      <td>1.539817</td>\n",
       "      <td>1.186751</td>\n",
       "      <td>3.854509</td>\n",
       "      <td>-0.240216</td>\n",
       "      <td>1.058680</td>\n",
       "      <td>0.546156</td>\n",
       "    </tr>\n",
       "    <tr>\n",
       "      <th>202015</th>\n",
       "      <td>0.26237</td>\n",
       "      <td>-0.867288</td>\n",
       "      <td>-0.563214</td>\n",
       "      <td>-0.391284</td>\n",
       "      <td>-1.365803</td>\n",
       "      <td>-1.280389</td>\n",
       "      <td>-0.159850</td>\n",
       "      <td>-0.471309</td>\n",
       "      <td>-0.765732</td>\n",
       "      <td>-0.132622</td>\n",
       "      <td>...</td>\n",
       "      <td>0.516158</td>\n",
       "      <td>0.984634</td>\n",
       "      <td>0.792480</td>\n",
       "      <td>-0.798425</td>\n",
       "      <td>-0.209156</td>\n",
       "      <td>0.700259</td>\n",
       "      <td>-1.080735</td>\n",
       "      <td>-0.251975</td>\n",
       "      <td>-1.114369</td>\n",
       "      <td>0.683819</td>\n",
       "    </tr>\n",
       "  </tbody>\n",
       "</table>\n",
       "<p>5 rows × 810 columns</p>\n",
       "</div>"
      ],
      "text/plain": [
       "            HeartRate_Min  HeartRate_Max  HeartRate_Mean  SysBP_Min  \\\n",
       "icustay_id                                                            \n",
       "286120            0.02080      -0.010194        0.022425   0.399611   \n",
       "248206            0.60747       0.234689        0.550471   0.546073   \n",
       "293175           -0.80744       0.724457        0.140758   0.048102   \n",
       "240974            0.02080      -1.528474       -0.983438   0.399611   \n",
       "202015            0.26237      -0.867288       -0.563214  -0.391284   \n",
       "\n",
       "            SysBP_Max  SysBP_Mean  DiasBP_Min  DiasBP_Max  DiasBP_Mean  \\\n",
       "icustay_id                                                               \n",
       "286120      -0.762534   -0.099920    0.227244   -0.657804    -0.368620   \n",
       "248206       1.413541    1.248266    0.184233    0.221383     0.806786   \n",
       "293175       2.383079    0.063354   -0.374902    0.461162    -0.846234   \n",
       "240974      -0.934897   -0.663219   -0.202861   -1.989905    -1.489938   \n",
       "202015      -1.365803   -1.280389   -0.159850   -0.471309    -0.765732   \n",
       "\n",
       "            MeanBP_Min  ...  ICD9_CODE_O_10_L1_ICD9_CODE_O_6_L1  \\\n",
       "icustay_id              ...                                       \n",
       "286120        0.332543  ...                           -0.665465   \n",
       "248206        0.296761  ...                            1.106359   \n",
       "293175        0.046288  ...                           -0.410181   \n",
       "240974        0.117851  ...                            0.157968   \n",
       "202015       -0.132622  ...                            0.516158   \n",
       "\n",
       "            ICD9_CODE_O_10_L1_ICD9_CODE_O_7_L1  \\\n",
       "icustay_id                                       \n",
       "286120                               -1.859467   \n",
       "248206                               -0.067872   \n",
       "293175                               -0.724168   \n",
       "240974                                0.013478   \n",
       "202015                                0.984634   \n",
       "\n",
       "            ICD9_CODE_O_10_L1_ICD9_CODE_O_8_L1  \\\n",
       "icustay_id                                       \n",
       "286120                               -1.366493   \n",
       "248206                               -0.497785   \n",
       "293175                               -0.541266   \n",
       "240974                               -1.776884   \n",
       "202015                                0.792480   \n",
       "\n",
       "            ICD9_CODE_O_10_L1_ICD9_CODE_O_9_L1  GENDER_ICD9DIAG  AGE_ICD9DIAG  \\\n",
       "icustay_id                                                                      \n",
       "286120                               -1.256403        -0.429993     -0.337667   \n",
       "248206                                0.202090        -0.668973     -0.395110   \n",
       "293175                                0.452246         0.062963      1.314272   \n",
       "240974                               -0.095481         1.539817      1.186751   \n",
       "202015                               -0.798425        -0.209156      0.700259   \n",
       "\n",
       "            GENDER_AGE_ICD9DIAG  ICD9_diagnosis_1_2  ICD9_0_L1_1_2  \\\n",
       "icustay_id                                                           \n",
       "286120                -1.282706           -0.481984      -0.430885   \n",
       "248206                 0.458094           -0.651950       0.869419   \n",
       "293175                 0.256677           -0.049629      -0.381478   \n",
       "240974                 3.854509           -0.240216       1.058680   \n",
       "202015                -1.080735           -0.251975      -1.114369   \n",
       "\n",
       "            ICD9_0_L1_1_2_3  \n",
       "icustay_id                   \n",
       "286120            -1.534544  \n",
       "248206             0.838465  \n",
       "293175            -0.079716  \n",
       "240974             0.546156  \n",
       "202015             0.683819  \n",
       "\n",
       "[5 rows x 810 columns]"
      ]
     },
     "execution_count": 6,
     "metadata": {},
     "output_type": "execute_result"
    }
   ],
   "source": [
    "test = pd.read_csv('data/processed/test.csv')\n",
    "test.set_index('icustay_id', inplace=True)\n",
    "print(test.info())\n",
    "test.head()"
   ]
  },
  {
   "cell_type": "code",
   "execution_count": 7,
   "id": "d660691f",
   "metadata": {},
   "outputs": [
    {
     "data": {
      "text/html": [
       "<div>\n",
       "<style scoped>\n",
       "    .dataframe tbody tr th:only-of-type {\n",
       "        vertical-align: middle;\n",
       "    }\n",
       "\n",
       "    .dataframe tbody tr th {\n",
       "        vertical-align: top;\n",
       "    }\n",
       "\n",
       "    .dataframe thead th {\n",
       "        text-align: right;\n",
       "    }\n",
       "</style>\n",
       "<table border=\"1\" class=\"dataframe\">\n",
       "  <thead>\n",
       "    <tr style=\"text-align: right;\">\n",
       "      <th></th>\n",
       "      <th>HeartRate_Min</th>\n",
       "      <th>HeartRate_Max</th>\n",
       "      <th>HeartRate_Mean</th>\n",
       "      <th>SysBP_Min</th>\n",
       "      <th>SysBP_Max</th>\n",
       "      <th>SysBP_Mean</th>\n",
       "      <th>DiasBP_Min</th>\n",
       "      <th>DiasBP_Max</th>\n",
       "      <th>DiasBP_Mean</th>\n",
       "      <th>MeanBP_Min</th>\n",
       "      <th>...</th>\n",
       "      <th>ICD9_CODE_O_10_L1_ICD9_CODE_O_6_L1</th>\n",
       "      <th>ICD9_CODE_O_10_L1_ICD9_CODE_O_7_L1</th>\n",
       "      <th>ICD9_CODE_O_10_L1_ICD9_CODE_O_8_L1</th>\n",
       "      <th>ICD9_CODE_O_10_L1_ICD9_CODE_O_9_L1</th>\n",
       "      <th>GENDER_ICD9DIAG</th>\n",
       "      <th>AGE_ICD9DIAG</th>\n",
       "      <th>GENDER_AGE_ICD9DIAG</th>\n",
       "      <th>ICD9_diagnosis_1_2</th>\n",
       "      <th>ICD9_0_L1_1_2</th>\n",
       "      <th>ICD9_0_L1_1_2_3</th>\n",
       "    </tr>\n",
       "  </thead>\n",
       "  <tbody>\n",
       "    <tr>\n",
       "      <th>count</th>\n",
       "      <td>2.088500e+04</td>\n",
       "      <td>2.088500e+04</td>\n",
       "      <td>2.088500e+04</td>\n",
       "      <td>2.088500e+04</td>\n",
       "      <td>2.088500e+04</td>\n",
       "      <td>2.088500e+04</td>\n",
       "      <td>2.088500e+04</td>\n",
       "      <td>2.088500e+04</td>\n",
       "      <td>2.088500e+04</td>\n",
       "      <td>2.088500e+04</td>\n",
       "      <td>...</td>\n",
       "      <td>2.088500e+04</td>\n",
       "      <td>2.088500e+04</td>\n",
       "      <td>2.088500e+04</td>\n",
       "      <td>2.088500e+04</td>\n",
       "      <td>2.088500e+04</td>\n",
       "      <td>2.088500e+04</td>\n",
       "      <td>2.088500e+04</td>\n",
       "      <td>2.088500e+04</td>\n",
       "      <td>2.088500e+04</td>\n",
       "      <td>2.088500e+04</td>\n",
       "    </tr>\n",
       "    <tr>\n",
       "      <th>mean</th>\n",
       "      <td>-1.170346e-16</td>\n",
       "      <td>6.763509e-16</td>\n",
       "      <td>-5.137273e-16</td>\n",
       "      <td>3.252472e-16</td>\n",
       "      <td>7.688899e-17</td>\n",
       "      <td>-1.670464e-16</td>\n",
       "      <td>7.212596e-17</td>\n",
       "      <td>1.058074e-16</td>\n",
       "      <td>3.380054e-16</td>\n",
       "      <td>7.893029e-17</td>\n",
       "      <td>...</td>\n",
       "      <td>-2.476778e-16</td>\n",
       "      <td>-1.360867e-16</td>\n",
       "      <td>-8.981723e-17</td>\n",
       "      <td>-1.442519e-16</td>\n",
       "      <td>-6.668249e-17</td>\n",
       "      <td>-1.877997e-16</td>\n",
       "      <td>-1.592215e-16</td>\n",
       "      <td>2.041301e-17</td>\n",
       "      <td>1.012145e-16</td>\n",
       "      <td>2.463169e-16</td>\n",
       "    </tr>\n",
       "    <tr>\n",
       "      <th>std</th>\n",
       "      <td>1.000024e+00</td>\n",
       "      <td>1.000024e+00</td>\n",
       "      <td>1.000024e+00</td>\n",
       "      <td>1.000024e+00</td>\n",
       "      <td>1.000024e+00</td>\n",
       "      <td>1.000024e+00</td>\n",
       "      <td>1.000024e+00</td>\n",
       "      <td>1.000024e+00</td>\n",
       "      <td>1.000024e+00</td>\n",
       "      <td>1.000024e+00</td>\n",
       "      <td>...</td>\n",
       "      <td>1.000024e+00</td>\n",
       "      <td>1.000024e+00</td>\n",
       "      <td>1.000024e+00</td>\n",
       "      <td>1.000024e+00</td>\n",
       "      <td>1.000024e+00</td>\n",
       "      <td>1.000024e+00</td>\n",
       "      <td>1.000024e+00</td>\n",
       "      <td>1.000024e+00</td>\n",
       "      <td>1.000024e+00</td>\n",
       "      <td>1.000024e+00</td>\n",
       "    </tr>\n",
       "    <tr>\n",
       "      <th>min</th>\n",
       "      <td>-4.672559e+00</td>\n",
       "      <td>-3.242661e+00</td>\n",
       "      <td>-3.379231e+00</td>\n",
       "      <td>-5.048781e+00</td>\n",
       "      <td>-4.511416e+00</td>\n",
       "      <td>-4.493990e+00</td>\n",
       "      <td>-3.471653e+00</td>\n",
       "      <td>-3.268722e+00</td>\n",
       "      <td>-4.233424e+00</td>\n",
       "      <td>-3.961282e+00</td>\n",
       "      <td>...</td>\n",
       "      <td>-1.935528e+00</td>\n",
       "      <td>-1.863462e+00</td>\n",
       "      <td>-1.789865e+00</td>\n",
       "      <td>-2.077930e+00</td>\n",
       "      <td>-1.430000e+00</td>\n",
       "      <td>-1.615512e+00</td>\n",
       "      <td>-1.699797e+00</td>\n",
       "      <td>-1.414792e+00</td>\n",
       "      <td>-2.322365e+00</td>\n",
       "      <td>-1.539848e+00</td>\n",
       "    </tr>\n",
       "    <tr>\n",
       "      <th>25%</th>\n",
       "      <td>-6.693998e-01</td>\n",
       "      <td>-6.958693e-01</td>\n",
       "      <td>-7.031977e-01</td>\n",
       "      <td>-5.963313e-01</td>\n",
       "      <td>-6.763532e-01</td>\n",
       "      <td>-7.129916e-01</td>\n",
       "      <td>-6.329648e-01</td>\n",
       "      <td>-6.578036e-01</td>\n",
       "      <td>-6.830707e-01</td>\n",
       "      <td>-4.904404e-01</td>\n",
       "      <td>...</td>\n",
       "      <td>-7.310706e-01</td>\n",
       "      <td>-7.314542e-01</td>\n",
       "      <td>-8.648599e-01</td>\n",
       "      <td>-8.515915e-01</td>\n",
       "      <td>-5.684505e-01</td>\n",
       "      <td>-3.723723e-01</td>\n",
       "      <td>-8.035998e-01</td>\n",
       "      <td>-5.263081e-01</td>\n",
       "      <td>-3.898171e-01</td>\n",
       "      <td>-8.594864e-01</td>\n",
       "    </tr>\n",
       "    <tr>\n",
       "      <th>50%</th>\n",
       "      <td>-4.821981e-02</td>\n",
       "      <td>-1.081480e-01</td>\n",
       "      <td>-6.940298e-02</td>\n",
       "      <td>-6.906758e-02</td>\n",
       "      <td>-1.161754e-01</td>\n",
       "      <td>-1.244152e-01</td>\n",
       "      <td>-3.081882e-02</td>\n",
       "      <td>-1.249630e-01</td>\n",
       "      <td>-9.754123e-02</td>\n",
       "      <td>4.628772e-02</td>\n",
       "      <td>...</td>\n",
       "      <td>-2.426725e-01</td>\n",
       "      <td>-2.229611e-01</td>\n",
       "      <td>-1.385517e-01</td>\n",
       "      <td>-2.095608e-01</td>\n",
       "      <td>-2.441321e-01</td>\n",
       "      <td>-2.768436e-01</td>\n",
       "      <td>-2.242948e-01</td>\n",
       "      <td>-2.462080e-01</td>\n",
       "      <td>-3.095189e-01</td>\n",
       "      <td>-2.342205e-01</td>\n",
       "    </tr>\n",
       "    <tr>\n",
       "      <th>75%</th>\n",
       "      <td>6.419801e-01</td>\n",
       "      <td>5.775268e-01</td>\n",
       "      <td>6.436161e-01</td>\n",
       "      <td>5.753659e-01</td>\n",
       "      <td>5.732741e-01</td>\n",
       "      <td>6.096967e-01</td>\n",
       "      <td>5.713272e-01</td>\n",
       "      <td>5.144457e-01</td>\n",
       "      <td>5.840275e-01</td>\n",
       "      <td>5.472340e-01</td>\n",
       "      <td>...</td>\n",
       "      <td>4.033539e-01</td>\n",
       "      <td>4.651695e-01</td>\n",
       "      <td>5.846368e-01</td>\n",
       "      <td>4.023565e-01</td>\n",
       "      <td>4.040529e-01</td>\n",
       "      <td>2.027508e-01</td>\n",
       "      <td>4.898912e-01</td>\n",
       "      <td>3.615776e-01</td>\n",
       "      <td>7.679876e-01</td>\n",
       "      <td>4.393764e-01</td>\n",
       "    </tr>\n",
       "    <tr>\n",
       "      <th>max</th>\n",
       "      <td>4.921220e+00</td>\n",
       "      <td>8.560740e+00</td>\n",
       "      <td>5.272028e+00</td>\n",
       "      <td>5.262155e+00</td>\n",
       "      <td>7.424679e+00</td>\n",
       "      <td>5.098076e+00</td>\n",
       "      <td>5.216453e+00</td>\n",
       "      <td>1.095812e+01</td>\n",
       "      <td>5.477942e+00</td>\n",
       "      <td>4.697932e+00</td>\n",
       "      <td>...</td>\n",
       "      <td>4.478316e+00</td>\n",
       "      <td>4.086195e+00</td>\n",
       "      <td>6.123562e+00</td>\n",
       "      <td>5.683030e+00</td>\n",
       "      <td>4.377255e+00</td>\n",
       "      <td>4.182976e+00</td>\n",
       "      <td>4.017619e+00</td>\n",
       "      <td>5.028782e+00</td>\n",
       "      <td>3.656957e+00</td>\n",
       "      <td>3.170778e+00</td>\n",
       "    </tr>\n",
       "  </tbody>\n",
       "</table>\n",
       "<p>8 rows × 811 columns</p>\n",
       "</div>"
      ],
      "text/plain": [
       "       HeartRate_Min  HeartRate_Max  HeartRate_Mean     SysBP_Min  \\\n",
       "count   2.088500e+04   2.088500e+04    2.088500e+04  2.088500e+04   \n",
       "mean   -1.170346e-16   6.763509e-16   -5.137273e-16  3.252472e-16   \n",
       "std     1.000024e+00   1.000024e+00    1.000024e+00  1.000024e+00   \n",
       "min    -4.672559e+00  -3.242661e+00   -3.379231e+00 -5.048781e+00   \n",
       "25%    -6.693998e-01  -6.958693e-01   -7.031977e-01 -5.963313e-01   \n",
       "50%    -4.821981e-02  -1.081480e-01   -6.940298e-02 -6.906758e-02   \n",
       "75%     6.419801e-01   5.775268e-01    6.436161e-01  5.753659e-01   \n",
       "max     4.921220e+00   8.560740e+00    5.272028e+00  5.262155e+00   \n",
       "\n",
       "          SysBP_Max    SysBP_Mean    DiasBP_Min    DiasBP_Max   DiasBP_Mean  \\\n",
       "count  2.088500e+04  2.088500e+04  2.088500e+04  2.088500e+04  2.088500e+04   \n",
       "mean   7.688899e-17 -1.670464e-16  7.212596e-17  1.058074e-16  3.380054e-16   \n",
       "std    1.000024e+00  1.000024e+00  1.000024e+00  1.000024e+00  1.000024e+00   \n",
       "min   -4.511416e+00 -4.493990e+00 -3.471653e+00 -3.268722e+00 -4.233424e+00   \n",
       "25%   -6.763532e-01 -7.129916e-01 -6.329648e-01 -6.578036e-01 -6.830707e-01   \n",
       "50%   -1.161754e-01 -1.244152e-01 -3.081882e-02 -1.249630e-01 -9.754123e-02   \n",
       "75%    5.732741e-01  6.096967e-01  5.713272e-01  5.144457e-01  5.840275e-01   \n",
       "max    7.424679e+00  5.098076e+00  5.216453e+00  1.095812e+01  5.477942e+00   \n",
       "\n",
       "         MeanBP_Min  ...  ICD9_CODE_O_10_L1_ICD9_CODE_O_6_L1  \\\n",
       "count  2.088500e+04  ...                        2.088500e+04   \n",
       "mean   7.893029e-17  ...                       -2.476778e-16   \n",
       "std    1.000024e+00  ...                        1.000024e+00   \n",
       "min   -3.961282e+00  ...                       -1.935528e+00   \n",
       "25%   -4.904404e-01  ...                       -7.310706e-01   \n",
       "50%    4.628772e-02  ...                       -2.426725e-01   \n",
       "75%    5.472340e-01  ...                        4.033539e-01   \n",
       "max    4.697932e+00  ...                        4.478316e+00   \n",
       "\n",
       "       ICD9_CODE_O_10_L1_ICD9_CODE_O_7_L1  ICD9_CODE_O_10_L1_ICD9_CODE_O_8_L1  \\\n",
       "count                        2.088500e+04                        2.088500e+04   \n",
       "mean                        -1.360867e-16                       -8.981723e-17   \n",
       "std                          1.000024e+00                        1.000024e+00   \n",
       "min                         -1.863462e+00                       -1.789865e+00   \n",
       "25%                         -7.314542e-01                       -8.648599e-01   \n",
       "50%                         -2.229611e-01                       -1.385517e-01   \n",
       "75%                          4.651695e-01                        5.846368e-01   \n",
       "max                          4.086195e+00                        6.123562e+00   \n",
       "\n",
       "       ICD9_CODE_O_10_L1_ICD9_CODE_O_9_L1  GENDER_ICD9DIAG  AGE_ICD9DIAG  \\\n",
       "count                        2.088500e+04     2.088500e+04  2.088500e+04   \n",
       "mean                        -1.442519e-16    -6.668249e-17 -1.877997e-16   \n",
       "std                          1.000024e+00     1.000024e+00  1.000024e+00   \n",
       "min                         -2.077930e+00    -1.430000e+00 -1.615512e+00   \n",
       "25%                         -8.515915e-01    -5.684505e-01 -3.723723e-01   \n",
       "50%                         -2.095608e-01    -2.441321e-01 -2.768436e-01   \n",
       "75%                          4.023565e-01     4.040529e-01  2.027508e-01   \n",
       "max                          5.683030e+00     4.377255e+00  4.182976e+00   \n",
       "\n",
       "       GENDER_AGE_ICD9DIAG  ICD9_diagnosis_1_2  ICD9_0_L1_1_2  ICD9_0_L1_1_2_3  \n",
       "count         2.088500e+04        2.088500e+04   2.088500e+04     2.088500e+04  \n",
       "mean         -1.592215e-16        2.041301e-17   1.012145e-16     2.463169e-16  \n",
       "std           1.000024e+00        1.000024e+00   1.000024e+00     1.000024e+00  \n",
       "min          -1.699797e+00       -1.414792e+00  -2.322365e+00    -1.539848e+00  \n",
       "25%          -8.035998e-01       -5.263081e-01  -3.898171e-01    -8.594864e-01  \n",
       "50%          -2.242948e-01       -2.462080e-01  -3.095189e-01    -2.342205e-01  \n",
       "75%           4.898912e-01        3.615776e-01   7.679876e-01     4.393764e-01  \n",
       "max           4.017619e+00        5.028782e+00   3.656957e+00     3.170778e+00  \n",
       "\n",
       "[8 rows x 811 columns]"
      ]
     },
     "execution_count": 7,
     "metadata": {},
     "output_type": "execute_result"
    }
   ],
   "source": [
    "train.describe()"
   ]
  },
  {
   "cell_type": "code",
   "execution_count": 10,
   "id": "c27577b8",
   "metadata": {},
   "outputs": [
    {
     "name": "stdout",
     "output_type": "stream",
     "text": [
      "(20885, 810)\n",
      "(5221, 810)\n"
     ]
    }
   ],
   "source": [
    "# Create the X, y and target objects\n",
    "target = 'HOSPITAL_EXPIRE_FLAG'\n",
    "y = train[target]\n",
    "X_train = train.drop(target, axis=1)\n",
    "X_test = test\n",
    "print(X_train.shape)\n",
    "print(X_test.shape)"
   ]
  },
  {
   "cell_type": "code",
   "execution_count": 11,
   "id": "fe503e07",
   "metadata": {},
   "outputs": [],
   "source": [
    "feature_names = X_test.columns"
   ]
  },
  {
   "cell_type": "markdown",
   "id": "3021269c",
   "metadata": {},
   "source": [
    "As we can see, the data is standarized and It has 810 columns with 20.885 rows in the training data set and 5221 in the test dataframe. Lets start running models, first K-Nearest Neighbors (KNN) and then Support Vector Machines (SVM)"
   ]
  },
  {
   "cell_type": "markdown",
   "id": "249efd21",
   "metadata": {},
   "source": [
    "# K-Nearest Neighbors (KNN)\n",
    "\n",
    "## Base line KNNn model"
   ]
  },
  {
   "cell_type": "markdown",
   "id": "36c11f57",
   "metadata": {},
   "source": [
    "First, I fit a KNN model with the default parameters and the data that I prepared in the Notebook: \"Data preparation\". Since the kaggle competition is based in the Area Under the Curve (AUC) of the Receiving Operating Characteristic line (ROC) I am focused on this metric. The average AUC from this first model is the started point from wich I expect to improve by hyperparamenter tunning and dealing the class imbalance."
   ]
  },
  {
   "cell_type": "code",
   "execution_count": 12,
   "id": "6595be1a",
   "metadata": {},
   "outputs": [],
   "source": [
    "# Initial libraries\n",
    "from sklearn.neighbors import KNeighborsClassifier\n",
    "from sklearn.model_selection import KFold, StratifiedKFold\n",
    "from sklearn.metrics import roc_auc_score, recall_score, f1_score"
   ]
  },
  {
   "cell_type": "code",
   "execution_count": 332,
   "id": "857b379a",
   "metadata": {},
   "outputs": [],
   "source": [
    "# Fist model with default parameters \n",
    "model_knn_bl = KNeighborsClassifier()\n",
    "splitter = StratifiedKFold(n_splits=5, random_state=None, shuffle=True)\n",
    "\n",
    "metrics = []\n",
    "# Split train data into train and validation to predict over unobserved data\n",
    "for train_index, val_index in splitter.split(X_train, y):\n",
    "    train_df, val_df = X_train.iloc[train_index], X_train.iloc[val_index] \n",
    "    train_y, val_y = y.iloc[train_index], y.iloc[val_index] \n",
    "\n",
    "    model_knn_bl.fit(train_df, train_y)\n",
    "    predictions = model_knn_bl.predict_proba(val_df)\n",
    "    metrics.append(roc_auc_score(val_y, predictions[:,1]))"
   ]
  },
  {
   "cell_type": "markdown",
   "id": "574754c5",
   "metadata": {},
   "source": [
    "Above, I use kfold splits to validate the model over data that was not observed by the model in the fitting process-"
   ]
  },
  {
   "cell_type": "code",
   "execution_count": 334,
   "id": "6f5bdd5a",
   "metadata": {},
   "outputs": [
    {
     "name": "stdout",
     "output_type": "stream",
     "text": [
      "[0.7929081476574594, 0.798857653480172, 0.7774652511828284, 0.793152533679269, 0.7880776423016678]\n",
      "0.7900922456602794\n"
     ]
    }
   ],
   "source": [
    "print(metrics)\n",
    "print(np.mean(metrics))"
   ]
  },
  {
   "cell_type": "code",
   "execution_count": 335,
   "id": "0290f1b6",
   "metadata": {},
   "outputs": [
    {
     "data": {
      "image/png": "[encoded data removed]",
      "text/plain": [
       "<Figure size 432x288 with 1 Axes>"
      ]
     },
     "metadata": {
      "needs_background": "light"
     },
     "output_type": "display_data"
    }
   ],
   "source": [
    "# Plot of the Roc curve and AUC using a function from my module (customplots) in the validation data\n",
    "roc_curve_plot(val_y, predictions[:,1])"
   ]
  },
  {
   "cell_type": "markdown",
   "id": "dd33f5e2",
   "metadata": {},
   "source": [
    "Now I fit this basic model with the full data (no validation data)"
   ]
  },
  {
   "cell_type": "code",
   "execution_count": 22,
   "id": "e30d9173",
   "metadata": {},
   "outputs": [],
   "source": [
    "model_knn_bl.fit(X_train, y)\n",
    "y_train_hat_knn_bl = model_knn_bl.predict_proba(X_train)"
   ]
  },
  {
   "cell_type": "code",
   "execution_count": 23,
   "id": "fd9c1d6b",
   "metadata": {},
   "outputs": [
    {
     "data": {
      "image/png": "[encoded data removed]",
      "text/plain": [
       "<Figure size 432x288 with 1 Axes>"
      ]
     },
     "metadata": {
      "needs_background": "light"
     },
     "output_type": "display_data"
    }
   ],
   "source": [
    "roc_curve_plot(y, y_train_hat_knn_bl[:,1])"
   ]
  },
  {
   "cell_type": "markdown",
   "id": "b8655da1",
   "metadata": {},
   "source": [
    "Note the huge difference of the AUC when predicts observed data and when there were not observed data. This overfitting is expected since we haven't started to find the best paramenters of the knn model.\n",
    "\n",
    "Lets send predicictions of this basic model to kaggle to have some information from the leaderboard."
   ]
  },
  {
   "cell_type": "code",
   "execution_count": 25,
   "id": "b41caed3",
   "metadata": {},
   "outputs": [],
   "source": [
    "y_test_hat_knn_bl = model_knn_bl.predict_proba(X_test)\n",
    "\n",
    "test_predictions_submit = pd.DataFrame({\"icustay_id\": test.index, \"HOSPITAL_EXPIRE_FLAG\": y_test_hat_knn_bl[:,1]})\n",
    "test_predictions_submit.to_csv(\"data/outputs/knn_bl.csv\", index = False)"
   ]
  },
  {
   "cell_type": "markdown",
   "id": "3e59d15c",
   "metadata": {},
   "source": [
    "The score of these predictions in the public leaderboard of the competence in the same as the cross-validated AUC score. \n",
    "This is a good sign that shows that the validation process that I am following is right. Lets start improving the model by incluiding class imbalance and hyperparamenter tunning. "
   ]
  },
  {
   "cell_type": "markdown",
   "id": "42642c31",
   "metadata": {},
   "source": [
    "## A better approach -  Class imbalance and hyperparameter tunning\n",
    "\n",
    "Henceforth, I will try to improve the predictions by searching a way to del with the class imbalance and by doing hyperparameter tunning over the number of neighbors, the distance and if the distance is weighted."
   ]
  },
  {
   "cell_type": "markdown",
   "id": "07ce27b7",
   "metadata": {},
   "source": [
    "### Class imbalance\n",
    "\n",
    "Since the KNN class from Sklearn do not have any parameter to manage the class imbalance of the data I will use the library imblearn, which includes several algorithms of under sampling and over sampling to deal with imbalanced datasets. The strategy to follow is simple, test with crosvalidation several approaches and choose the one that improves the AUC. I will also include my own class for reweight probabilities (as we saw in clas the last term)."
   ]
  },
  {
   "cell_type": "code",
   "execution_count": 13,
   "id": "263772ba",
   "metadata": {},
   "outputs": [],
   "source": [
    "# Import imblearn and the classes for undersampling\n",
    "import imblearn\n",
    "from imblearn.under_sampling import RandomUnderSampler, NearMiss, OneSidedSelection, NeighbourhoodCleaningRule, TomekLinks"
   ]
  },
  {
   "cell_type": "markdown",
   "id": "b3f4c1bd",
   "metadata": {},
   "source": [
    "I coded the reweight probability class to include a option in which I choose if it have to reweight or not to include in the pipeline to compare performance of the model."
   ]
  },
  {
   "cell_type": "code",
   "execution_count": 10,
   "id": "4ac5789e",
   "metadata": {},
   "outputs": [],
   "source": [
    "# List of undersamplig methos with default parameters\n",
    "under_sampling = [RandomUnderSampler(random_state=123),\n",
    "                  NearMiss(),\n",
    "                  OneSidedSelection(random_state=123), \n",
    "                  NeighbourhoodCleaningRule(),\n",
    "                  TomekLinks()]\n",
    "\n",
    "# Class ReweightProba (as it was seen in the last term)\n",
    "reweight = [ReweightProba(reweight=False), ReweightProba(reweight=True)]"
   ]
  },
  {
   "cell_type": "markdown",
   "id": "57874b40",
   "metadata": {},
   "source": [
    "The next function is a pipeline hat test the algorimg of under sampling from imblearn with and without reweight of probabilities. I included the f1 score to have more information about the performance of the models "
   ]
  },
  {
   "cell_type": "code",
   "execution_count": 244,
   "id": "c2fe4b21",
   "metadata": {},
   "outputs": [
    {
     "data": {
      "text/html": [
       "<div>\n",
       "<style scoped>\n",
       "    .dataframe tbody tr th:only-of-type {\n",
       "        vertical-align: middle;\n",
       "    }\n",
       "\n",
       "    .dataframe tbody tr th {\n",
       "        vertical-align: top;\n",
       "    }\n",
       "\n",
       "    .dataframe thead th {\n",
       "        text-align: right;\n",
       "    }\n",
       "</style>\n",
       "<table border=\"1\" class=\"dataframe\">\n",
       "  <thead>\n",
       "    <tr style=\"text-align: right;\">\n",
       "      <th></th>\n",
       "      <th></th>\n",
       "      <th>auc</th>\n",
       "      <th>f1</th>\n",
       "    </tr>\n",
       "    <tr>\n",
       "      <th>method</th>\n",
       "      <th>reweighted</th>\n",
       "      <th></th>\n",
       "      <th></th>\n",
       "    </tr>\n",
       "  </thead>\n",
       "  <tbody>\n",
       "    <tr>\n",
       "      <th rowspan=\"2\" valign=\"top\">NearMiss()</th>\n",
       "      <th>0</th>\n",
       "      <td>0.809772</td>\n",
       "      <td>0.446022</td>\n",
       "    </tr>\n",
       "    <tr>\n",
       "      <th>1</th>\n",
       "      <td>0.809772</td>\n",
       "      <td>0.289587</td>\n",
       "    </tr>\n",
       "    <tr>\n",
       "      <th rowspan=\"2\" valign=\"top\">Neighbourh</th>\n",
       "      <th>0</th>\n",
       "      <td>0.833107</td>\n",
       "      <td>0.494112</td>\n",
       "    </tr>\n",
       "    <tr>\n",
       "      <th>1</th>\n",
       "      <td>0.833107</td>\n",
       "      <td>0.259410</td>\n",
       "    </tr>\n",
       "    <tr>\n",
       "      <th rowspan=\"2\" valign=\"top\">OneSidedSe</th>\n",
       "      <th>0</th>\n",
       "      <td>0.789187</td>\n",
       "      <td>0.364320</td>\n",
       "    </tr>\n",
       "    <tr>\n",
       "      <th>1</th>\n",
       "      <td>0.789187</td>\n",
       "      <td>0.088269</td>\n",
       "    </tr>\n",
       "    <tr>\n",
       "      <th rowspan=\"2\" valign=\"top\">RandomUnde</th>\n",
       "      <th>0</th>\n",
       "      <td>0.844075</td>\n",
       "      <td>0.448690</td>\n",
       "    </tr>\n",
       "    <tr>\n",
       "      <th>1</th>\n",
       "      <td>0.844075</td>\n",
       "      <td>0.365706</td>\n",
       "    </tr>\n",
       "    <tr>\n",
       "      <th rowspan=\"2\" valign=\"top\">TomekLinks</th>\n",
       "      <th>0</th>\n",
       "      <td>0.789260</td>\n",
       "      <td>0.364320</td>\n",
       "    </tr>\n",
       "    <tr>\n",
       "      <th>1</th>\n",
       "      <td>0.789260</td>\n",
       "      <td>0.088269</td>\n",
       "    </tr>\n",
       "  </tbody>\n",
       "</table>\n",
       "</div>"
      ],
      "text/plain": [
       "                            auc        f1\n",
       "method     reweighted                    \n",
       "NearMiss() 0           0.809772  0.446022\n",
       "           1           0.809772  0.289587\n",
       "Neighbourh 0           0.833107  0.494112\n",
       "           1           0.833107  0.259410\n",
       "OneSidedSe 0           0.789187  0.364320\n",
       "           1           0.789187  0.088269\n",
       "RandomUnde 0           0.844075  0.448690\n",
       "           1           0.844075  0.365706\n",
       "TomekLinks 0           0.789260  0.364320\n",
       "           1           0.789260  0.088269"
      ]
     },
     "execution_count": 244,
     "metadata": {},
     "output_type": "execute_result"
    }
   ],
   "source": [
    "def class_imbalance_pipeline(model, classb_method, reweight_method):\n",
    "\n",
    "    splitter = StratifiedKFold(n_splits=5, random_state=123, shuffle=True)\n",
    "\n",
    "    fits_data = {}\n",
    "    fits_data['method'] = []; fits_data['reweighted'] = []; fits_data['nrows'] = []; fits_data['auc'] = []; fits_data['f1'] = []\n",
    "\n",
    "    for train_index, val_index in splitter.split(X_train, y):\n",
    "        train_df, val_df = X_train.iloc[train_index], X_train.iloc[val_index] \n",
    "        train_y, val_y = y.iloc[train_index], y.iloc[val_index] \n",
    "\n",
    "        for method in classb_method:\n",
    "            for j, adjust in enumerate(reweight_method):\n",
    "                X_resampled, y_resampled = method.fit_resample(train_df, train_y) # Resampling only the training data\n",
    "                \n",
    "                model.fit(X_resampled, y_resampled) # Fitting over the resampled training dataset\n",
    "                predictions = model.predict_proba(val_df) # predictions over the dataset for validation\n",
    "\n",
    "                reweighted_transformer = adjust\n",
    "                reweighted_transformer.fit(predictions[:,1], y.mean() ,0.5)\n",
    "                predictions_a = reweighted_transformer.transform(predictions[:,1])\n",
    "\n",
    "                # Save the information in a dictionary\n",
    "                fits_data['method'].append(str(method)[:10])\n",
    "                fits_data['reweighted'].append(j)\n",
    "                fits_data['nrows'].append(X_resampled.shape[0])\n",
    "                fits_data['auc'].append(roc_auc_score(val_y, predictions_a))\n",
    "                fits_data['f1'].append(f1_score(val_y, (predictions_a > 0.5).astype(int)))\n",
    "\n",
    "    return pd.DataFrame(fits_data)\n",
    "\n",
    "model_knn_bl = KNeighborsClassifier()\n",
    "\n",
    "df_fits_under = class_imbalance_pipeline(model_knn_bl, under_sampling, reweight)\n",
    "df_fits_under.groupby(['method', 'reweighted'])['auc', 'f1'].mean()"
   ]
  },
  {
   "cell_type": "markdown",
   "id": "3b68c79f",
   "metadata": {},
   "source": [
    "The table above shows that the reweight of probabilities do not affect the auc (for that reason I included the F1) and the F1 score is better if I do not reweighted the probabilities.\n",
    "\n",
    "Besides, according with the above table, the best strategy for dealing with class imbalance by the under-sampling approach is the Random undersampling. However this algorith's drawback is that is trained with same amount of rows whose target value is 1. This means that uses only around 12% of the training data.\n",
    "\n",
    "Another good algorithm to use is the Neighborhood Cleaning Rule NCR (NeighbourhoodCleaningRule()), this method belongs to the family of Cleaning under-sampling techniques, which consist in clear the noisy observations of the dataset (cleaning the data) instead of create a balanced data. The method of NCR is show in the next table, it performs a process in which noisy rows are droped. \n",
    "\n",
    "The full explanation of NCR is available in https://sci2s.ugr.es/keel/pdf/algorithm/congreso/2001-Laurikkala-LNCS.pdf"
   ]
  },
  {
   "attachments": {
    "NCR.png": {
     "image/png": "[encoded data removed]"
    }
   },
   "cell_type": "markdown",
   "id": "c1347242",
   "metadata": {},
   "source": [
    "![NCR.png](attachment:NCR.png)"
   ]
  },
  {
   "cell_type": "markdown",
   "id": "da273b46",
   "metadata": {},
   "source": [
    "Lets see now how well a couple of algorithms for over sampling from imblearn work in constrast with the undersampling methods"
   ]
  },
  {
   "cell_type": "code",
   "execution_count": 14,
   "id": "caeac180",
   "metadata": {},
   "outputs": [],
   "source": [
    "# Classes for over samplig from imblearn\n",
    "from imblearn.over_sampling import RandomOverSampler, SMOTE, ADASYN, ADASYN, BorderlineSMOTE"
   ]
  },
  {
   "cell_type": "code",
   "execution_count": 25,
   "id": "5513ce1d",
   "metadata": {},
   "outputs": [],
   "source": [
    "# Algorithm to use with default paramenters (only choose the radom_state)\n",
    "over_sampling = [RandomOverSampler(random_state=123),\n",
    "                 SMOTE(random_state=123),\n",
    "                 ADASYN(random_state=123), \n",
    "                 BorderlineSMOTE(random_state=123)]"
   ]
  },
  {
   "cell_type": "code",
   "execution_count": 246,
   "id": "71394104",
   "metadata": {},
   "outputs": [
    {
     "data": {
      "text/html": [
       "<div>\n",
       "<style scoped>\n",
       "    .dataframe tbody tr th:only-of-type {\n",
       "        vertical-align: middle;\n",
       "    }\n",
       "\n",
       "    .dataframe tbody tr th {\n",
       "        vertical-align: top;\n",
       "    }\n",
       "\n",
       "    .dataframe thead th {\n",
       "        text-align: right;\n",
       "    }\n",
       "</style>\n",
       "<table border=\"1\" class=\"dataframe\">\n",
       "  <thead>\n",
       "    <tr style=\"text-align: right;\">\n",
       "      <th></th>\n",
       "      <th></th>\n",
       "      <th>auc</th>\n",
       "      <th>f1</th>\n",
       "    </tr>\n",
       "    <tr>\n",
       "      <th>method</th>\n",
       "      <th>reweighted</th>\n",
       "      <th></th>\n",
       "      <th></th>\n",
       "    </tr>\n",
       "  </thead>\n",
       "  <tbody>\n",
       "    <tr>\n",
       "      <th rowspan=\"2\" valign=\"top\">ADASYN(ran</th>\n",
       "      <th>0</th>\n",
       "      <td>0.763994</td>\n",
       "      <td>0.271630</td>\n",
       "    </tr>\n",
       "    <tr>\n",
       "      <th>1</th>\n",
       "      <td>0.763994</td>\n",
       "      <td>0.362083</td>\n",
       "    </tr>\n",
       "    <tr>\n",
       "      <th rowspan=\"2\" valign=\"top\">Borderline</th>\n",
       "      <th>0</th>\n",
       "      <td>0.787103</td>\n",
       "      <td>0.292251</td>\n",
       "    </tr>\n",
       "    <tr>\n",
       "      <th>1</th>\n",
       "      <td>0.787103</td>\n",
       "      <td>0.392064</td>\n",
       "    </tr>\n",
       "    <tr>\n",
       "      <th rowspan=\"2\" valign=\"top\">RandomOver</th>\n",
       "      <th>0</th>\n",
       "      <td>0.783184</td>\n",
       "      <td>0.449111</td>\n",
       "    </tr>\n",
       "    <tr>\n",
       "      <th>1</th>\n",
       "      <td>0.783184</td>\n",
       "      <td>0.433596</td>\n",
       "    </tr>\n",
       "    <tr>\n",
       "      <th rowspan=\"2\" valign=\"top\">SMOTE(rand</th>\n",
       "      <th>0</th>\n",
       "      <td>0.772339</td>\n",
       "      <td>0.277340</td>\n",
       "    </tr>\n",
       "    <tr>\n",
       "      <th>1</th>\n",
       "      <td>0.772339</td>\n",
       "      <td>0.372561</td>\n",
       "    </tr>\n",
       "  </tbody>\n",
       "</table>\n",
       "</div>"
      ],
      "text/plain": [
       "                            auc        f1\n",
       "method     reweighted                    \n",
       "ADASYN(ran 0           0.763994  0.271630\n",
       "           1           0.763994  0.362083\n",
       "Borderline 0           0.787103  0.292251\n",
       "           1           0.787103  0.392064\n",
       "RandomOver 0           0.783184  0.449111\n",
       "           1           0.783184  0.433596\n",
       "SMOTE(rand 0           0.772339  0.277340\n",
       "           1           0.772339  0.372561"
      ]
     },
     "execution_count": 246,
     "metadata": {},
     "output_type": "execute_result"
    }
   ],
   "source": [
    "df_fits_over = class_imbalance_pipeline(model_knn_bl, over_sampling, reweight)\n",
    "df_fits_over.groupby(['method', 'reweighted'])['auc', 'f1'].mean()"
   ]
  },
  {
   "cell_type": "markdown",
   "id": "a0477b76",
   "metadata": {},
   "source": [
    "The table above shows that in this case, the reweight improves F1 score in all of the methods (shoud I use a different function to reweight if I do undersampling?). However the performance in both the AUC and the F1 is lower in all the methods of oversampling in constrast with undersampling.\n",
    "\n",
    "According with the above, I will use the NCR method for under sampling. However I want to do a smalll grid search over the parameters of the NCR method to work with the best approach to balanced data possible."
   ]
  },
  {
   "cell_type": "markdown",
   "id": "1a3fd0fc",
   "metadata": {},
   "source": [
    "#### Grid search over the choosen method for dealing with imbalanced classes\n",
    "\n",
    "The next loop does grid search over a list of NeighbourhoodCleaningRule() classes with different values for number of neighbors and the method to select the row to eliminate from the data."
   ]
  },
  {
   "cell_type": "code",
   "execution_count": 298,
   "id": "3db2a7fb",
   "metadata": {},
   "outputs": [
    {
     "data": {
      "text/plain": [
       "Params\n",
       "default           0.833107\n",
       "k=1, sel=all      0.811232\n",
       "k=1, sel=mode     0.811232\n",
       "k=10, sel=all     0.851447\n",
       "k=10, sel=mode    0.850478\n",
       "k=15, sel=all     0.849540\n",
       "k=15, sel=mode    0.850478\n",
       "k=20, sel=all     0.849540\n",
       "k=20, sel=mode    0.849533\n",
       "k=5, sel=all      0.841145\n",
       "k=5, sel=mode     0.840507\n",
       "Name: AUC, dtype: float64"
      ]
     },
     "execution_count": 298,
     "metadata": {},
     "output_type": "execute_result"
    }
   ],
   "source": [
    "# List (with) names of the methods of NCR to fit over\n",
    "NCR_gs = [('default', NeighbourhoodCleaningRule()),\n",
    "                 ('k=1, sel=all', NeighbourhoodCleaningRule(n_neighbors = 1, kind_sel = \"all\")),\n",
    "                 ('k=5, sel=all', NeighbourhoodCleaningRule(n_neighbors = 5, kind_sel = \"all\")),\n",
    "                 ('k=10, sel=all', NeighbourhoodCleaningRule(n_neighbors = 10, kind_sel = \"all\")),\n",
    "                 ('k=15, sel=all', NeighbourhoodCleaningRule(n_neighbors = 20, kind_sel = \"all\")),\n",
    "                 ('k=20, sel=all', NeighbourhoodCleaningRule(n_neighbors = 20, kind_sel = \"all\")),\n",
    "                 ('k=1, sel=mode', NeighbourhoodCleaningRule(n_neighbors = 1, kind_sel = \"mode\")),\n",
    "                 ('k=5, sel=mode', NeighbourhoodCleaningRule(n_neighbors = 5, kind_sel = \"mode\")),\n",
    "                 ('k=10, sel=mode', NeighbourhoodCleaningRule(n_neighbors = 10, kind_sel = \"mode\")),\n",
    "                 ('k=15, sel=mode', NeighbourhoodCleaningRule(n_neighbors = 10, kind_sel = \"mode\")),\n",
    "                 ('k=20, sel=mode', NeighbourhoodCleaningRule(n_neighbors = 20, kind_sel = \"mode\"))]\n",
    "\n",
    "# The splitter is a stratifield k fold since we have imbalanced data\n",
    "splitter = StratifiedKFold(n_splits=5, random_state=123, shuffle=True)\n",
    "\n",
    "# Dictionary to save results \n",
    "data = {}; data['Params'] = []; data['AUC'] = []\n",
    "\n",
    "# Loop that splits the data into training and validation 5 times, for each method. It is a grid search made by hand.\n",
    "for train_index, val_index in splitter.split(X_train, y):\n",
    "        train_df, val_df = X_train.iloc[train_index], X_train.iloc[val_index] \n",
    "        train_y, val_y = y.iloc[train_index], y.iloc[val_index] \n",
    "\n",
    "        for name, method in NCR_gs:\n",
    "            X_resampled, y_resampled = method.fit_resample(train_df, train_y)\n",
    "\n",
    "            model_knn_bl.fit(X_resampled, y_resampled)\n",
    "            predictions = model_knn_bl.predict_proba(val_df)\n",
    "            \n",
    "            data['Params'].append(name)\n",
    "            data['AUC'].append(roc_auc_score(val_y, predictions[:,1]))\n",
    "            \n",
    "# Data and data.frame\n",
    "df_fits_NCR = pd.DataFrame(data)\n",
    "df_fits_NCR.groupby(['Params'])['AUC'].mean()"
   ]
  },
  {
   "cell_type": "markdown",
   "id": "c12bcc1d",
   "metadata": {},
   "source": [
    "The output from above shows that by selecting the undersampling method (NCR) with 10 neighbors and deleting the rows based on the class of all of the ten neighbors, improves mre the AUC of a simple (without tunned parameters) KNN algorithm."
   ]
  },
  {
   "cell_type": "code",
   "execution_count": 264,
   "id": "2e7c6b84",
   "metadata": {},
   "outputs": [
    {
     "name": "stdout",
     "output_type": "stream",
     "text": [
      "(20885, 810) (20885,)\n",
      "(17902, 810) (17902,)\n"
     ]
    }
   ],
   "source": [
    "model_knn_bl_r = KNeighborsClassifier()\n",
    "resampling_m1 = NeighbourhoodCleaningRule(n_neighbors = 10, kind_sel = \"all\")\n",
    "\n",
    "print(X_train.shape, y.shape)\n",
    "X_resampled, y_resampled = resampling_m1.fit_resample(X_train, y)\n",
    "print(X_resampled.shape, y_resampled.shape)"
   ]
  },
  {
   "cell_type": "markdown",
   "id": "9e72160d",
   "metadata": {},
   "source": [
    "Look that now the resampled training data have 17902 rows. As it was seen in the grid search to select the parameters of the undersamppling method, the crossvalidated value of AUC is 0.851447. Lets upload predicted probabilities of this model and seing if there is an improvement in the score in the public leaderboard."
   ]
  },
  {
   "cell_type": "code",
   "execution_count": 268,
   "id": "a78f953e",
   "metadata": {},
   "outputs": [],
   "source": [
    "y_test_hat_knn_bl_r = model_knn_bl_r.predict_proba(X_test)\n",
    "\n",
    "test_predictions_submit = pd.DataFrame({\"icustay_id\": X_test.index, \"HOSPITAL_EXPIRE_FLAG\": y_test_hat_knn_bl_r[:,1]})\n",
    "test_predictions_submit.to_csv(\"data/outputs/knn_bl_r.csv\", index = False)"
   ]
  },
  {
   "cell_type": "markdown",
   "id": "719cdc7b",
   "metadata": {},
   "source": [
    "The new predictions score ≈0.80 in the leaderboard. Far from the ≈0.85 seen in the cross validated intern score. Now I want to do hyper parameter tunning over the parameters of the knn class of sklearn."
   ]
  },
  {
   "cell_type": "markdown",
   "id": "9e4a6d4f",
   "metadata": {},
   "source": [
    "### Hyper parameter tunning\n",
    "\n",
    "In this section using the undersampling method choosen above I will run a grid search to select the best paramenters of the KNN algorithm. Since the process is first fit a model in the resampled data and then predict over no-resampled test data the normal class of gridsearch does not work. For this reason I created my own loop to make the process more similar better."
   ]
  },
  {
   "cell_type": "code",
   "execution_count": 299,
   "id": "1f4a4ff9",
   "metadata": {},
   "outputs": [
    {
     "name": "stdout",
     "output_type": "stream",
     "text": [
      "k: 50 uniform p: 1  :  0.8565403961047433\n",
      "k: 50 uniform p: 2  :  0.8684683790652927\n",
      "k: 50 distance p: 1  :  0.8656728212309497\n",
      "k: 50 distance p: 2  :  0.8721817002328406\n",
      "k: 100 uniform p: 1  :  0.8556373346270966\n",
      "k: 100 uniform p: 2  :  0.8671391475496601\n",
      "k: 100 distance p: 1  :  0.862376113895275\n",
      "k: 100 distance p: 2  :  0.8696285392420091\n",
      "k: 300 uniform p: 1  :  0.8536196887249631\n",
      "k: 300 uniform p: 2  :  0.8635695370201912\n",
      "k: 300 distance p: 1  :  0.8574985895407324\n",
      "k: 300 distance p: 2  :  0.8647443990524654\n",
      "k: 600 uniform p: 1  :  0.852337135600727\n",
      "k: 600 uniform p: 2  :  0.8606502998259667\n",
      "k: 600 distance p: 1  :  0.8550257374358861\n",
      "k: 600 distance p: 2  :  0.8615452752830567\n",
      "k: 50 uniform p: 1  :  0.8689417954353836\n",
      "k: 50 uniform p: 2  :  0.8785279314902563\n",
      "k: 50 distance p: 1  :  0.8773735231636421\n",
      "k: 50 distance p: 2  :  0.8819834248244732\n",
      "k: 100 uniform p: 1  :  0.8694051419125145\n",
      "k: 100 uniform p: 2  :  0.8771056768687573\n",
      "k: 100 distance p: 1  :  0.875818726045705\n",
      "k: 100 distance p: 2  :  0.8794695354753674\n",
      "k: 300 uniform p: 1  :  0.8651584435092836\n",
      "k: 300 uniform p: 2  :  0.8723820095651501\n",
      "k: 300 distance p: 1  :  0.869211850771876\n",
      "k: 300 distance p: 2  :  0.8737919303710086\n",
      "k: 600 uniform p: 1  :  0.8621918847174821\n",
      "k: 600 uniform p: 2  :  0.8696184985144195\n",
      "k: 600 distance p: 1  :  0.8651604684640901\n",
      "k: 600 distance p: 2  :  0.8706896996071588\n",
      "k: 50 uniform p: 1  :  0.8572625924575956\n",
      "k: 50 uniform p: 2  :  0.8696602862181576\n",
      "k: 50 distance p: 1  :  0.8653997813048809\n",
      "k: 50 distance p: 2  :  0.8733876757568728\n",
      "k: 100 uniform p: 1  :  0.8550888955160137\n",
      "k: 100 uniform p: 2  :  0.865912831218176\n",
      "k: 100 distance p: 1  :  0.8613800619267997\n",
      "k: 100 distance p: 2  :  0.8686148572775034\n",
      "k: 300 uniform p: 1  :  0.8500640622066116\n",
      "k: 300 uniform p: 2  :  0.8595912904852897\n",
      "k: 300 distance p: 1  :  0.8540666615122365\n",
      "k: 300 distance p: 2  :  0.8611517942940456\n",
      "k: 600 uniform p: 1  :  0.8449070545743729\n",
      "k: 600 uniform p: 2  :  0.8550660687527384\n",
      "k: 600 distance p: 1  :  0.8480322961882987\n",
      "k: 600 distance p: 2  :  0.8563073660492395\n",
      "k: 50 uniform p: 1  :  0.8586064261020356\n",
      "k: 50 uniform p: 2  :  0.8732258634591383\n",
      "k: 50 distance p: 1  :  0.8659686095187602\n",
      "k: 50 distance p: 2  :  0.8765727455809963\n",
      "k: 100 uniform p: 1  :  0.8592420778245358\n",
      "k: 100 uniform p: 2  :  0.8689944442603577\n",
      "k: 100 distance p: 1  :  0.8653088424253804\n",
      "k: 100 distance p: 2  :  0.8715723958160752\n",
      "k: 300 uniform p: 1  :  0.8557363287937528\n",
      "k: 300 uniform p: 2  :  0.8652992699117488\n",
      "k: 300 distance p: 1  :  0.8595859519680719\n",
      "k: 300 distance p: 2  :  0.8667226290540515\n",
      "k: 600 uniform p: 1  :  0.8526852741604721\n",
      "k: 600 uniform p: 2  :  0.8618209498142564\n",
      "k: 600 distance p: 1  :  0.8556439172198473\n",
      "k: 600 distance p: 2  :  0.8629668901480427\n",
      "Duration: 1:23:49.186442\n"
     ]
    }
   ],
   "source": [
    "parameters1 = {'n_neighbors' : [50, 100, 300, 600], \n",
    "               'weights' : ['uniform', 'distance'],\n",
    "               'p': [1,2]}\n",
    "\n",
    "results = {'n_neighbors' : [], \n",
    "           'weights' : [],\n",
    "           'p': [],\n",
    "           'AUC' : []}\n",
    "\n",
    "from datetime import datetime\n",
    "start_time = datetime.now()\n",
    "\n",
    "\n",
    "resampling_m1 = NeighbourhoodCleaningRule(n_neighbors = 10, kind_sel = \"all\")\n",
    "splitter = StratifiedKFold(n_splits=4, random_state=123, shuffle=True, ) # Create 4 splits of the data\n",
    "\n",
    "metrics = []\n",
    "for train_index, val_index in splitter.split(X_train, y):\n",
    "    train_df, val_df = X_train.iloc[train_index], X_train.iloc[val_index] \n",
    "    train_y, val_y = y.iloc[train_index], y.iloc[val_index] \n",
    "\n",
    "    X_resampled, y_resampled = resampling_m1.fit_resample(train_df, train_y)\n",
    "    \n",
    "    # From each split of the data iterate over all the the parameters\n",
    "    for k in parameters1['n_neighbors']:\n",
    "        for weight in parameters1['weights']:\n",
    "            for p in parameters1['p']:\n",
    "                model = KNeighborsClassifier(n_neighbors = k,\n",
    "                                             weights = weight,\n",
    "                                             algorithm = 'kd_tree', # The faster: the three algorithms give the same AUC\n",
    "                                             p = p)\n",
    "                model.fit(X_resampled, y_resampled)\n",
    "                predictions = model.predict_proba(val_df)\n",
    "\n",
    "                results['n_neighbors'].append(k)\n",
    "                results['weights'].append(weight)\n",
    "                results['p'].append(p)\n",
    "                auc = roc_auc_score(val_y, predictions[:,1])\n",
    "                results['AUC'].append(auc)\n",
    "                print('k:', k, weight, 'p:', p, ' : ', auc)\n",
    "\n",
    "end_time = datetime.now()\n",
    "print('Duration: {}'.format(end_time - start_time))"
   ]
  },
  {
   "cell_type": "code",
   "execution_count": 301,
   "id": "475feace",
   "metadata": {},
   "outputs": [
    {
     "data": {
      "text/plain": [
       "n_neighbors  weights   p\n",
       "50           distance  2    0.876031\n",
       "             uniform   2    0.872471\n",
       "100          distance  2    0.872321\n",
       "             uniform   2    0.869788\n",
       "50           distance  1    0.868604\n",
       "300          distance  2    0.866603\n",
       "100          distance  1    0.866221\n",
       "300          uniform   2    0.865211\n",
       "600          distance  2    0.862877\n",
       "             uniform   2    0.861789\n",
       "50           uniform   1    0.860338\n",
       "300          distance  1    0.860091\n",
       "100          uniform   1    0.859843\n",
       "300          uniform   1    0.856145\n",
       "600          distance  1    0.855966\n",
       "             uniform   1    0.853030\n",
       "Name: AUC, dtype: float64"
      ]
     },
     "execution_count": 301,
     "metadata": {},
     "output_type": "execute_result"
    }
   ],
   "source": [
    "results_gs_knn1 = pd.DataFrame(results)\n",
    "results_gs_knn1.groupby(['n_neighbors', 'weights', 'p'])['AUC'].mean().sort_values(ascending=False)"
   ]
  },
  {
   "cell_type": "code",
   "execution_count": 305,
   "id": "3cb836a6",
   "metadata": {},
   "outputs": [
    {
     "data": {
      "text/plain": [
       "<AxesSubplot:xlabel='n_neighbors', ylabel='AUC'>"
      ]
     },
     "execution_count": 305,
     "metadata": {},
     "output_type": "execute_result"
    },
    {
     "data": {
      "image/png": "[encoded data removed]",
      "text/plain": [
       "<Figure size 432x288 with 1 Axes>"
      ]
     },
     "metadata": {
      "needs_background": "light"
     },
     "output_type": "display_data"
    }
   ],
   "source": [
    "sns.scatterplot(x='n_neighbors', y='AUC', hue = 'weights',  style = 'p', data = results_gs_knn1)"
   ]
  },
  {
   "cell_type": "markdown",
   "id": "e0ca9499",
   "metadata": {},
   "source": [
    "From the graph above we see that the data adjust better the distance is reweighted according, and when the distance used is the euclidean distances (p = 2). Besides, the results improve as we decrease the number of neighbors.\n",
    "\n",
    "Lets fit this model to send it to the kaggle competition."
   ]
  },
  {
   "cell_type": "code",
   "execution_count": 306,
   "id": "454c5a34",
   "metadata": {},
   "outputs": [],
   "source": [
    "# Initialization of model and resampling method\n",
    "model_knn_m1 = KNeighborsClassifier(weights = 'distance', p = 2, n_neighbors = 50, algorithm = 'kd_tree')\n",
    "resampling_m1 = NeighbourhoodCleaningRule(n_neighbors = 10, kind_sel = \"all\")\n",
    "\n",
    "# Getting the resample data\n",
    "X_resampled, y_resampled = resampling_m1.fit_resample(X_train, y)\n",
    "\n",
    "# FIt the model in the resampled data and get the predicted proba on this data\n",
    "model_knn_m1.fit(X_resampled, y_resampled)\n",
    "\n",
    "# Predict in the test data\n",
    "y_test_hat_knn_m1 = model_knn_m1.predict_proba(X_test)"
   ]
  },
  {
   "cell_type": "code",
   "execution_count": 321,
   "id": "756eeaea",
   "metadata": {},
   "outputs": [
    {
     "name": "stdout",
     "output_type": "stream",
     "text": [
      "0.14288450488412183\n"
     ]
    },
    {
     "data": {
      "image/png": "[encoded data removed]",
      "text/plain": [
       "<Figure size 432x288 with 1 Axes>"
      ]
     },
     "metadata": {
      "needs_background": "light"
     },
     "output_type": "display_data"
    }
   ],
   "source": [
    "# Plot of the distribution of the predicted probabilities\n",
    "sns.distplot(y_test_hat_knn_m1[:,1])\n",
    "print((y_test_hat_knn_m1[:,1] > 0.5).astype(int).mean()) # proportion of predicted deads"
   ]
  },
  {
   "cell_type": "markdown",
   "id": "e4b11ab4",
   "metadata": {},
   "source": [
    "The model with 50 neighbors predicts a 14% of dead patients in the test data (if p > 0.5), this is informative since is more than what we saw in the training data (without any adjustment for class imbalance). However, the metric to optimize is the AUC, and from the grid search we get into the conclution that this is the best fitting over a set of different 16 different models."
   ]
  },
  {
   "cell_type": "code",
   "execution_count": 308,
   "id": "3c179deb",
   "metadata": {},
   "outputs": [],
   "source": [
    "# Export the data\n",
    "test_predictions_submit = pd.DataFrame({\"icustay_id\": test.index, \"HOSPITAL_EXPIRE_FLAG\": y_test_hat_knn_m1[:,1]})\n",
    "test_predictions_submit.to_csv(\"data/outputs/knn_m1.csv\", index = False)"
   ]
  },
  {
   "cell_type": "markdown",
   "id": "037e4a45",
   "metadata": {},
   "source": [
    "The above model is better in the public leaderboard, but it is still far from the score observed here."
   ]
  },
  {
   "cell_type": "markdown",
   "id": "11aca025",
   "metadata": {},
   "source": [
    "#### More grid search\n",
    "\n",
    "We saw that on average the AUC increased in the left hand part of the graph. In this section I will try a new grid search only for number of neighbors (k) to get the best value for this parameter"
   ]
  },
  {
   "cell_type": "code",
   "execution_count": 311,
   "id": "5139bd3a",
   "metadata": {},
   "outputs": [
    {
     "name": "stdout",
     "output_type": "stream",
     "text": [
      "k:  10 AUC:  0.8709371881598607\n",
      "k:  20 AUC:  0.8751555180658239\n",
      "k:  30 AUC:  0.8742862708559604\n",
      "k:  40 AUC:  0.8731523902460538\n",
      "k:  50 AUC:  0.8721817002328406\n",
      "k:  60 AUC:  0.8721896024802032\n",
      "k:  80 AUC:  0.8699143065594166\n",
      "k:  100 AUC:  0.8696285392420091\n",
      "k:  10 AUC:  0.8780866754291985\n",
      "k:  20 AUC:  0.8811027535703636\n",
      "k:  30 AUC:  0.8843191181505904\n",
      "k:  40 AUC:  0.8843272179698172\n",
      "k:  50 AUC:  0.8819834248244732\n",
      "k:  60 AUC:  0.8812179919075442\n",
      "k:  80 AUC:  0.8800460953348723\n",
      "k:  100 AUC:  0.8794695354753674\n",
      "k:  10 AUC:  0.8694148985129467\n",
      "k:  20 AUC:  0.8750440887887457\n",
      "k:  30 AUC:  0.8751381571438565\n",
      "k:  40 AUC:  0.8734579969147053\n",
      "k:  50 AUC:  0.8733876757568728\n",
      "k:  60 AUC:  0.8726117498923094\n",
      "k:  80 AUC:  0.8692291549311332\n",
      "k:  100 AUC:  0.8686148572775034\n",
      "k:  10 AUC:  0.8697416525840264\n",
      "k:  20 AUC:  0.8744310797427203\n",
      "k:  30 AUC:  0.8752743813763065\n",
      "k:  40 AUC:  0.876163152449643\n",
      "k:  50 AUC:  0.8765727455809963\n",
      "k:  60 AUC:  0.874777531101465\n",
      "k:  80 AUC:  0.8733427585775244\n",
      "k:  100 AUC:  0.8715723958160752\n",
      "Duration: 0:42:09.037617\n"
     ]
    }
   ],
   "source": [
    "# The next code is similar to the loops used before in this notebook\n",
    "start_time = datetime.now()\n",
    "\n",
    "resampling_m1 = NeighbourhoodCleaningRule(n_neighbors = 10, kind_sel = \"all\")\n",
    "splitter = StratifiedKFold(n_splits=4, random_state=123, shuffle=True, )\n",
    "\n",
    "parameters2 = {'n_neighbors' : [10, 20, 30, 40, 50, 60, 80, 100]}\n",
    "\n",
    "results = {'n_neighbors' : [], \n",
    "           'AUC' : []}\n",
    "\n",
    "for train_index, val_index in splitter.split(X_train, y):\n",
    "    train_df, val_df = X_train.iloc[train_index], X_train.iloc[val_index] \n",
    "    train_y, val_y = y.iloc[train_index], y.iloc[val_index] \n",
    "\n",
    "    X_resampled, y_resampled = resampling_m1.fit_resample(train_df, train_y)\n",
    "    \n",
    "    for k in parameters2['n_neighbors']:\n",
    "        model = KNeighborsClassifier(n_neighbors = k,\n",
    "                                     weights = 'distance',\n",
    "                                     algorithm = 'kd_tree',\n",
    "                                     p = 2)\n",
    "        model.fit(X_resampled, y_resampled)\n",
    "        predictions = model.predict_proba(val_df)\n",
    "\n",
    "        results['n_neighbors'].append(k)\n",
    "        auc = roc_auc_score(val_y, predictions[:,1])\n",
    "        results['AUC'].append(auc)\n",
    "        print('k: ', k, 'AUC: ', auc)\n",
    "\n",
    "end_time = datetime.now()\n",
    "print('Duration: {}'.format(end_time - start_time))"
   ]
  },
  {
   "cell_type": "code",
   "execution_count": 319,
   "id": "06e388fd",
   "metadata": {},
   "outputs": [
    {
     "data": {
      "text/html": [
       "<div>\n",
       "<style scoped>\n",
       "    .dataframe tbody tr th:only-of-type {\n",
       "        vertical-align: middle;\n",
       "    }\n",
       "\n",
       "    .dataframe tbody tr th {\n",
       "        vertical-align: top;\n",
       "    }\n",
       "\n",
       "    .dataframe thead tr th {\n",
       "        text-align: left;\n",
       "    }\n",
       "\n",
       "    .dataframe thead tr:last-of-type th {\n",
       "        text-align: right;\n",
       "    }\n",
       "</style>\n",
       "<table border=\"1\" class=\"dataframe\">\n",
       "  <thead>\n",
       "    <tr>\n",
       "      <th></th>\n",
       "      <th colspan=\"2\" halign=\"left\">AUC</th>\n",
       "    </tr>\n",
       "    <tr>\n",
       "      <th></th>\n",
       "      <th>mean</th>\n",
       "      <th>var</th>\n",
       "    </tr>\n",
       "    <tr>\n",
       "      <th>n_neighbors</th>\n",
       "      <th></th>\n",
       "      <th></th>\n",
       "    </tr>\n",
       "  </thead>\n",
       "  <tbody>\n",
       "    <tr>\n",
       "      <th>10</th>\n",
       "      <td>0.872045</td>\n",
       "      <td>0.000017</td>\n",
       "    </tr>\n",
       "    <tr>\n",
       "      <th>20</th>\n",
       "      <td>0.876433</td>\n",
       "      <td>0.000010</td>\n",
       "    </tr>\n",
       "    <tr>\n",
       "      <th>30</th>\n",
       "      <td>0.877254</td>\n",
       "      <td>0.000022</td>\n",
       "    </tr>\n",
       "    <tr>\n",
       "      <th>40</th>\n",
       "      <td>0.876775</td>\n",
       "      <td>0.000027</td>\n",
       "    </tr>\n",
       "    <tr>\n",
       "      <th>50</th>\n",
       "      <td>0.876031</td>\n",
       "      <td>0.000019</td>\n",
       "    </tr>\n",
       "    <tr>\n",
       "      <th>60</th>\n",
       "      <td>0.875199</td>\n",
       "      <td>0.000017</td>\n",
       "    </tr>\n",
       "    <tr>\n",
       "      <th>80</th>\n",
       "      <td>0.873133</td>\n",
       "      <td>0.000024</td>\n",
       "    </tr>\n",
       "    <tr>\n",
       "      <th>100</th>\n",
       "      <td>0.872321</td>\n",
       "      <td>0.000024</td>\n",
       "    </tr>\n",
       "  </tbody>\n",
       "</table>\n",
       "</div>"
      ],
      "text/plain": [
       "                  AUC          \n",
       "                 mean       var\n",
       "n_neighbors                    \n",
       "10           0.872045  0.000017\n",
       "20           0.876433  0.000010\n",
       "30           0.877254  0.000022\n",
       "40           0.876775  0.000027\n",
       "50           0.876031  0.000019\n",
       "60           0.875199  0.000017\n",
       "80           0.873133  0.000024\n",
       "100          0.872321  0.000024"
      ]
     },
     "execution_count": 319,
     "metadata": {},
     "output_type": "execute_result"
    }
   ],
   "source": [
    "results_gs_knn1 = pd.DataFrame(results)\n",
    "results_gs_knn1.groupby('n_neighbors').agg({'AUC': ['mean', 'var']})"
   ]
  },
  {
   "cell_type": "markdown",
   "id": "095c8ad4",
   "metadata": {},
   "source": [
    "Lets train a model with the full trained (and undersampled) data to send predictions to the kaggle competition. "
   ]
  },
  {
   "cell_type": "code",
   "execution_count": 329,
   "id": "b0d9ac79",
   "metadata": {},
   "outputs": [],
   "source": [
    "# Initialization of model\n",
    "model_knn_m2 = KNeighborsClassifier(weights = 'distance', p = 2, n_neighbors = 30, algorithm = 'kd_tree')\n",
    "\n",
    "# Fit the model in the resampled data and get the predicted proba on this data\n",
    "model_knn_m2.fit(X_resampled, y_resampled)\n",
    "\n",
    "# Predict in the test data\n",
    "y_test_hat_knn_m2 = model_knn_m2.predict_proba(X_test)"
   ]
  },
  {
   "cell_type": "code",
   "execution_count": 330,
   "id": "6fa42cb0",
   "metadata": {},
   "outputs": [
    {
     "name": "stdout",
     "output_type": "stream",
     "text": [
      "0.15897337674774947\n"
     ]
    },
    {
     "data": {
      "image/png": "[encoded data removed]",
      "text/plain": [
       "<Figure size 432x288 with 1 Axes>"
      ]
     },
     "metadata": {
      "needs_background": "light"
     },
     "output_type": "display_data"
    }
   ],
   "source": [
    "# Plot of the distribution of the predicted probabilities\n",
    "sns.distplot(y_test_hat_knn_m2[:,1])\n",
    "print((y_test_hat_knn_m2[:,1] > 0.5).astype(int).mean()) # proportion of predicted deads"
   ]
  },
  {
   "cell_type": "code",
   "execution_count": 331,
   "id": "2ef04cff",
   "metadata": {},
   "outputs": [],
   "source": [
    "# Export the data\n",
    "test_predictions_submit = pd.DataFrame({\"icustay_id\": test.index, \"HOSPITAL_EXPIRE_FLAG\": y_test_hat_knn_m2[:,1]})\n",
    "test_predictions_submit.to_csv(\"data/outputs/knn_m2.csv\", index = False)"
   ]
  },
  {
   "cell_type": "markdown",
   "id": "a1fa9324",
   "metadata": {},
   "source": [
    "### Second approach to deal with class imbalance: Calibrated probabilities\n",
    "\n",
    "In his link https://machinelearningmastery.com/probability-calibration-.for-imbalanced-classification/ they explain another approach to manage the class imbalance. According with the post:\n",
    "\n",
    "***\"...the probabilities or probability-like scores predicted by many models are not calibrated. This means that they may be over-confident in some cases and under-confident in other cases. Worse still, the severely skewed class distribution present in imbalanced classification tasks may result in even more bias in the predicted probabilities as they over-favor predicting the majority class.***\n",
    "\n",
    "***As such, it is often a good idea to calibrate the predicted probabilities for nonlinear machine learning models prior to evaluating their performance. Further, it is good practice to calibrate probabilities in general when working with imbalanced datasets, even of models like logistic regression that predict well-calibrated probabilities when the class labels are balanced.\"***\n",
    "\n",
    "In this section I will test this approach over the best knn model so far."
   ]
  },
  {
   "cell_type": "code",
   "execution_count": 98,
   "id": "302b7ed8",
   "metadata": {},
   "outputs": [],
   "source": [
    "# Libraries for calibrate probabilities\n",
    "from sklearn.calibration import CalibratedClassifierCV\n",
    "from sklearn.model_selection import RepeatedStratifiedKFold"
   ]
  },
  {
   "cell_type": "code",
   "execution_count": 421,
   "id": "0a85422b",
   "metadata": {},
   "outputs": [],
   "source": [
    "# Insert the model in the calibrated probabilities method\n",
    "calib_knn_m2 = CalibratedClassifierCV(model_knn_m2)\n",
    "\n",
    "# Define the grid to search over in the calibration method\n",
    "param_gs_calib1 = dict(cv=[2,3,4], method=['sigmoid','isotonic'])\n",
    "\n",
    "# Define the validation method\n",
    "cv = RepeatedStratifiedKFold(n_splits=10, n_repeats=3, random_state=1)\n",
    "\n",
    "# Grid serach\n",
    "gs_calib1  = GridSearchCV(estimator=calib_knn_m2, \n",
    "                          param_grid=param_gs_calib1, \n",
    "                          n_jobs=-1, \n",
    "                          cv=cv, \n",
    "                          scoring='roc_auc',\n",
    "                          verbose=3)"
   ]
  },
  {
   "cell_type": "code",
   "execution_count": 422,
   "id": "951b5e7b",
   "metadata": {},
   "outputs": [
    {
     "name": "stdout",
     "output_type": "stream",
     "text": [
      "Fitting 30 folds for each of 6 candidates, totalling 180 fits\n",
      "Duration: -1 day, 9:39:24.953435\n"
     ]
    }
   ],
   "source": [
    "start_time = datetime.now()\n",
    "gs_calib1_results = gs_calib1.fit(X_resampled, y_resampled)\n",
    "print('Duration: {}'.format(end_time - start_time))"
   ]
  },
  {
   "cell_type": "code",
   "execution_count": 424,
   "id": "4996b4e1",
   "metadata": {},
   "outputs": [
    {
     "name": "stdout",
     "output_type": "stream",
     "text": [
      "Best: 0.931297 using {'cv': 4, 'method': 'isotonic'}\n"
     ]
    }
   ],
   "source": [
    "print(\"Best: %f using %s\" % (gs_calib1_results.best_score_, gs_calib1_results.best_params_))"
   ]
  },
  {
   "cell_type": "code",
   "execution_count": 428,
   "id": "1fc2b46d",
   "metadata": {},
   "outputs": [
    {
     "data": {
      "text/plain": [
       "CalibratedClassifierCV(base_estimator=KNeighborsClassifier(algorithm='kd_tree',\n",
       "                                                           n_neighbors=30,\n",
       "                                                           weights='distance'),\n",
       "                       cv=4, method='isotonic')"
      ]
     },
     "execution_count": 428,
     "metadata": {},
     "output_type": "execute_result"
    }
   ],
   "source": [
    "# Getting the probabilities from the best configuration of calibrated probabilities\n",
    "\n",
    "# Calibrated probabilities of the best model\n",
    "knn_m2_cali_obj = CalibratedClassifierCV(model_knn_m2, cv = 4, method = 'isotonic')\n",
    "knn_m2_cali_obj.fit(X_resampled, y_resampled)"
   ]
  },
  {
   "cell_type": "code",
   "execution_count": 429,
   "id": "67e72c19",
   "metadata": {},
   "outputs": [
    {
     "data": {
      "image/png": "[encoded data removed]",
      "text/plain": [
       "<Figure size 432x288 with 1 Axes>"
      ]
     },
     "metadata": {
      "needs_background": "light"
     },
     "output_type": "display_data"
    }
   ],
   "source": [
    "y_train_hat_knn_m2_cali = knn_m2_cali_obj.predict_proba(X_resampled)\n",
    "roc_curve_plot(y_resampled, y_train_hat_knn_m2_cali[:,1])"
   ]
  },
  {
   "cell_type": "markdown",
   "id": "10845e31",
   "metadata": {},
   "source": [
    "The graph above is the AUC of the model over previusly seen observation wich is not somethin I shoul take into account. The reference score here is the 0.93 seen in the gridsearch"
   ]
  },
  {
   "cell_type": "code",
   "execution_count": 430,
   "id": "35b33372",
   "metadata": {},
   "outputs": [
    {
     "data": {
      "text/plain": [
       "<AxesSubplot:ylabel='Density'>"
      ]
     },
     "execution_count": 430,
     "metadata": {},
     "output_type": "execute_result"
    },
    {
     "data": {
      "image/png": "[encoded data removed]",
      "text/plain": [
       "<Figure size 432x288 with 1 Axes>"
      ]
     },
     "metadata": {
      "needs_background": "light"
     },
     "output_type": "display_data"
    }
   ],
   "source": [
    "y_test_hat_knn_m2_cali = knn_m2_cali_obj.predict_proba(X_test)\n",
    "sns.distplot(y_test_hat_knn_m2_cali[:,1])"
   ]
  },
  {
   "cell_type": "code",
   "execution_count": 431,
   "id": "6b861984",
   "metadata": {},
   "outputs": [],
   "source": [
    "# Export the data\n",
    "test_predictions_submit = pd.DataFrame({\"icustay_id\": test.index, \"HOSPITAL_EXPIRE_FLAG\": y_test_hat_knn_m2_cali[:,1]})\n",
    "test_predictions_submit.to_csv(\"data/outputs/knn_m2_cal.csv\", index = False)"
   ]
  },
  {
   "cell_type": "markdown",
   "id": "f64c591d",
   "metadata": {},
   "source": [
    "With all of the above I have applied a class balace strategy and doing and hyperparameter tunning, which gets me into the best possible model according to the pre-processing  data made. At this point I improved my internal measurement of AUC from around 0.80 to a 0.93. Based on the kaggle public leaderboard my results improved from 0.79 on average to 0.87\n",
    "\n",
    "The next section focus on fitting models with another algorithm that should get better results."
   ]
  },
  {
   "cell_type": "markdown",
   "id": "878aca39",
   "metadata": {},
   "source": [
    "# Support Vector Machines (SVM)\n",
    "\n",
    "In this section a will show the process of fitting support vector machines (SVM) over my data. Usuaaly this kind of models are stronger than KNN models. \n",
    "\n",
    "I will start as before with KNN by running a baseline model (the most basic one) and then try to improve the observed AUC with hyperparameter tunning and classs imbalance approaches.\n",
    "\n",
    "\n",
    "## SVM base line model"
   ]
  },
  {
   "cell_type": "code",
   "execution_count": 16,
   "id": "484212c9",
   "metadata": {},
   "outputs": [],
   "source": [
    "from sklearn.svm import SVC"
   ]
  },
  {
   "cell_type": "code",
   "execution_count": 343,
   "id": "80661abc",
   "metadata": {},
   "outputs": [
    {
     "name": "stdout",
     "output_type": "stream",
     "text": [
      "Duration: 1:07:27.926018\n",
      "[0.9592260610953554, 0.9619102821537252, 0.9569041063751975, 0.955663775436272, 0.9650878754631833]\n"
     ]
    },
    {
     "ename": "NameError",
     "evalue": "name 'mean' is not defined",
     "output_type": "error",
     "traceback": [
      "\u001b[0;31m---------------------------------------------------------------------------\u001b[0m",
      "\u001b[0;31mNameError\u001b[0m                                 Traceback (most recent call last)",
      "\u001b[0;32m<ipython-input-343-1c9112d5e0bf>\u001b[0m in \u001b[0;36m<module>\u001b[0;34m\u001b[0m\n\u001b[1;32m     20\u001b[0m \u001b[0;34m\u001b[0m\u001b[0m\n\u001b[1;32m     21\u001b[0m \u001b[0mprint\u001b[0m\u001b[0;34m(\u001b[0m\u001b[0mmetrics\u001b[0m\u001b[0;34m)\u001b[0m\u001b[0;34m\u001b[0m\u001b[0;34m\u001b[0m\u001b[0m\n\u001b[0;32m---> 22\u001b[0;31m \u001b[0mprint\u001b[0m\u001b[0;34m(\u001b[0m\u001b[0mmean\u001b[0m\u001b[0;34m(\u001b[0m\u001b[0mmetrics\u001b[0m\u001b[0;34m)\u001b[0m\u001b[0;34m)\u001b[0m\u001b[0;34m\u001b[0m\u001b[0;34m\u001b[0m\u001b[0m\n\u001b[0m",
      "\u001b[0;31mNameError\u001b[0m: name 'mean' is not defined"
     ]
    }
   ],
   "source": [
    "# Fist model with default parameters but of type lineal (the most basic one) and with probabilities\n",
    "\n",
    "model_svm_bl = SVC(kernel='linear', probability=True)\n",
    "splitter = StratifiedKFold(n_splits=5, random_state=None, shuffle=True)\n",
    "\n",
    "metrics = []\n",
    "\n",
    "start_time = datetime.now()\n",
    "# Split train data into train and validation to predict over unobserved data\n",
    "for train_index, val_index in splitter.split(X_train, y):\n",
    "    train_df, val_df = X_train.iloc[train_index], X_train.iloc[val_index] \n",
    "    train_y, val_y = y.iloc[train_index], y.iloc[val_index] \n",
    "\n",
    "    model_svm_bl.fit(train_df, train_y)\n",
    "    predictions = model_svm_bl.predict_proba(val_df)\n",
    "    metrics.append(roc_auc_score(val_y, predictions[:,1]))\n",
    "    \n",
    "end_time = datetime.now()\n",
    "print('Duration: {}'.format(end_time - start_time))\n",
    "\n",
    "print(metrics)\n",
    "print(mean(metrics))"
   ]
  },
  {
   "cell_type": "code",
   "execution_count": 344,
   "id": "19b79f4a",
   "metadata": {},
   "outputs": [
    {
     "name": "stdout",
     "output_type": "stream",
     "text": [
      "[0.9592260610953554, 0.9619102821537252, 0.9569041063751975, 0.955663775436272, 0.9650878754631833]\n",
      "0.9597584201047467\n"
     ]
    }
   ],
   "source": [
    "print(metrics)\n",
    "print(np.mean(metrics))"
   ]
  },
  {
   "cell_type": "markdown",
   "id": "cb6c9743",
   "metadata": {},
   "source": [
    "The average of this model is an AUC 0.96. Much better that using the basic KNN. The following in the ROC of the last fit in the loop from above"
   ]
  },
  {
   "cell_type": "code",
   "execution_count": 349,
   "id": "6812e9d5",
   "metadata": {},
   "outputs": [
    {
     "data": {
      "image/png": "[encoded data removed]",
      "text/plain": [
       "<Figure size 432x288 with 1 Axes>"
      ]
     },
     "metadata": {
      "needs_background": "light"
     },
     "output_type": "display_data"
    },
    {
     "name": "stdout",
     "output_type": "stream",
     "text": [
      "0.7281437125748504\n"
     ]
    }
   ],
   "source": [
    "#Plot of the Roc curve and AUC using the last split of the data and predictions from above\n",
    "roc_curve_plot(val_y, predictions[:,1])\n",
    "print(f1_score(val_y, (predictions[:,1] > 0.5).astype(int)))"
   ]
  },
  {
   "cell_type": "code",
   "execution_count": 351,
   "id": "22046c6c",
   "metadata": {},
   "outputs": [
    {
     "data": {
      "image/png": "[encoded data removed]",
      "text/plain": [
       "<Figure size 432x288 with 1 Axes>"
      ]
     },
     "metadata": {
      "needs_background": "light"
     },
     "output_type": "display_data"
    },
    {
     "name": "stdout",
     "output_type": "stream",
     "text": [
      "0.8234735091470659\n"
     ]
    }
   ],
   "source": [
    "model_svm_bl.fit(X_train, y)\n",
    "y_train_hat_svm_bl = model_svm_bl.predict_proba(X_train)\n",
    "\n",
    "# Roc curve and auc over all the training data\n",
    "roc_curve_plot(y, y_train_hat_svm_bl[:,1])\n",
    "print(f1_score(y, (y_train_hat_svm_bl[:,1] > 0.5).astype(int)))"
   ]
  },
  {
   "cell_type": "markdown",
   "id": "29fc7e51",
   "metadata": {},
   "source": [
    "So far the model looks good according with the AUC score, however there is a large difference in the F1 score between a model fitting in validation and data and the predictions over the whole training data. This is something that I want to avoid. Now onwards, I will take into account multiple metrics to choose the best model."
   ]
  },
  {
   "cell_type": "code",
   "execution_count": 347,
   "id": "34ea8d27",
   "metadata": {},
   "outputs": [],
   "source": [
    "# Predictions in text data to upload them to kaggle\n",
    "y_test_hat_svm_bl = model_svm_bl.predict_proba(X_test)\n",
    "\n",
    "test_predictions_submit = pd.DataFrame({\"icustay_id\": X_test.index, \"HOSPITAL_EXPIRE_FLAG\": y_test_hat_svm_bl[:,1]})\n",
    "test_predictions_submit.to_csv(\"data/outputs/svm_bl.csv\", index = False)"
   ]
  },
  {
   "cell_type": "markdown",
   "id": "aeda46f7",
   "metadata": {},
   "source": [
    "#### How good is the base SVM over the resampled data"
   ]
  },
  {
   "cell_type": "markdown",
   "id": "eea06f32",
   "metadata": {},
   "source": [
    "Since SVM takes too long to run I want to try to use a reduced version of my data. For this reason I will run the baseline model over a resampled version of my training data(from the Knn models) to compare running time as well as performance."
   ]
  },
  {
   "cell_type": "code",
   "execution_count": 17,
   "id": "f609f2fe",
   "metadata": {},
   "outputs": [],
   "source": [
    "from sklearn.model_selection import cross_val_predict\n",
    "from sklearn.model_selection import cross_val_score"
   ]
  },
  {
   "cell_type": "code",
   "execution_count": 436,
   "id": "66fbc366",
   "metadata": {},
   "outputs": [
    {
     "name": "stdout",
     "output_type": "stream",
     "text": [
      "(11279, 810) (20885, 810)\n"
     ]
    },
    {
     "name": "stderr",
     "output_type": "stream",
     "text": [
      "[Parallel(n_jobs=-1)]: Using backend LokyBackend with 8 concurrent workers.\n",
      "[Parallel(n_jobs=-1)]: Done   2 out of   5 | elapsed:  1.4min remaining:  2.2min\n"
     ]
    },
    {
     "name": "stdout",
     "output_type": "stream",
     "text": [
      "Duration: -1 day, 7:34:36.197798\n",
      "[0.962640868507425, 0.9594287222566503, 0.9658243246344879, 0.9691959879731001, 0.9701163671417752, 0.9570010326482818, 0.9404844576719577]\n",
      "0.9606702515476683\n"
     ]
    },
    {
     "name": "stderr",
     "output_type": "stream",
     "text": [
      "[Parallel(n_jobs=-1)]: Done   5 out of   5 | elapsed:  2.0min finished\n"
     ]
    }
   ],
   "source": [
    "# Running a base line model over the resampled data\n",
    "# Since hear we have less rows in should take less time to run\n",
    "\n",
    "\n",
    "print(X_resampled.shape, X_train.shape)\n",
    "\n",
    "model_svm_bl = SVC(kernel='linear', probability=True)\n",
    "\n",
    "start_time = datetime.now()\n",
    "\n",
    "# I have forgotten that my own loop is not efficient since it only uses 1 core to process. inbuilt sklearn functions are better\n",
    "svm_bl_r_s = cross_val_score(model_svm_bl, X_resampled, y_resampled, cv = 5, n_jobs = - 1, verbose = 1, scoring = 'roc_auc')\n",
    "\n",
    "end_time = datetime.now()\n",
    "print('Duration: {}'.format(end_time - start_time))\n"
   ]
  },
  {
   "cell_type": "code",
   "execution_count": 438,
   "id": "7782cb7b",
   "metadata": {},
   "outputs": [
    {
     "data": {
      "text/plain": [
       "0.9711174497479643"
      ]
     },
     "execution_count": 438,
     "metadata": {},
     "output_type": "execute_result"
    }
   ],
   "source": [
    "#Plot of the Roc curve and AUC using the last split of the data and predictions from above\n",
    "np.mean(svm_bl_r_s)"
   ]
  },
  {
   "cell_type": "markdown",
   "id": "64ae1405",
   "metadata": {},
   "source": [
    "This is slighly better, however i did not ckeck running time. Lets see the performance of this baseline model in the resampled data to get information of the performance improvement."
   ]
  },
  {
   "cell_type": "code",
   "execution_count": 439,
   "id": "ebc8ba1f",
   "metadata": {},
   "outputs": [],
   "source": [
    "# Predictions in text data to upload them to kaggle\n",
    "model_svm_bl_re = SVC(kernel='linear', probability=True)\n",
    "model_svm_bl_re.fit(X_resampled, y_resampled)\n",
    "\n",
    "y_test_hat_svm_bl_re = model_svm_bl_re.predict_proba(X_test)\n",
    "\n",
    "test_predictions_submit = pd.DataFrame({\"icustay_id\": X_test.index, \"HOSPITAL_EXPIRE_FLAG\": y_test_hat_svm_bl_re[:,1]})\n",
    "test_predictions_submit.to_csv(\"data/outputs/svm_bl_re.csv\", index = False)"
   ]
  },
  {
   "cell_type": "markdown",
   "id": "15dae5c3",
   "metadata": {},
   "source": [
    "These predictions using the resampled data score lower than the complete data (0.81 vs 0.83). These results also show a higher overfiting.  It can make sence since the resampled data was optimized for a KNN algorithm."
   ]
  },
  {
   "cell_type": "markdown",
   "id": "585ce3c3",
   "metadata": {},
   "source": [
    "## Finding a better linear SVM \n",
    "\n",
    "In this section I will use the LinearSVC class from sklearn.svm. According with the documentation this class uses another method for computing the support vector machines that is faster, and it is the suggested option when we want to fit linear SVMs.\n",
    "\n",
    "The drawback of this class is that by default it does not have the option to predict probabilities. However, I can use the Calibrated probabilities method used in KNN to get the them.\n",
    "\n",
    "I will start by doing a grid search that takes into account multiple metrics and them I will compute the probabilities of the best model."
   ]
  },
  {
   "cell_type": "code",
   "execution_count": 18,
   "id": "f53008bd",
   "metadata": {},
   "outputs": [],
   "source": [
    "from sklearn.model_selection import GridSearchCV\n",
    "from sklearn.metrics import balanced_accuracy_score\n",
    "from sklearn.svm import LinearSVC"
   ]
  },
  {
   "cell_type": "code",
   "execution_count": 13,
   "id": "86faeee4",
   "metadata": {},
   "outputs": [],
   "source": [
    "# Grid search\n",
    "svm_params_1 = {'C': [0.0001, 0.001, 0.01, 0.1, 1, 3, 5, 10, 50, 100],\n",
    "                'loss': ['hinge', 'squared_hinge']}\n",
    "\n",
    "svm_gs1 = GridSearchCV(LinearSVC(class_weight = 'balanced'),\n",
    "                       param_grid = svm_params_1,\n",
    "                       scoring = ['balanced_accuracy','accuracy','roc_auc', 'f1'],\n",
    "                       n_jobs = 7,\n",
    "                       cv=10,\n",
    "                       refit = False,\n",
    "                       verbose = 2)"
   ]
  },
  {
   "cell_type": "code",
   "execution_count": 397,
   "id": "87dd4a1a",
   "metadata": {},
   "outputs": [
    {
     "name": "stdout",
     "output_type": "stream",
     "text": [
      "Fitting 10 folds for each of 20 candidates, totalling 200 fits\n",
      "Duration: -1 day, 10:59:09.148123\n"
     ]
    }
   ],
   "source": [
    "# Fitting the grid search\n",
    "start_time = datetime.now()\n",
    "svm_gs1_fit = svm_gs1.fit(X_train, y)\n",
    "print('Duration: {}'.format(end_time - start_time))"
   ]
  },
  {
   "cell_type": "code",
   "execution_count": 447,
   "id": "6b26ae9c",
   "metadata": {},
   "outputs": [],
   "source": [
    "# Saving the results of the grid search as a dataframe\n",
    "df_results_svm_gs1 = pd.DataFrame(svm_gs1_fit.cv_results_)"
   ]
  },
  {
   "cell_type": "code",
   "execution_count": 445,
   "id": "ce1bef0e",
   "metadata": {},
   "outputs": [
    {
     "data": {
      "text/plain": [
       "<AxesSubplot:xlabel='param_C', ylabel='mean_test_balanced_accuracy'>"
      ]
     },
     "execution_count": 445,
     "metadata": {},
     "output_type": "execute_result"
    },
    {
     "data": {
      "image/png": "[encoded data removed]",
      "text/plain": [
       "<Figure size 432x288 with 1 Axes>"
      ]
     },
     "metadata": {
      "needs_background": "light"
     },
     "output_type": "display_data"
    }
   ],
   "source": [
    "# Plot of grid search results for balanced accuracy\n",
    "sns.scatterplot(x = 'param_C', y = 'mean_test_balanced_accuracy', hue = 'param_loss', data = df_results_svm_gs1)"
   ]
  },
  {
   "cell_type": "code",
   "execution_count": 451,
   "id": "3df1889f",
   "metadata": {},
   "outputs": [
    {
     "data": {
      "text/plain": [
       "<AxesSubplot:xlabel='param_C', ylabel='mean_test_balanced_accuracy'>"
      ]
     },
     "execution_count": 451,
     "metadata": {},
     "output_type": "execute_result"
    },
    {
     "data": {
      "image/png": "[encoded data removed]",
      "text/plain": [
       "<Figure size 432x288 with 1 Axes>"
      ]
     },
     "metadata": {
      "needs_background": "light"
     },
     "output_type": "display_data"
    }
   ],
   "source": [
    "# Zoomed plot for the lowest values for C in balanced accuracy \n",
    "filter_df_1 = df_results_svm_gs1[df_results_svm_gs1['param_C']<0.1]\n",
    "sns.scatterplot(x = 'param_C', y = 'mean_test_balanced_accuracy', hue = 'param_loss', data = filter_df_1)"
   ]
  },
  {
   "cell_type": "code",
   "execution_count": 452,
   "id": "051e65f3",
   "metadata": {},
   "outputs": [
    {
     "data": {
      "text/plain": [
       "<AxesSubplot:xlabel='param_C', ylabel='mean_test_roc_auc'>"
      ]
     },
     "execution_count": 452,
     "metadata": {},
     "output_type": "execute_result"
    },
    {
     "data": {
      "image/png": "[encoded data removed]",
      "text/plain": [
       "<Figure size 432x288 with 1 Axes>"
      ]
     },
     "metadata": {
      "needs_background": "light"
     },
     "output_type": "display_data"
    }
   ],
   "source": [
    "# Zoomed plot for the lowest values for C in mean_test_roc_auc\n",
    "sns.scatterplot(x = 'param_C', y = 'mean_test_roc_auc', hue = 'param_loss', data = filter_df_1)"
   ]
  },
  {
   "cell_type": "markdown",
   "id": "6eb04d54",
   "metadata": {},
   "source": [
    "From the results above we see that the best linear suport vector machine classifier uses C = 0.001 and the squared_hinge function as the loss approach. \n",
    "\n",
    "What it is good from the class LinearSVC is that the running time is much lower than the SCV, however it does not compute probabilities. An strategy to find probabilites from the best fitting is to use the class CalibratedClassifierCV from skelarn as follows.\n",
    "\n",
    "The code below all runs a grid search to find the best parameters to computed the calibrated probabilities."
   ]
  },
  {
   "cell_type": "code",
   "execution_count": 470,
   "id": "63f2c506",
   "metadata": {},
   "outputs": [],
   "source": [
    "# Insert the model in the calibrated probabilities method\n",
    "calib_smv_m1 = CalibratedClassifierCV(LinearSVC(C = 0.001, loss = 'squared_hinge'))\n",
    "\n",
    "# Define the grid to search over in the calibration method\n",
    "param_gs_calib1 = dict(cv=[3,4,5,7,8,10,12,15], method=['sigmoid','isotonic'])\n",
    "\n",
    "# Define the validation method\n",
    "cv = RepeatedStratifiedKFold(n_splits=10, n_repeats=3, random_state=1)\n",
    "\n",
    "# Grid serach\n",
    "gs_calib1_svm  = GridSearchCV(estimator=calib_smv_m1, \n",
    "                          param_grid=param_gs_calib1, \n",
    "                          n_jobs=-1, \n",
    "                          cv=cv, \n",
    "                          scoring='roc_auc',\n",
    "                          verbose=3)"
   ]
  },
  {
   "cell_type": "code",
   "execution_count": 471,
   "id": "91c509f4",
   "metadata": {},
   "outputs": [
    {
     "name": "stdout",
     "output_type": "stream",
     "text": [
      "Fitting 30 folds for each of 16 candidates, totalling 480 fits\n",
      "Duration: 0:12:17.711790\n"
     ]
    }
   ],
   "source": [
    "start_time = datetime.now()\n",
    "gs_calib1_svm_res = gs_calib1_svm.fit(X_train, y)\n",
    "end_time = datetime.now()\n",
    "print('Duration: {}'.format(end_time - start_time))"
   ]
  },
  {
   "cell_type": "code",
   "execution_count": 472,
   "id": "6647bbc3",
   "metadata": {},
   "outputs": [
    {
     "name": "stdout",
     "output_type": "stream",
     "text": [
      "Best: 0.967378 using {'cv': 12, 'method': 'sigmoid'}\n"
     ]
    }
   ],
   "source": [
    "print(\"Best: %f using %s\" % (gs_calib1_svm_res.best_score_, gs_calib1_svm_res.best_params_))"
   ]
  },
  {
   "cell_type": "markdown",
   "id": "68db045d",
   "metadata": {},
   "source": [
    "Although I have done hyperparameter tunning over the SVM algorith and the method for computing and calibrating probabilities, the AUC is still 0.96, which is not better from the basic SVM.\n",
    "\n",
    "Lets fit the model over the complete training data and upload probabilities to the kaggle competition."
   ]
  },
  {
   "cell_type": "code",
   "execution_count": 473,
   "id": "d00a2b0b",
   "metadata": {},
   "outputs": [
    {
     "data": {
      "text/plain": [
       "CalibratedClassifierCV(base_estimator=LinearSVC(C=0.001), cv=12)"
      ]
     },
     "execution_count": 473,
     "metadata": {},
     "output_type": "execute_result"
    }
   ],
   "source": [
    "svm_m1_cali_obj = CalibratedClassifierCV(LinearSVC(C = 0.001, loss = 'squared_hinge'), cv = 12, method = 'sigmoid')\n",
    "svm_m1_cali_obj.fit(X_train, y)"
   ]
  },
  {
   "cell_type": "code",
   "execution_count": 474,
   "id": "acf1100f",
   "metadata": {},
   "outputs": [
    {
     "data": {
      "text/plain": [
       "<AxesSubplot:ylabel='Density'>"
      ]
     },
     "execution_count": 474,
     "metadata": {},
     "output_type": "execute_result"
    },
    {
     "data": {
      "image/png": "[encoded data removed]",
      "text/plain": [
       "<Figure size 432x288 with 1 Axes>"
      ]
     },
     "metadata": {
      "needs_background": "light"
     },
     "output_type": "display_data"
    }
   ],
   "source": [
    "y_test_hat_svm_m1_cali = svm_m1_cali_obj.predict_proba(X_test)\n",
    "sns.distplot(y_test_hat_knn_m2_cali[:,1])"
   ]
  },
  {
   "cell_type": "code",
   "execution_count": 475,
   "id": "4d288c42",
   "metadata": {},
   "outputs": [],
   "source": [
    "test_predictions_submit = pd.DataFrame({\"icustay_id\": X_test.index, \"HOSPITAL_EXPIRE_FLAG\": y_test_hat_svm_m1_cali[:,1]})\n",
    "test_predictions_submit.to_csv(\"data/outputs/svm_m1_cal.csv\", index = False)"
   ]
  },
  {
   "cell_type": "markdown",
   "id": "1ee24552",
   "metadata": {},
   "source": [
    "In the public leaderboard the last model do shows an improvement in the AUC. Now I want to run another grid search to check if the inclusion of the paramenter of the linear SVM to take into account the imbalanced feature of the data improves or not the scores."
   ]
  },
  {
   "cell_type": "markdown",
   "id": "dacbff1f",
   "metadata": {},
   "source": [
    "### More grid search over  Linear SVM"
   ]
  },
  {
   "cell_type": "code",
   "execution_count": 58,
   "id": "4a381d7c",
   "metadata": {},
   "outputs": [
    {
     "name": "stdout",
     "output_type": "stream",
     "text": [
      "C: 0.0001 hinge None : 0.947283574784837\n",
      "C: 0.0001 hinge balanced : 0.950025867048234\n",
      "C: 0.0001 squared_hinge None : 0.9588745132569297\n",
      "C: 0.0001 squared_hinge balanced : 0.9610404466007647\n",
      "C: 0.001 hinge None : 0.9611175641820137\n",
      "C: 0.001 hinge balanced : 0.9638641454145598\n",
      "C: 0.001 squared_hinge None : 0.9664471805177351\n",
      "C: 0.001 squared_hinge balanced : 0.9666353808632723\n",
      "C: 0.01 hinge None : 0.9654032273462948\n",
      "C: 0.01 hinge balanced : 0.9646288858116077\n",
      "C: 0.01 squared_hinge None : 0.9675397028808284\n",
      "C: 0.01 squared_hinge balanced : 0.9664289721795056\n",
      "C: 0.1 hinge None : 0.9650497176139835\n",
      "C: 0.1 hinge balanced : 0.9631300231829277\n",
      "C: 0.1 squared_hinge None : 0.9663657319538796\n",
      "C: 0.1 squared_hinge balanced : 0.9651354281733682\n",
      "C: 1 hinge None : 0.962725455165952\n",
      "C: 1 hinge balanced : 0.9621110838759281\n",
      "C: 1 squared_hinge None : 0.9632873639082755\n",
      "C: 1 squared_hinge balanced : 0.9619399664964746\n",
      "C: 5 hinge None : 0.957088195859742\n",
      "C: 5 hinge balanced : 0.9574887887824263\n",
      "C: 5 squared_hinge None : 0.9592488892916949\n",
      "C: 5 squared_hinge balanced : 0.958793126977616\n",
      "C: 10 hinge None : 0.9564189849104008\n",
      "C: 10 hinge balanced : 0.9555649180175219\n",
      "C: 10 squared_hinge None : 0.9591408658264106\n",
      "C: 10 squared_hinge balanced : 0.9579119550290568\n",
      "C: 50 hinge None : 0.9562481792806105\n",
      "C: 50 hinge balanced : 0.957462838851613\n",
      "C: 50 squared_hinge None : 0.9570660348234998\n",
      "C: 50 squared_hinge balanced : 0.957809030068492\n",
      "Duration: 0:57:56.544301\n"
     ]
    }
   ],
   "source": [
    "# SVM approaches\n",
    "svm_params_2 = {'C': [0.0001, 0.001, 0.01, 0.1, 1, 5, 10, 50],\n",
    "                #'penalty' : ['l1', 'l2'],\n",
    "                'loss': ['hinge', 'squared_hinge'],\n",
    "                'class_weight' : [None, 'balanced']}\n",
    "\n",
    "# Dictionary to save results\n",
    "results = {}\n",
    "results['C'] = [];  results['loss'] = [];\n",
    "results['class_weight'] = []; results['mean_auc'] = []\n",
    "\n",
    "\n",
    "# Loop \n",
    "start_time = datetime.now()\n",
    "for C in svm_params_2['C']:\n",
    "    for loss in svm_params_2['loss']:\n",
    "        for reweigth in svm_params_2['class_weight']:\n",
    "            model = LinearSVC(C = C, loss = loss, class_weight = reweigth)\n",
    "\n",
    "            calibrated = CalibratedClassifierCV(model, method='isotonic', cv=3) \n",
    "            cv = RepeatedStratifiedKFold(n_splits=10, n_repeats=3, random_state=1)\n",
    "            scores = cross_val_score(calibrated, X_train, y, scoring='roc_auc', cv=cv, n_jobs=-1)\n",
    "            mean_score = np.mean(scores)\n",
    "\n",
    "            print('C:', C, loss, str(reweigth), ':', mean_score)\n",
    "            results['C'].append(C);  results['loss'].append(loss)\n",
    "            results['mean_auc'].append(mean_score); results['class_weight'].append(reweigth)\n",
    "\n",
    "end_time = datetime.now()\n",
    "print('Duration: {}'.format(end_time - start_time))\n",
    "\n",
    "df_gs_svm2 = pd.DataFrame(results)"
   ]
  },
  {
   "cell_type": "code",
   "execution_count": 71,
   "id": "6228719a",
   "metadata": {},
   "outputs": [
    {
     "data": {
      "text/html": [
       "<div>\n",
       "<style scoped>\n",
       "    .dataframe tbody tr th:only-of-type {\n",
       "        vertical-align: middle;\n",
       "    }\n",
       "\n",
       "    .dataframe tbody tr th {\n",
       "        vertical-align: top;\n",
       "    }\n",
       "\n",
       "    .dataframe thead th {\n",
       "        text-align: right;\n",
       "    }\n",
       "</style>\n",
       "<table border=\"1\" class=\"dataframe\">\n",
       "  <thead>\n",
       "    <tr style=\"text-align: right;\">\n",
       "      <th></th>\n",
       "      <th>C</th>\n",
       "      <th>loss</th>\n",
       "      <th>class_weight</th>\n",
       "      <th>mean_auc</th>\n",
       "    </tr>\n",
       "  </thead>\n",
       "  <tbody>\n",
       "    <tr>\n",
       "      <th>10</th>\n",
       "      <td>0.010</td>\n",
       "      <td>squared_hinge</td>\n",
       "      <td>None</td>\n",
       "      <td>0.967540</td>\n",
       "    </tr>\n",
       "    <tr>\n",
       "      <th>7</th>\n",
       "      <td>0.001</td>\n",
       "      <td>squared_hinge</td>\n",
       "      <td>balanced</td>\n",
       "      <td>0.966635</td>\n",
       "    </tr>\n",
       "    <tr>\n",
       "      <th>6</th>\n",
       "      <td>0.001</td>\n",
       "      <td>squared_hinge</td>\n",
       "      <td>None</td>\n",
       "      <td>0.966447</td>\n",
       "    </tr>\n",
       "    <tr>\n",
       "      <th>11</th>\n",
       "      <td>0.010</td>\n",
       "      <td>squared_hinge</td>\n",
       "      <td>balanced</td>\n",
       "      <td>0.966429</td>\n",
       "    </tr>\n",
       "    <tr>\n",
       "      <th>14</th>\n",
       "      <td>0.100</td>\n",
       "      <td>squared_hinge</td>\n",
       "      <td>None</td>\n",
       "      <td>0.966366</td>\n",
       "    </tr>\n",
       "  </tbody>\n",
       "</table>\n",
       "</div>"
      ],
      "text/plain": [
       "        C           loss class_weight  mean_auc\n",
       "10  0.010  squared_hinge         None  0.967540\n",
       "7   0.001  squared_hinge     balanced  0.966635\n",
       "6   0.001  squared_hinge         None  0.966447\n",
       "11  0.010  squared_hinge     balanced  0.966429\n",
       "14  0.100  squared_hinge         None  0.966366"
      ]
     },
     "execution_count": 71,
     "metadata": {},
     "output_type": "execute_result"
    }
   ],
   "source": [
    "df_gs_svm2.sort_values(by = 'mean_auc', ascending=False).head(5)"
   ]
  },
  {
   "cell_type": "code",
   "execution_count": 72,
   "id": "26acfab2",
   "metadata": {},
   "outputs": [
    {
     "data": {
      "text/plain": [
       "<AxesSubplot:xlabel='C', ylabel='mean_auc'>"
      ]
     },
     "execution_count": 72,
     "metadata": {},
     "output_type": "execute_result"
    },
    {
     "data": {
      "image/png": "[encoded data removed]",
      "text/plain": [
       "<Figure size 432x288 with 1 Axes>"
      ]
     },
     "metadata": {
      "needs_background": "light"
     },
     "output_type": "display_data"
    }
   ],
   "source": [
    "sns.scatterplot(x = 'C', y = 'mean_auc', hue = 'loss', style = 'class_weight', data = df_gs_svm2)"
   ]
  },
  {
   "cell_type": "markdown",
   "id": "97c53c64",
   "metadata": {},
   "source": [
    "The best model dot not include the option balanced. However the differencess of the average AUC are so low in most of the adjusments. Lets upload predicted probabilities to kaggle"
   ]
  },
  {
   "cell_type": "code",
   "execution_count": 73,
   "id": "4455fac0",
   "metadata": {},
   "outputs": [
    {
     "data": {
      "text/plain": [
       "CalibratedClassifierCV(base_estimator=LinearSVC(C=0.001), cv=3,\n",
       "                       method='isotonic')"
      ]
     },
     "execution_count": 73,
     "metadata": {},
     "output_type": "execute_result"
    }
   ],
   "source": [
    "svm_m2_cali_obj = CalibratedClassifierCV(LinearSVC(C = 0.001, loss = 'squared_hinge', class_weight = None), method='isotonic', cv=3) \n",
    "svm_m2_cali_obj.fit(X_train, y)"
   ]
  },
  {
   "cell_type": "code",
   "execution_count": 74,
   "id": "480aa7b7",
   "metadata": {},
   "outputs": [
    {
     "data": {
      "text/plain": [
       "<AxesSubplot:ylabel='Density'>"
      ]
     },
     "execution_count": 74,
     "metadata": {},
     "output_type": "execute_result"
    },
    {
     "data": {
      "image/png": "[encoded data removed]",
      "text/plain": [
       "<Figure size 432x288 with 1 Axes>"
      ]
     },
     "metadata": {
      "needs_background": "light"
     },
     "output_type": "display_data"
    }
   ],
   "source": [
    "y_test_hat_svm_m2_cali = svm_m2_cali_obj.predict_proba(X_test)\n",
    "sns.distplot(y_test_hat_svm_m2_cali[:,1])"
   ]
  },
  {
   "cell_type": "code",
   "execution_count": 75,
   "id": "d013829a",
   "metadata": {},
   "outputs": [],
   "source": [
    "# Export the probabilities\n",
    "test_predictions_submit = pd.DataFrame({\"icustay_id\": X_test.index, \"HOSPITAL_EXPIRE_FLAG\": y_test_hat_svm_m2_cali[:,1]})\n",
    "test_predictions_submit.to_csv(\"data/outputs/svm_m2_cal.csv\", index = False)"
   ]
  },
  {
   "cell_type": "markdown",
   "id": "ba85c45b",
   "metadata": {},
   "source": [
    "### Pipeline to find best Linear SVM (hyperparamenters) resampled method and \n",
    "\n",
    "This new grid search aims to include everything that I have tested so far: 1) Hyperameters of the linear SVM and 2) different under sampline approaches.\n",
    "\n",
    "Since, this taks implies running hundreds of different fits and since I need to perform cross validation, I can't use the normal class of grid search. I will try to improve computing performance by configuring the next loop with multiprocessing over different cores of the machine."
   ]
  },
  {
   "cell_type": "code",
   "execution_count": 20,
   "id": "a2a055d3",
   "metadata": {},
   "outputs": [],
   "source": [
    "# Multiprocessing library to use 5 cores of my computed (one for each fold in cross validation)\n",
    "import multiprocessing\n",
    "from multiprocessing.pool import ThreadPool as Pool\n",
    "\n",
    "from sklearn.model_selection import train_test_split"
   ]
  },
  {
   "cell_type": "code",
   "execution_count": 18,
   "id": "9e4cf2e2",
   "metadata": {},
   "outputs": [
    {
     "name": "stdout",
     "output_type": "stream",
     "text": [
      "C: 0.0001 hinge None [ RandomUnderS ] : 0.9163898406568618\n",
      "C: 0.0001 hinge None [ NearMiss() ] : 0.8559783872792822\n",
      "C: 0.0001 hinge None [ Neighbourhoo ] : 0.9434824738819054\n",
      "C: 0.0001 hinge None [ TomekLinks() ] : 0.9457598180646494\n",
      "C: 0.0001 hinge balanced [ RandomUnderS ] : 0.9151535470235551\n",
      "C: 0.0001 hinge balanced [ NearMiss() ] : 0.8564604937731433\n",
      "C: 0.0001 hinge balanced [ OneSidedSele ] : 0.9471699161555083\n",
      "C: 0.0001 hinge balanced [ Neighbourhoo ] : 0.9436621300632518\n",
      "C: 0.0001 hinge balanced [ TomekLinks() ] : 0.945419907437698\n",
      "C: 0.0001 squared_hinge None [ RandomUnderS ] : 0.9425473209476456\n",
      "C: 0.0001 squared_hinge None [ NearMiss() ] : 0.8645579178601274\n",
      "C: 0.0001 squared_hinge None [ Neighbourhoo ] : 0.9546036856610858\n",
      "C: 0.0001 squared_hinge None [ TomekLinks() ] : 0.9586960877392638\n",
      "C: 0.0001 squared_hinge balanced [ RandomUnderS ] : 0.9428707830000469\n",
      "C: 0.0001 squared_hinge balanced [ NearMiss() ] : 0.8754588635108351\n",
      "C: 0.0001 squared_hinge balanced [ Neighbourhoo ] : 0.95480112216307\n",
      "C: 0.0001 squared_hinge balanced [ TomekLinks() ] : 0.9617015845989316\n",
      "C: 0.001 hinge None [ RandomUnderS ] : 0.9513708071543269\n",
      "C: 0.001 hinge None [ NearMiss() ] : 0.8805614724291922\n",
      "C: 0.001 hinge None [ Neighbourhoo ] : 0.9606232413492783\n",
      "C: 0.001 hinge None [ TomekLinks() ] : 0.9587304943558763\n",
      "C: 0.001 hinge balanced [ RandomUnderS ] : 0.9527568149005609\n",
      "C: 0.001 hinge balanced [ NearMiss() ] : 0.8775399591166613\n",
      "C: 0.001 hinge balanced [ Neighbourhoo ] : 0.9576626689036644\n",
      "C: 0.001 hinge balanced [ TomekLinks() ] : 0.9629114004792283\n",
      "C: 0.001 squared_hinge None [ RandomUnderS ] : 0.9559435210177842\n",
      "C: 0.001 squared_hinge None [ NearMiss() ] : 0.8880831667705597\n",
      "C: 0.001 squared_hinge None [ Neighbourhoo ] : 0.962001945621078\n",
      "C: 0.001 squared_hinge None [ TomekLinks() ] : 0.9670455661962617\n",
      "C: 0.001 squared_hinge balanced [ RandomUnderS ] : 0.9585038108570586\n",
      "C: 0.001 squared_hinge balanced [ NearMiss() ] : 0.89145240437312\n",
      "C: 0.001 squared_hinge balanced [ Neighbourhoo ] : 0.9637482232884562\n",
      "C: 0.001 squared_hinge balanced [ TomekLinks() ] : 0.9660421169457643\n",
      "C: 0.01 hinge None [ RandomUnderS ] : 0.9525886909150559\n",
      "C: 0.01 hinge None [ NearMiss() ] : 0.8825697472847503\n",
      "C: 0.01 hinge None [ OneSidedSele ] : 0.96425336507589\n",
      "C: 0.01 hinge None [ Neighbourhoo ] : 0.9621087056864394\n",
      "C: 0.01 hinge None [ TomekLinks() ] : 0.9630442172519468\n",
      "C: 0.01 hinge balanced [ RandomUnderS ] : 0.9521373048215589\n",
      "C: 0.01 hinge balanced [ NearMiss() ] : 0.8792276593414174\n",
      "C: 0.01 hinge balanced [ Neighbourhoo ] : 0.9612833148507118\n",
      "C: 0.01 hinge balanced [ TomekLinks() ] : 0.9633709565273174\n",
      "C: 0.01 squared_hinge None [ RandomUnderS ] : 0.9540584926083738\n",
      "C: 0.01 squared_hinge None [ NearMiss() ] : 0.8879848732222326\n",
      "C: 0.01 squared_hinge None [ Neighbourhoo ] : 0.9642427254851873\n",
      "C: 0.01 squared_hinge None [ TomekLinks() ] : 0.9673721051502691\n",
      "C: 0.01 squared_hinge balanced [ RandomUnderS ] : 0.9575862480736991\n",
      "C: 0.01 squared_hinge balanced [ NearMiss() ] : 0.8906923292680547\n",
      "C: 0.01 squared_hinge balanced [ OneSidedSele ] : 0.9645732935618752\n",
      "C: 0.01 squared_hinge balanced [ Neighbourhoo ] : 0.9611303476359863\n",
      "C: 0.01 squared_hinge balanced [ TomekLinks() ] : 0.9646719653706869\n",
      "C: 0.1 hinge None [ RandomUnderS ] : 0.9480993765120497\n",
      "C: 0.1 hinge None [ NearMiss() ] : 0.8771658316665546\n",
      "C: 0.1 hinge None [ Neighbourhoo ] : 0.961235460887675\n",
      "C: 0.1 hinge None [ TomekLinks() ] : 0.9618758772528648\n",
      "C: 0.1 hinge balanced [ RandomUnderS ] : 0.9461712540025224\n",
      "C: 0.1 hinge balanced [ NearMiss() ] : 0.8834933505791088\n",
      "C: 0.1 hinge balanced [ Neighbourhoo ] : 0.9598631421170974\n",
      "C: 0.1 hinge balanced [ TomekLinks() ] : 0.9604270728287416\n",
      "C: 0.1 squared_hinge None [ RandomUnderS ] : 0.9424382149887716\n",
      "C: 0.1 squared_hinge None [ NearMiss() ] : 0.8788640570281334\n",
      "C: 0.1 squared_hinge None [ OneSidedSele ] : 0.9652275314718587\n",
      "C: 0.1 squared_hinge None [ Neighbourhoo ] : 0.9632667323283313\n",
      "C: 0.1 squared_hinge None [ TomekLinks() ] : 0.9661883725233039\n",
      "C: 0.1 squared_hinge balanced [ RandomUnderS ] : 0.9473496148581011\n",
      "C: 0.1 squared_hinge balanced [ NearMiss() ] : 0.8770001557270829\n",
      "C: 0.1 squared_hinge balanced [ Neighbourhoo ] : 0.9606279840107759\n",
      "C: 0.1 squared_hinge balanced [ TomekLinks() ] : 0.9622469289254572\n",
      "C: 1 hinge None [ RandomUnderS ] : 0.9401805095591866\n",
      "C: 1 hinge None [ NearMiss() ] : 0.8688939940436157\n",
      "C: 1 hinge None [ Neighbourhoo ] : 0.9632716674389122\n",
      "C: 1 hinge None [ TomekLinks() ] : 0.9599950244497467\n",
      "C: 1 hinge balanced [ RandomUnderS ] : 0.9415531601964331\n",
      "C: 1 hinge balanced [ NearMiss() ] : 0.8683403136665049\n",
      "C: 1 hinge balanced [ OneSidedSele ] : 0.9579366153180983\n",
      "C: 1 hinge balanced [ Neighbourhoo ] : 0.956448060283134\n",
      "C: 1 hinge balanced [ TomekLinks() ] : 0.9608664716617035\n",
      "C: 1 squared_hinge None [ RandomUnderS ] : 0.9364338963426068\n",
      "C: 1 squared_hinge None [ NearMiss() ] : 0.8672829270746947\n",
      "C: 1 squared_hinge None [ OneSidedSele ] : 0.9619557945751129\n",
      "C: 1 squared_hinge None [ Neighbourhoo ] : 0.9577137053474127\n",
      "C: 1 squared_hinge None [ TomekLinks() ] : 0.9604641210305724\n",
      "C: 1 squared_hinge balanced [ RandomUnderS ] : 0.9389956952008622\n",
      "C: 1 squared_hinge balanced [ NearMiss() ] : 0.8790056329197066\n",
      "C: 1 squared_hinge balanced [ OneSidedSele ] : 0.9607434108967894\n",
      "C: 1 squared_hinge balanced [ Neighbourhoo ] : 0.958374264289484\n",
      "C: 1 squared_hinge balanced [ TomekLinks() ] : 0.9612125614493927\n",
      "C: 5 hinge None [ RandomUnderS ] : 0.9381435825664836\n",
      "C: 5 hinge None [ NearMiss() ] : 0.8750064322348459\n",
      "C: 5 hinge None [ OneSidedSele ] : 0.9545156066233028\n",
      "C: 5 hinge None [ Neighbourhoo ] : 0.955509705140193\n",
      "C: 5 hinge None [ TomekLinks() ] : 0.9543050236441971\n",
      "C: 5 hinge balanced [ RandomUnderS ] : 0.9428677408839278\n",
      "C: 5 hinge balanced [ NearMiss() ] : 0.8706180874750622\n",
      "C: 5 hinge balanced [ Neighbourhoo ] : 0.9593936428354691\n",
      "C: 5 hinge balanced [ TomekLinks() ] : 0.9557524431933944\n",
      "C: 5 squared_hinge None [ RandomUnderS ] : 0.9389673238402054\n",
      "C: 5 squared_hinge None [ NearMiss() ] : 0.8840018213255563\n",
      "C: 5 squared_hinge None [ Neighbourhoo ] : 0.959397171027385\n",
      "C: 5 squared_hinge None [ TomekLinks() ] : 0.9549994126121296\n",
      "C: 5 squared_hinge balanced [ RandomUnderS ] : 0.9332091995234979\n",
      "C: 5 squared_hinge balanced [ NearMiss() ] : 0.8741325381889122\n",
      "C: 5 squared_hinge balanced [ Neighbourhoo ] : 0.958449014727502\n",
      "C: 5 squared_hinge balanced [ TomekLinks() ] : 0.9586835274712031\n",
      "C: 10 hinge None [ RandomUnderS ] : 0.9383535066911985\n",
      "C: 10 hinge None [ NearMiss() ] : 0.8815467956070033\n",
      "C: 10 hinge None [ Neighbourhoo ] : 0.9549889647849742\n",
      "C: 10 hinge None [ TomekLinks() ] : 0.9530191634347688\n",
      "C: 10 hinge balanced [ RandomUnderS ] : 0.9372995971491329\n",
      "C: 10 hinge balanced [ NearMiss() ] : 0.8752623324753561\n",
      "C: 10 hinge balanced [ Neighbourhoo ] : 0.9571705959505279\n",
      "C: 10 hinge balanced [ TomekLinks() ] : 0.9534010120163051\n",
      "C: 10 squared_hinge None [ RandomUnderS ] : 0.9441442739287238\n",
      "C: 10 squared_hinge None [ NearMiss() ] : 0.8644698795760448\n",
      "C: 10 squared_hinge None [ Neighbourhoo ] : 0.9566721706215384\n",
      "C: 10 squared_hinge None [ TomekLinks() ] : 0.9541967121788553\n",
      "C: 10 squared_hinge balanced [ RandomUnderS ] : 0.9376958139820823\n",
      "C: 10 squared_hinge balanced [ NearMiss() ] : 0.8705101717306036\n",
      "C: 10 squared_hinge balanced [ Neighbourhoo ] : 0.9553499105665232\n",
      "C: 10 squared_hinge balanced [ TomekLinks() ] : 0.9526065343918038\n",
      "C: 50 hinge None [ RandomUnderS ] : 0.9396378213459542\n",
      "C: 50 hinge None [ NearMiss() ] : 0.8807256539610089\n",
      "C: 50 hinge balanced [ OneSidedSele ] : 0.9547222809158115\n",
      "C: 50 hinge balanced [ TomekLinks() ] : 0.9568847609162333\n",
      "C: 50 squared_hinge None [ RandomUnderS ] : 0.93907913923253\n",
      "C: 50 squared_hinge None [ NearMiss() ] : 0.8798916795451616\n",
      "C: 50 squared_hinge None [ Neighbourhoo ] : 0.9595082977067915\n",
      "C: 50 squared_hinge None [ TomekLinks() ] : 0.9562085017482567\n",
      "C: 50 squared_hinge balanced [ RandomUnderS ] : 0.9436334850855701\n",
      "C: 50 squared_hinge balanced [ NearMiss() ] : 0.8711502059421997\n",
      "C: 50 squared_hinge balanced [ OneSidedSele ] : 0.9544038279500192\n",
      "C: 50 squared_hinge balanced [ Neighbourhoo ] : 0.9553257628694029\n",
      "C: 50 squared_hinge balanced [ TomekLinks() ] : 0.9544999209836911\n",
      "C: 100 hinge None [ RandomUnderS ] : 0.9390028132487256\n"
     ]
    },
    {
     "name": "stdout",
     "output_type": "stream",
     "text": [
      "C: 100 hinge None [ NearMiss() ] : 0.8741421590000694\n",
      "C: 100 hinge None [ Neighbourhoo ] : 0.956893420504801\n",
      "C: 100 hinge None [ TomekLinks() ] : 0.954641168305961\n",
      "C: 100 hinge balanced [ RandomUnderS ] : 0.9421460077564211\n",
      "C: 100 hinge balanced [ NearMiss() ] : 0.8752545673203687\n",
      "C: 100 hinge balanced [ Neighbourhoo ] : 0.9568400106269423\n",
      "C: 100 hinge balanced [ TomekLinks() ] : 0.9591499339485949\n",
      "C: 100 squared_hinge None [ RandomUnderS ] : 0.9433492435295914\n",
      "C: 100 squared_hinge None [ NearMiss() ] : 0.8707277057458409\n",
      "C: 100 squared_hinge None [ Neighbourhoo ] : 0.9568743090768954\n",
      "C: 100 squared_hinge None [ TomekLinks() ] : 0.9557595475592372\n",
      "C: 100 squared_hinge balanced [ RandomUnderS ] : 0.9419037042506119\n",
      "C: 100 squared_hinge balanced [ NearMiss() ] : 0.8824035052640307\n",
      "C: 100 squared_hinge balanced [ Neighbourhoo ] : 0.9563328711510796\n",
      "C: 100 squared_hinge balanced [ TomekLinks() ] : 0.9536095253605141\n",
      "C: 200 hinge None [ RandomUnderS ] : 0.9403129749216841\n",
      "C: 200 hinge None [ NearMiss() ] : 0.8750713913902175\n",
      "C: 200 hinge None [ Neighbourhoo ] : 0.9605709337239166\n",
      "C: 200 hinge None [ TomekLinks() ] : 0.9588895218039738\n",
      "C: 200 hinge balanced [ RandomUnderS ] : 0.9393309879666132\n",
      "C: 200 hinge balanced [ NearMiss() ] : 0.8691555155807628\n",
      "C: 200 hinge balanced [ OneSidedSele ] : 0.9543159380468962\n",
      "C: 200 hinge balanced [ TomekLinks() ] : 0.9568591273106382\n",
      "C: 200 squared_hinge None [ RandomUnderS ] : 0.9429147431939142\n",
      "C: 200 squared_hinge None [ NearMiss() ] : 0.8686994792263768\n",
      "C: 200 squared_hinge None [ Neighbourhoo ] : 0.9569567539189897\n",
      "C: 200 squared_hinge None [ TomekLinks() ] : 0.9587635870971873\n",
      "C: 200 squared_hinge balanced [ RandomUnderS ] : 0.9429086963616138\n",
      "C: 200 squared_hinge balanced [ NearMiss() ] : 0.8751348163471997\n",
      "C: 200 squared_hinge balanced [ Neighbourhoo ] : 0.9548182425097178\n",
      "C: 200 squared_hinge balanced [ TomekLinks() ] : 0.9525598862356585\n",
      "C: 500 hinge None [ RandomUnderS ] : 0.9404532137525099\n",
      "C: 500 hinge None [ NearMiss() ] : 0.883205304142298\n",
      "C: 500 hinge None [ OneSidedSele ] : 0.9564750868971629\n",
      "C: 500 hinge None [ Neighbourhoo ] : 0.9553777765520051\n",
      "C: 500 hinge None [ TomekLinks() ] : 0.9561938106389405\n",
      "C: 500 hinge balanced [ RandomUnderS ] : 0.9423254327115567\n",
      "C: 500 hinge balanced [ NearMiss() ] : 0.8832564224540809\n",
      "C: 500 hinge balanced [ Neighbourhoo ] : 0.954954081503964\n",
      "C: 500 hinge balanced [ TomekLinks() ] : 0.9573604444614275\n",
      "C: 500 squared_hinge None [ RandomUnderS ] : 0.9391302546492903\n",
      "C: 500 squared_hinge None [ NearMiss() ] : 0.8787993431778567\n",
      "C: 500 squared_hinge None [ Neighbourhoo ] : 0.9578411745593876\n",
      "C: 500 squared_hinge None [ TomekLinks() ] : 0.9567334414277134\n",
      "C: 500 squared_hinge balanced [ RandomUnderS ] : 0.9388080107888612\n",
      "C: 500 squared_hinge balanced [ NearMiss() ] : 0.8677641750286866\n",
      "C: 500 squared_hinge balanced [ Neighbourhoo ] : 0.9583096024882813\n",
      "C: 500 squared_hinge balanced [ TomekLinks() ] : 0.9538003984954017\n",
      "Duration: 1:14:10.742970\n"
     ]
    }
   ],
   "source": [
    "# SVM approaches\n",
    "svm_params_2 = {'C': [0.0001, 0.001, 0.01, 0.1, 1, 5, 10, 50, 100, 200, 500],\n",
    "                #'penalty' : ['l1', 'l2'],\n",
    "                'loss': ['hinge', 'squared_hinge'],\n",
    "                'class_weight' : [None, 'balanced']}\n",
    "\n",
    "# Dictionary to save results\n",
    "results = {}\n",
    "results['C'] = [];  results['loss'] = [];\n",
    "results['class_weight'] = []; results['mean_auc'] = []; results['resampling'] = []\n",
    "\n",
    "\n",
    "# Class to split the data into train and validation, resample, and calibrate probabilities\n",
    "# This class returns the computed AUC\n",
    "class own_cv():\n",
    "    def __init__(self, model_, resampling_):\n",
    "        self.model_ = model_\n",
    "        self.resampling_ = resampling_\n",
    "    \n",
    "    def fit(self, step):\n",
    "        \n",
    "        X_train_gs, X_val_gs, y_train_gs, y_val_gs = train_test_split(X_train, y, test_size=0.25)\n",
    "        X_train_resampled_gs, y_train_resampled_gs = self.resampling_.fit_resample(X_train_gs, y_train_gs)\n",
    "\n",
    "        calibrated = CalibratedClassifierCV(self.model_, method='isotonic', cv=3) \n",
    "        calibrated.fit(X_train_resampled_gs, y_train_resampled_gs)\n",
    "        proba = calibrated.predict_proba(X_val_gs)\n",
    "        auc = roc_auc_score(y_val_gs, proba[:,1])\n",
    "\n",
    "        return auc\n",
    "\n",
    "\n",
    "# Loop over each of the parameters to test\n",
    "start_time = datetime.now()\n",
    "for C in svm_params_2['C']:\n",
    "    for loss in svm_params_2['loss']: \n",
    "        for reweigth in svm_params_2['class_weight']:\n",
    "            for resampling in under_sampling:\n",
    "                \n",
    "                try:\n",
    "                    model = LinearSVC(C = C, loss = loss, class_weight = reweigth)\n",
    "                    # 5 times the class own_cv (cross validation) using different cores\n",
    "                    if __name__ == '__main__':\n",
    "                        pool = Pool(5)    \n",
    "\n",
    "                        iter_n = range(0,5)\n",
    "                        cv_class = own_cv(model, resampling)\n",
    "                        scores = pool.map(cv_class.fit, iter_n)\n",
    "                        pool.terminate()\n",
    "                    \n",
    "                    mean_score = np.mean(scores)\n",
    "                    print('C:', C, loss, str(reweigth),  '[', str(resampling)[:12], ']' ,':', mean_score)\n",
    "                    results['C'].append(C);  results['loss'].append(loss); results['mean_auc'].append(mean_score)\n",
    "                    results['class_weight'].append(reweigth); results['resampling'].append(str(resampling)[:12])\n",
    "\n",
    "                except:\n",
    "                    pass\n",
    "                \n",
    "end_time = datetime.now()\n",
    "print('Duration: {}'.format(end_time - start_time))\n",
    "\n",
    "df_gs_svm2 = pd.DataFrame(results)"
   ]
  },
  {
   "cell_type": "code",
   "execution_count": 22,
   "id": "c7a87cfb",
   "metadata": {},
   "outputs": [
    {
     "data": {
      "text/plain": [
       "<AxesSubplot:xlabel='C_log', ylabel='mean_auc'>"
      ]
     },
     "execution_count": 22,
     "metadata": {},
     "output_type": "execute_result"
    },
    {
     "data": {
      "image/png": "[encoded data removed]",
      "text/plain": [
       "<Figure size 432x288 with 1 Axes>"
      ]
     },
     "metadata": {
      "needs_background": "light"
     },
     "output_type": "display_data"
    }
   ],
   "source": [
    "df_gs_svm2['C_log'] = np.log(df_gs_svm2['C'])\n",
    "sns.scatterplot(x = 'C_log', y = 'mean_auc', hue = 'resampling', ,data = df_gs_svm2)"
   ]
  },
  {
   "cell_type": "code",
   "execution_count": 23,
   "id": "ab14cbe1",
   "metadata": {},
   "outputs": [
    {
     "data": {
      "text/html": [
       "<div>\n",
       "<style scoped>\n",
       "    .dataframe tbody tr th:only-of-type {\n",
       "        vertical-align: middle;\n",
       "    }\n",
       "\n",
       "    .dataframe tbody tr th {\n",
       "        vertical-align: top;\n",
       "    }\n",
       "\n",
       "    .dataframe thead th {\n",
       "        text-align: right;\n",
       "    }\n",
       "</style>\n",
       "<table border=\"1\" class=\"dataframe\">\n",
       "  <thead>\n",
       "    <tr style=\"text-align: right;\">\n",
       "      <th></th>\n",
       "      <th>C</th>\n",
       "      <th>loss</th>\n",
       "      <th>class_weight</th>\n",
       "      <th>mean_auc</th>\n",
       "      <th>resampling</th>\n",
       "      <th>C_log</th>\n",
       "    </tr>\n",
       "  </thead>\n",
       "  <tbody>\n",
       "    <tr>\n",
       "      <th>45</th>\n",
       "      <td>0.0100</td>\n",
       "      <td>squared_hinge</td>\n",
       "      <td>None</td>\n",
       "      <td>0.967372</td>\n",
       "      <td>TomekLinks()</td>\n",
       "      <td>-4.605170</td>\n",
       "    </tr>\n",
       "    <tr>\n",
       "      <th>28</th>\n",
       "      <td>0.0010</td>\n",
       "      <td>squared_hinge</td>\n",
       "      <td>None</td>\n",
       "      <td>0.967046</td>\n",
       "      <td>TomekLinks()</td>\n",
       "      <td>-6.907755</td>\n",
       "    </tr>\n",
       "    <tr>\n",
       "      <th>63</th>\n",
       "      <td>0.1000</td>\n",
       "      <td>squared_hinge</td>\n",
       "      <td>None</td>\n",
       "      <td>0.966188</td>\n",
       "      <td>TomekLinks()</td>\n",
       "      <td>-2.302585</td>\n",
       "    </tr>\n",
       "    <tr>\n",
       "      <th>32</th>\n",
       "      <td>0.0010</td>\n",
       "      <td>squared_hinge</td>\n",
       "      <td>balanced</td>\n",
       "      <td>0.966042</td>\n",
       "      <td>TomekLinks()</td>\n",
       "      <td>-6.907755</td>\n",
       "    </tr>\n",
       "    <tr>\n",
       "      <th>61</th>\n",
       "      <td>0.1000</td>\n",
       "      <td>squared_hinge</td>\n",
       "      <td>None</td>\n",
       "      <td>0.965228</td>\n",
       "      <td>OneSidedSele</td>\n",
       "      <td>-2.302585</td>\n",
       "    </tr>\n",
       "    <tr>\n",
       "      <th>...</th>\n",
       "      <td>...</td>\n",
       "      <td>...</td>\n",
       "      <td>...</td>\n",
       "      <td>...</td>\n",
       "      <td>...</td>\n",
       "      <td>...</td>\n",
       "    </tr>\n",
       "    <tr>\n",
       "      <th>78</th>\n",
       "      <td>1.0000</td>\n",
       "      <td>squared_hinge</td>\n",
       "      <td>None</td>\n",
       "      <td>0.867283</td>\n",
       "      <td>NearMiss()</td>\n",
       "      <td>0.000000</td>\n",
       "    </tr>\n",
       "    <tr>\n",
       "      <th>10</th>\n",
       "      <td>0.0001</td>\n",
       "      <td>squared_hinge</td>\n",
       "      <td>None</td>\n",
       "      <td>0.864558</td>\n",
       "      <td>NearMiss()</td>\n",
       "      <td>-9.210340</td>\n",
       "    </tr>\n",
       "    <tr>\n",
       "      <th>113</th>\n",
       "      <td>10.0000</td>\n",
       "      <td>squared_hinge</td>\n",
       "      <td>None</td>\n",
       "      <td>0.864470</td>\n",
       "      <td>NearMiss()</td>\n",
       "      <td>2.302585</td>\n",
       "    </tr>\n",
       "    <tr>\n",
       "      <th>5</th>\n",
       "      <td>0.0001</td>\n",
       "      <td>hinge</td>\n",
       "      <td>balanced</td>\n",
       "      <td>0.856460</td>\n",
       "      <td>NearMiss()</td>\n",
       "      <td>-9.210340</td>\n",
       "    </tr>\n",
       "    <tr>\n",
       "      <th>1</th>\n",
       "      <td>0.0001</td>\n",
       "      <td>hinge</td>\n",
       "      <td>None</td>\n",
       "      <td>0.855978</td>\n",
       "      <td>NearMiss()</td>\n",
       "      <td>-9.210340</td>\n",
       "    </tr>\n",
       "  </tbody>\n",
       "</table>\n",
       "<p>186 rows × 6 columns</p>\n",
       "</div>"
      ],
      "text/plain": [
       "           C           loss class_weight  mean_auc    resampling     C_log\n",
       "45    0.0100  squared_hinge         None  0.967372  TomekLinks() -4.605170\n",
       "28    0.0010  squared_hinge         None  0.967046  TomekLinks() -6.907755\n",
       "63    0.1000  squared_hinge         None  0.966188  TomekLinks() -2.302585\n",
       "32    0.0010  squared_hinge     balanced  0.966042  TomekLinks() -6.907755\n",
       "61    0.1000  squared_hinge         None  0.965228  OneSidedSele -2.302585\n",
       "..       ...            ...          ...       ...           ...       ...\n",
       "78    1.0000  squared_hinge         None  0.867283    NearMiss()  0.000000\n",
       "10    0.0001  squared_hinge         None  0.864558    NearMiss() -9.210340\n",
       "113  10.0000  squared_hinge         None  0.864470    NearMiss()  2.302585\n",
       "5     0.0001          hinge     balanced  0.856460    NearMiss() -9.210340\n",
       "1     0.0001          hinge         None  0.855978    NearMiss() -9.210340\n",
       "\n",
       "[186 rows x 6 columns]"
      ]
     },
     "execution_count": 23,
     "metadata": {},
     "output_type": "execute_result"
    }
   ],
   "source": [
    "df_gs_svm2.sort_values(by = 'mean_auc', ascending=False)"
   ]
  },
  {
   "cell_type": "markdown",
   "id": "1ce50932",
   "metadata": {},
   "source": [
    "From the table above we see that the best undersampling method is the TomekLinks. With this undersampling method the best hyperaparameters for the Linear AVM are the same as the previous grid searches. Now lets fit this best model to upload the probabilities to kaggle."
   ]
  },
  {
   "cell_type": "code",
   "execution_count": 23,
   "id": "d3285f33",
   "metadata": {},
   "outputs": [
    {
     "data": {
      "text/plain": [
       "CalibratedClassifierCV(base_estimator=LinearSVC(C=0.01), cv=3,\n",
       "                       method='isotonic')"
      ]
     },
     "execution_count": 23,
     "metadata": {},
     "output_type": "execute_result"
    }
   ],
   "source": [
    "# Fitting the best model to upload \n",
    "\n",
    "best_svm_resampling = TomekLinks()\n",
    "X_resampled_svm, y_resampled_svm = best_svm_resampling.fit_resample(X_train, y)\n",
    "\n",
    "model = LinearSVC(C = 0.01,  class_weight = None, loss = 'squared_hinge')\n",
    "\n",
    "svm_m3_cali_obj = CalibratedClassifierCV(model, method='isotonic', cv=3) \n",
    "svm_m3_cali_obj.fit(X_resampled_svm, y_resampled_svm)"
   ]
  },
  {
   "cell_type": "code",
   "execution_count": 24,
   "id": "8b96c2d0",
   "metadata": {},
   "outputs": [
    {
     "data": {
      "text/plain": [
       "<AxesSubplot:ylabel='Density'>"
      ]
     },
     "execution_count": 24,
     "metadata": {},
     "output_type": "execute_result"
    },
    {
     "data": {
      "image/png": "[encoded data removed]",
      "text/plain": [
       "<Figure size 432x288 with 1 Axes>"
      ]
     },
     "metadata": {
      "needs_background": "light"
     },
     "output_type": "display_data"
    }
   ],
   "source": [
    "# Probabilities for the test data\n",
    "y_test_hat_svm_m3_cali = svm_m3_cali_obj.predict_proba(X_test)\n",
    "sns.distplot(y_test_hat_svm_m3_cali[:,1])"
   ]
  },
  {
   "cell_type": "code",
   "execution_count": 25,
   "id": "b9de6461",
   "metadata": {},
   "outputs": [],
   "source": [
    "# Export the probabilities\n",
    "test_predictions_submit = pd.DataFrame({\"icustay_id\": X_test.index, \"HOSPITAL_EXPIRE_FLAG\": y_test_hat_svm_m3_cali[:,1]})\n",
    "test_predictions_submit.to_csv(\"data/outputs/svm_m3_cal.csv\", index = False)"
   ]
  },
  {
   "cell_type": "markdown",
   "id": "ef5e0a60",
   "metadata": {},
   "source": [
    "These last predictions decrease in the public leaderboard the AUC compared with the model in which I only did hyperparamenter tunning over the Linear SVM. \n",
    "\n",
    "This shows that the resampling method for SVM does not work as well as in the KNN model.\n",
    "\n",
    "Now I want to test other non linear kernels for the Support Vector machines"
   ]
  },
  {
   "cell_type": "markdown",
   "id": "60c672c6",
   "metadata": {},
   "source": [
    "### Trying a different kernel of SVM: Radial basis function RBF\n",
    "\n",
    "The radial basis function of the SVM is useful when we do not have linearly separable features. This is an option that I have to try "
   ]
  },
  {
   "cell_type": "code",
   "execution_count": 29,
   "id": "528250ba",
   "metadata": {},
   "outputs": [
    {
     "name": "stderr",
     "output_type": "stream",
     "text": [
      "[Parallel(n_jobs=-1)]: Using backend LokyBackend with 8 concurrent workers.\n",
      "[Parallel(n_jobs=-1)]: Done   2 out of   5 | elapsed:  7.6min remaining: 11.3min\n",
      "[Parallel(n_jobs=-1)]: Done   5 out of   5 | elapsed:  7.9min finished\n"
     ]
    }
   ],
   "source": [
    "# Baseline model with rbf kernel\n",
    "\n",
    "model_svm_bl_rbf = SVC(kernel='rbf', probability=True, class_weight='balanced')\n",
    "\n",
    "# Get the predicted proba by cross validation to measure the expeted AUC\n",
    "model_svm_bl_rbf_proba = cross_val_predict(model_svm_bl_rbf, \n",
    "                                           X_train, \n",
    "                                           y, \n",
    "                                           cv = 5, \n",
    "                                           n_jobs = -1, \n",
    "                                           method='predict_proba',\n",
    "                                           verbose = 3)"
   ]
  },
  {
   "cell_type": "code",
   "execution_count": 31,
   "id": "a52595d2",
   "metadata": {},
   "outputs": [
    {
     "data": {
      "image/png": "[encoded data removed]",
      "text/plain": [
       "<Figure size 432x288 with 1 Axes>"
      ]
     },
     "metadata": {
      "needs_background": "light"
     },
     "output_type": "display_data"
    }
   ],
   "source": [
    "roc_curve_plot(y, model_svm_bl_rbf_proba[:,1])"
   ]
  },
  {
   "cell_type": "markdown",
   "id": "911af21c",
   "metadata": {},
   "source": [
    "The AUC from a cross valiation run is the same as the one seen in linear SVM. Lets predict probabilities in the test data and see the AUC score in the leaderboard of kaggle"
   ]
  },
  {
   "cell_type": "code",
   "execution_count": 32,
   "id": "ff3507da",
   "metadata": {},
   "outputs": [
    {
     "data": {
      "text/plain": [
       "<AxesSubplot:ylabel='Density'>"
      ]
     },
     "execution_count": 32,
     "metadata": {},
     "output_type": "execute_result"
    },
    {
     "data": {
      "image/png": "[encoded data removed]",
      "text/plain": [
       "<Figure size 432x288 with 1 Axes>"
      ]
     },
     "metadata": {
      "needs_background": "light"
     },
     "output_type": "display_data"
    }
   ],
   "source": [
    "model_svm_bl_rbf.fit(X_train, y)\n",
    "y_test_hat_svm_m4_rbf = model_svm_bl_rbf.predict_proba(X_test)\n",
    "sns.distplot(y_test_hat_svm_m4_rbf[:,1])"
   ]
  },
  {
   "cell_type": "code",
   "execution_count": 33,
   "id": "09734bad",
   "metadata": {},
   "outputs": [],
   "source": [
    "# Export the probabilities\n",
    "test_predictions_submit = pd.DataFrame({\"icustay_id\": X_test.index, \"HOSPITAL_EXPIRE_FLAG\": y_test_hat_svm_m4_rbf[:,1]})\n",
    "test_predictions_submit.to_csv(\"data/outputs/svm_m4_rbf.csv\", index = False)"
   ]
  },
  {
   "cell_type": "markdown",
   "id": "e1ff8a27",
   "metadata": {},
   "source": [
    "Now lets perform a grid search in order to find a better model for the radial kernel"
   ]
  },
  {
   "cell_type": "code",
   "execution_count": 43,
   "id": "29741f02",
   "metadata": {},
   "outputs": [],
   "source": [
    "svm_params_2 = {'C': [0.01, 0.1, 1, 3, 5, 10],\n",
    "                 'gamma' : ['scale', 'auto']}\n",
    "\n",
    "svm_gs2 = GridSearchCV(SVC(kernel='rbf', class_weight = 'balanced'),\n",
    "                       param_grid = svm_params_2,\n",
    "                       scoring = 'roc_auc',\n",
    "                       n_jobs = -1,\n",
    "                       cv=5,\n",
    "                       refit = False,\n",
    "                       verbose = 2)"
   ]
  },
  {
   "cell_type": "code",
   "execution_count": 44,
   "id": "a9213f28",
   "metadata": {},
   "outputs": [
    {
     "name": "stdout",
     "output_type": "stream",
     "text": [
      "Fitting 5 folds for each of 12 candidates, totalling 60 fits\n"
     ]
    },
    {
     "data": {
      "text/plain": [
       "GridSearchCV(cv=5, estimator=SVC(class_weight='balanced'), n_jobs=-1,\n",
       "             param_grid={'C': [0.01, 0.1, 1, 3, 5, 10],\n",
       "                         'gamma': ['scale', 'auto']},\n",
       "             refit=False, scoring='roc_auc', verbose=2)"
      ]
     },
     "execution_count": 44,
     "metadata": {},
     "output_type": "execute_result"
    }
   ],
   "source": [
    "svm_gs2.fit(X_train, y)"
   ]
  },
  {
   "cell_type": "code",
   "execution_count": 46,
   "id": "e460a876",
   "metadata": {},
   "outputs": [
    {
     "data": {
      "text/plain": [
       "{'C': 3, 'gamma': 'auto'}"
      ]
     },
     "execution_count": 46,
     "metadata": {},
     "output_type": "execute_result"
    }
   ],
   "source": [
    "svm_gs2.best_params_"
   ]
  },
  {
   "cell_type": "code",
   "execution_count": null,
   "id": "0575c209",
   "metadata": {},
   "outputs": [],
   "source": [
    "According to the above, the C 4 with a gamma auto is the best predictor with a expected value of for the AUC"
   ]
  },
  {
   "cell_type": "code",
   "execution_count": 48,
   "id": "f7a7b86d",
   "metadata": {},
   "outputs": [
    {
     "data": {
      "text/html": [
       "<div>\n",
       "<style scoped>\n",
       "    .dataframe tbody tr th:only-of-type {\n",
       "        vertical-align: middle;\n",
       "    }\n",
       "\n",
       "    .dataframe tbody tr th {\n",
       "        vertical-align: top;\n",
       "    }\n",
       "\n",
       "    .dataframe thead th {\n",
       "        text-align: right;\n",
       "    }\n",
       "</style>\n",
       "<table border=\"1\" class=\"dataframe\">\n",
       "  <thead>\n",
       "    <tr style=\"text-align: right;\">\n",
       "      <th></th>\n",
       "      <th>mean_fit_time</th>\n",
       "      <th>std_fit_time</th>\n",
       "      <th>mean_score_time</th>\n",
       "      <th>std_score_time</th>\n",
       "      <th>param_C</th>\n",
       "      <th>param_gamma</th>\n",
       "      <th>params</th>\n",
       "      <th>split0_test_score</th>\n",
       "      <th>split1_test_score</th>\n",
       "      <th>split2_test_score</th>\n",
       "      <th>split3_test_score</th>\n",
       "      <th>split4_test_score</th>\n",
       "      <th>mean_test_score</th>\n",
       "      <th>std_test_score</th>\n",
       "      <th>rank_test_score</th>\n",
       "    </tr>\n",
       "  </thead>\n",
       "  <tbody>\n",
       "    <tr>\n",
       "      <th>7</th>\n",
       "      <td>195.355233</td>\n",
       "      <td>7.001585</td>\n",
       "      <td>28.274850</td>\n",
       "      <td>1.558936</td>\n",
       "      <td>3</td>\n",
       "      <td>auto</td>\n",
       "      <td>{'C': 3, 'gamma': 'auto'}</td>\n",
       "      <td>0.956699</td>\n",
       "      <td>0.960659</td>\n",
       "      <td>0.966621</td>\n",
       "      <td>0.970480</td>\n",
       "      <td>0.968689</td>\n",
       "      <td>0.964630</td>\n",
       "      <td>0.005164</td>\n",
       "      <td>1</td>\n",
       "    </tr>\n",
       "    <tr>\n",
       "      <th>6</th>\n",
       "      <td>206.293698</td>\n",
       "      <td>6.179549</td>\n",
       "      <td>28.225191</td>\n",
       "      <td>0.822590</td>\n",
       "      <td>3</td>\n",
       "      <td>scale</td>\n",
       "      <td>{'C': 3, 'gamma': 'scale'}</td>\n",
       "      <td>0.956439</td>\n",
       "      <td>0.960317</td>\n",
       "      <td>0.966326</td>\n",
       "      <td>0.970367</td>\n",
       "      <td>0.968314</td>\n",
       "      <td>0.964353</td>\n",
       "      <td>0.005190</td>\n",
       "      <td>2</td>\n",
       "    </tr>\n",
       "    <tr>\n",
       "      <th>9</th>\n",
       "      <td>214.883455</td>\n",
       "      <td>3.652149</td>\n",
       "      <td>27.883238</td>\n",
       "      <td>0.572359</td>\n",
       "      <td>5</td>\n",
       "      <td>auto</td>\n",
       "      <td>{'C': 5, 'gamma': 'auto'}</td>\n",
       "      <td>0.956159</td>\n",
       "      <td>0.959291</td>\n",
       "      <td>0.966286</td>\n",
       "      <td>0.971032</td>\n",
       "      <td>0.968018</td>\n",
       "      <td>0.964157</td>\n",
       "      <td>0.005556</td>\n",
       "      <td>3</td>\n",
       "    </tr>\n",
       "    <tr>\n",
       "      <th>8</th>\n",
       "      <td>222.126005</td>\n",
       "      <td>6.833517</td>\n",
       "      <td>28.069163</td>\n",
       "      <td>1.310698</td>\n",
       "      <td>5</td>\n",
       "      <td>scale</td>\n",
       "      <td>{'C': 5, 'gamma': 'scale'}</td>\n",
       "      <td>0.955883</td>\n",
       "      <td>0.958997</td>\n",
       "      <td>0.966068</td>\n",
       "      <td>0.970840</td>\n",
       "      <td>0.967560</td>\n",
       "      <td>0.963870</td>\n",
       "      <td>0.005560</td>\n",
       "      <td>4</td>\n",
       "    </tr>\n",
       "    <tr>\n",
       "      <th>11</th>\n",
       "      <td>171.642868</td>\n",
       "      <td>14.871485</td>\n",
       "      <td>14.772684</td>\n",
       "      <td>0.552927</td>\n",
       "      <td>10</td>\n",
       "      <td>auto</td>\n",
       "      <td>{'C': 10, 'gamma': 'auto'}</td>\n",
       "      <td>0.955577</td>\n",
       "      <td>0.958653</td>\n",
       "      <td>0.965930</td>\n",
       "      <td>0.970967</td>\n",
       "      <td>0.967060</td>\n",
       "      <td>0.963638</td>\n",
       "      <td>0.005666</td>\n",
       "      <td>5</td>\n",
       "    </tr>\n",
       "  </tbody>\n",
       "</table>\n",
       "</div>"
      ],
      "text/plain": [
       "    mean_fit_time  std_fit_time  mean_score_time  std_score_time param_C  \\\n",
       "7      195.355233      7.001585        28.274850        1.558936       3   \n",
       "6      206.293698      6.179549        28.225191        0.822590       3   \n",
       "9      214.883455      3.652149        27.883238        0.572359       5   \n",
       "8      222.126005      6.833517        28.069163        1.310698       5   \n",
       "11     171.642868     14.871485        14.772684        0.552927      10   \n",
       "\n",
       "   param_gamma                      params  split0_test_score  \\\n",
       "7         auto   {'C': 3, 'gamma': 'auto'}           0.956699   \n",
       "6        scale  {'C': 3, 'gamma': 'scale'}           0.956439   \n",
       "9         auto   {'C': 5, 'gamma': 'auto'}           0.956159   \n",
       "8        scale  {'C': 5, 'gamma': 'scale'}           0.955883   \n",
       "11        auto  {'C': 10, 'gamma': 'auto'}           0.955577   \n",
       "\n",
       "    split1_test_score  split2_test_score  split3_test_score  \\\n",
       "7            0.960659           0.966621           0.970480   \n",
       "6            0.960317           0.966326           0.970367   \n",
       "9            0.959291           0.966286           0.971032   \n",
       "8            0.958997           0.966068           0.970840   \n",
       "11           0.958653           0.965930           0.970967   \n",
       "\n",
       "    split4_test_score  mean_test_score  std_test_score  rank_test_score  \n",
       "7            0.968689         0.964630        0.005164                1  \n",
       "6            0.968314         0.964353        0.005190                2  \n",
       "9            0.968018         0.964157        0.005556                3  \n",
       "8            0.967560         0.963870        0.005560                4  \n",
       "11           0.967060         0.963638        0.005666                5  "
      ]
     },
     "execution_count": 48,
     "metadata": {},
     "output_type": "execute_result"
    }
   ],
   "source": [
    "df_results_svm_gs2 = pd.DataFrame(svm_gs2.cv_results_)\n",
    "df_results_svm_gs2.sort_values(by = 'mean_test_score', ascending=False).head()"
   ]
  },
  {
   "cell_type": "code",
   "execution_count": 54,
   "id": "e1db6263",
   "metadata": {},
   "outputs": [
    {
     "data": {
      "text/plain": [
       "<AxesSubplot:ylabel='Density'>"
      ]
     },
     "execution_count": 54,
     "metadata": {},
     "output_type": "execute_result"
    },
    {
     "data": {
      "image/png": "[encoded data removed]",
      "text/plain": [
       "<Figure size 432x288 with 1 Axes>"
      ]
     },
     "metadata": {
      "needs_background": "light"
     },
     "output_type": "display_data"
    }
   ],
   "source": [
    "# Lets fit this model in the entire data and export the predictions\n",
    "\n",
    "model_svm_m1_rbf = SVC(kernel='rbf', probability=True, class_weight='balanced', C = 3, gamma = 'auto')\n",
    "\n",
    "model_svm_m1_rbf.fit(X_train, y)\n",
    "y_test_hat_svm_m5_rbf = model_svm_m1_rbf.predict_proba(X_test)\n",
    "sns.distplot(y_test_hat_svm_m5_rbf[:,1])"
   ]
  },
  {
   "cell_type": "code",
   "execution_count": 55,
   "id": "ee335e82",
   "metadata": {},
   "outputs": [],
   "source": [
    "# Export the probabilities\n",
    "test_predictions_submit = pd.DataFrame({\"icustay_id\": X_test.index, \"HOSPITAL_EXPIRE_FLAG\": y_test_hat_svm_m5_rbf[:,1]})\n",
    "test_predictions_submit.to_csv(\"data/outputs/svm_m5_rbf.csv\", index = False)"
   ]
  },
  {
   "cell_type": "markdown",
   "id": "3fb61f11",
   "metadata": {},
   "source": [
    "Lets calibrate the probabilities of the best model from radial kernel."
   ]
  },
  {
   "cell_type": "code",
   "execution_count": 58,
   "id": "a438a46b",
   "metadata": {},
   "outputs": [],
   "source": [
    "calibrated = CalibratedClassifierCV(model_svm_m1_rbf, method='isotonic', cv=3) \n",
    "model_svm_m5_rbf_proba_cal = cross_val_predict(calibrated,\n",
    "                          X_train, \n",
    "                          y,\n",
    "                          cv = 5,\n",
    "                          n_jobs=-1,\n",
    "                          method='predict_proba') "
   ]
  },
  {
   "cell_type": "code",
   "execution_count": 59,
   "id": "99cf8f35",
   "metadata": {},
   "outputs": [
    {
     "data": {
      "image/png": "[encoded data removed]",
      "text/plain": [
       "<Figure size 432x288 with 1 Axes>"
      ]
     },
     "metadata": {
      "needs_background": "light"
     },
     "output_type": "display_data"
    }
   ],
   "source": [
    "roc_curve_plot(y, model_svm_m5_rbf_proba_cal[:,1])"
   ]
  },
  {
   "cell_type": "markdown",
   "id": "ad75f560",
   "metadata": {},
   "source": [
    "After the calibration of the probabilities the AUC is the same that the observed before"
   ]
  },
  {
   "cell_type": "code",
   "execution_count": 60,
   "id": "f12494a2",
   "metadata": {},
   "outputs": [
    {
     "data": {
      "text/plain": [
       "<AxesSubplot:ylabel='Density'>"
      ]
     },
     "execution_count": 60,
     "metadata": {},
     "output_type": "execute_result"
    },
    {
     "data": {
      "image/png": "[encoded data removed]",
      "text/plain": [
       "<Figure size 432x288 with 1 Axes>"
      ]
     },
     "metadata": {
      "needs_background": "light"
     },
     "output_type": "display_data"
    }
   ],
   "source": [
    "calibrated.fit(X_train, y)\n",
    "y_test_hat_svm_m5_rbf_cal = calibrated.predict_proba(X_test)\n",
    "sns.distplot(y_test_hat_svm_m5_rbf_cal[:,1])"
   ]
  },
  {
   "cell_type": "code",
   "execution_count": 61,
   "id": "841f51c5",
   "metadata": {},
   "outputs": [],
   "source": [
    "# Export the probabilities\n",
    "test_predictions_submit = pd.DataFrame({\"icustay_id\": X_test.index, \"HOSPITAL_EXPIRE_FLAG\": y_test_hat_svm_m5_rbf_cal[:,1]})\n",
    "test_predictions_submit.to_csv(\"data/outputs/svm_m5_rbf_cal.csv\", index = False)"
   ]
  },
  {
   "cell_type": "markdown",
   "id": "b6a27f79",
   "metadata": {},
   "source": [
    "### Trying a different kernel of SVM: Sigmoid\n",
    "\n",
    "Now I will try a third kernel, the Sigmoid that it has been said is like a basic Neuronal Network. \n",
    "\n",
    "In this section I will run a basic SVM with sigmoid kernel and then I will do grid search and calibrate probabilities. In the process I will observer the improvement of the AUC."
   ]
  },
  {
   "cell_type": "code",
   "execution_count": 62,
   "id": "09efd56f",
   "metadata": {},
   "outputs": [
    {
     "name": "stderr",
     "output_type": "stream",
     "text": [
      "[Parallel(n_jobs=-1)]: Using backend LokyBackend with 8 concurrent workers.\n",
      "[Parallel(n_jobs=-1)]: Done   2 out of   5 | elapsed:  4.4min remaining:  6.6min\n",
      "[Parallel(n_jobs=-1)]: Done   5 out of   5 | elapsed:  5.7min finished\n"
     ]
    }
   ],
   "source": [
    "# Baseline model with sigmoid kernel\n",
    "\n",
    "model_svm_bl_sig = SVC(kernel='sigmoid', probability=True, class_weight='balanced')\n",
    "\n",
    "# Get the predicted proba by cross validation to measure the expeted AUC\n",
    "model_svm_bl_sig_proba = cross_val_predict(model_svm_bl_sig, \n",
    "                                           X_train, \n",
    "                                           y, \n",
    "                                           cv = 5, \n",
    "                                           n_jobs = -1, \n",
    "                                           method='predict_proba',\n",
    "                                           verbose = 3)"
   ]
  },
  {
   "cell_type": "code",
   "execution_count": 64,
   "id": "2129056f",
   "metadata": {},
   "outputs": [
    {
     "data": {
      "image/png": "[encoded data removed]",
      "text/plain": [
       "<Figure size 432x288 with 1 Axes>"
      ]
     },
     "metadata": {
      "needs_background": "light"
     },
     "output_type": "display_data"
    }
   ],
   "source": [
    "roc_curve_plot(y, model_svm_bl_sig_proba[:,1])"
   ]
  },
  {
   "cell_type": "markdown",
   "id": "70d2c16d",
   "metadata": {},
   "source": [
    "This kernel shows a very low value of AUC. For the first time in all of the SVM model I have a value of AUC different that 0.96. Lets go directly to run a grid search in order to get a better model and see how the AUC metric behaves for different values of C."
   ]
  },
  {
   "cell_type": "code",
   "execution_count": 70,
   "id": "93f93fed",
   "metadata": {},
   "outputs": [],
   "source": [
    "svm_params_3 = {'C': [0.001, 0.01, 0.1, 1, 3, 5, 10],\n",
    "                 'gamma' : ['scale', 'auto']}\n",
    "\n",
    "svm_gs3 = GridSearchCV(SVC(kernel='sigmoid', class_weight = 'balanced'),\n",
    "                       param_grid = svm_params_3,\n",
    "                       scoring = 'roc_auc',\n",
    "                       n_jobs = -1,\n",
    "                       cv=5,\n",
    "                       refit = False,\n",
    "                       verbose = 2)"
   ]
  },
  {
   "cell_type": "code",
   "execution_count": 71,
   "id": "7d77e2a0",
   "metadata": {},
   "outputs": [
    {
     "name": "stdout",
     "output_type": "stream",
     "text": [
      "Fitting 5 folds for each of 12 candidates, totalling 60 fits\n"
     ]
    },
    {
     "data": {
      "text/plain": [
       "GridSearchCV(cv=5, estimator=SVC(class_weight='balanced', kernel='sigmoid'),\n",
       "             n_jobs=-1,\n",
       "             param_grid={'C': [0.01, 0.1, 1, 3, 5, 10],\n",
       "                         'gamma': ['scale', 'auto']},\n",
       "             refit=False, scoring='roc_auc', verbose=2)"
      ]
     },
     "execution_count": 71,
     "metadata": {},
     "output_type": "execute_result"
    }
   ],
   "source": [
    "svm_gs3.fit(X_train, y)"
   ]
  },
  {
   "cell_type": "code",
   "execution_count": 72,
   "id": "d99e6642",
   "metadata": {},
   "outputs": [
    {
     "data": {
      "text/plain": [
       "{'C': 0.01, 'gamma': 'scale'}"
      ]
     },
     "execution_count": 72,
     "metadata": {},
     "output_type": "execute_result"
    }
   ],
   "source": [
    "svm_gs3.best_params_"
   ]
  },
  {
   "cell_type": "code",
   "execution_count": 75,
   "id": "9dfdf1e5",
   "metadata": {},
   "outputs": [
    {
     "data": {
      "text/plain": [
       "<AxesSubplot:xlabel='param_C', ylabel='mean_test_score'>"
      ]
     },
     "execution_count": 75,
     "metadata": {},
     "output_type": "execute_result"
    },
    {
     "data": {
      "image/png": "[encoded data removed]",
      "text/plain": [
       "<Figure size 432x288 with 1 Axes>"
      ]
     },
     "metadata": {
      "needs_background": "light"
     },
     "output_type": "display_data"
    }
   ],
   "source": [
    "df_results_svm_gs3 = pd.DataFrame(svm_gs3.cv_results_)\n",
    "#df_results_svm_gs3.sort_values(by = 'mean_test_score', ascending=False).head()\n",
    "sns.scatterplot(x = 'param_C', y = 'mean_test_score', data = df_results_svm_gs3)"
   ]
  },
  {
   "cell_type": "code",
   "execution_count": 77,
   "id": "2e401d3b",
   "metadata": {},
   "outputs": [
    {
     "data": {
      "text/plain": [
       "<AxesSubplot:ylabel='Density'>"
      ]
     },
     "execution_count": 77,
     "metadata": {},
     "output_type": "execute_result"
    },
    {
     "data": {
      "image/png": "[encoded data removed]",
      "text/plain": [
       "<Figure size 432x288 with 1 Axes>"
      ]
     },
     "metadata": {
      "needs_background": "light"
     },
     "output_type": "display_data"
    }
   ],
   "source": [
    "model_svm_m6_sig = SVC(kernel='sigmoid', probability=True, class_weight='balanced', C =  0.01, gamma = 'scale')\n",
    "\n",
    "model_svm_m6_sig.fit(X_train, y)\n",
    "y_test_hat_svm_m6_sig = model_svm_m6_sig.predict_proba(X_test)\n",
    "sns.distplot(y_test_hat_svm_m6_sig[:,1])"
   ]
  },
  {
   "cell_type": "code",
   "execution_count": 79,
   "id": "6269ba20",
   "metadata": {},
   "outputs": [],
   "source": [
    "# Export the probabilities\n",
    "test_predictions_submit = pd.DataFrame({\"icustay_id\": X_test.index, \"HOSPITAL_EXPIRE_FLAG\": y_test_hat_svm_m6_sig[:,1]})\n",
    "test_predictions_submit.to_csv(\"data/outputs/svm_m6_sig.csv\", index = False)"
   ]
  },
  {
   "cell_type": "markdown",
   "id": "a57d0357",
   "metadata": {},
   "source": [
    "There is more room for grid search, lets do a bit more to see if we can improve the AUC"
   ]
  },
  {
   "cell_type": "code",
   "execution_count": 80,
   "id": "b5b4844a",
   "metadata": {},
   "outputs": [],
   "source": [
    "svm_params_4 = {'C': [0.007, 0.008, 0.009, 0.010, 0.011, 0.012, 0.013, 0.014, 0.015]}\n",
    "\n",
    "svm_gs4 = GridSearchCV(SVC(kernel='sigmoid', class_weight = 'balanced', gamma = 'scale'),\n",
    "                       param_grid = svm_params_4,\n",
    "                       scoring = 'roc_auc',\n",
    "                       n_jobs = -1,\n",
    "                       cv=5,\n",
    "                       refit = False,\n",
    "                       verbose = 2)"
   ]
  },
  {
   "cell_type": "code",
   "execution_count": 81,
   "id": "266f56b5",
   "metadata": {},
   "outputs": [
    {
     "name": "stdout",
     "output_type": "stream",
     "text": [
      "Fitting 5 folds for each of 9 candidates, totalling 45 fits\n"
     ]
    },
    {
     "data": {
      "text/plain": [
       "GridSearchCV(cv=5, estimator=SVC(class_weight='balanced', kernel='sigmoid'),\n",
       "             n_jobs=-1,\n",
       "             param_grid={'C': [0.007, 0.008, 0.009, 0.01, 0.011, 0.012, 0.013,\n",
       "                               0.014, 0.015]},\n",
       "             refit=False, scoring='roc_auc', verbose=2)"
      ]
     },
     "execution_count": 81,
     "metadata": {},
     "output_type": "execute_result"
    }
   ],
   "source": [
    "svm_gs4.fit(X_train, y)"
   ]
  },
  {
   "cell_type": "code",
   "execution_count": 86,
   "id": "8c5af3ef",
   "metadata": {},
   "outputs": [
    {
     "data": {
      "text/plain": [
       "{'C': 0.015}"
      ]
     },
     "execution_count": 86,
     "metadata": {},
     "output_type": "execute_result"
    }
   ],
   "source": [
    "svm_gs4.best_params_"
   ]
  },
  {
   "cell_type": "code",
   "execution_count": 85,
   "id": "cbc1038f",
   "metadata": {},
   "outputs": [
    {
     "data": {
      "text/plain": [
       "<AxesSubplot:xlabel='param_C', ylabel='mean_test_score'>"
      ]
     },
     "execution_count": 85,
     "metadata": {},
     "output_type": "execute_result"
    },
    {
     "data": {
      "image/png": "[encoded data removed]",
      "text/plain": [
       "<Figure size 432x288 with 1 Axes>"
      ]
     },
     "metadata": {
      "needs_background": "light"
     },
     "output_type": "display_data"
    }
   ],
   "source": [
    "df_results_svm_gs4 = pd.DataFrame(svm_gs4.cv_results_)\n",
    "sns.scatterplot(x = 'param_C', y = 'mean_test_score', data = df_results_svm_gs4)"
   ]
  },
  {
   "cell_type": "code",
   "execution_count": 89,
   "id": "43eb7124",
   "metadata": {},
   "outputs": [],
   "source": [
    "svm_params_5 = {'C': [0.015, 0.018, 0.021, 0.024, 0.027, 0.030, 0.033, 0.036, 0.040]}\n",
    "\n",
    "svm_gs5 = GridSearchCV(SVC(kernel='sigmoid', class_weight = 'balanced', gamma = 'scale'),\n",
    "                       param_grid = svm_params_5,\n",
    "                       scoring = 'roc_auc',\n",
    "                       n_jobs = -1,\n",
    "                       cv=5,\n",
    "                       refit = False,\n",
    "                       verbose = 2)"
   ]
  },
  {
   "cell_type": "code",
   "execution_count": 90,
   "id": "7c888847",
   "metadata": {},
   "outputs": [
    {
     "name": "stdout",
     "output_type": "stream",
     "text": [
      "Fitting 5 folds for each of 9 candidates, totalling 45 fits\n",
      "{'C': 0.024}\n"
     ]
    },
    {
     "data": {
      "text/plain": [
       "<AxesSubplot:xlabel='param_C', ylabel='mean_test_score'>"
      ]
     },
     "execution_count": 90,
     "metadata": {},
     "output_type": "execute_result"
    },
    {
     "data": {
      "image/png": "[encoded data removed]",
      "text/plain": [
       "<Figure size 432x288 with 1 Axes>"
      ]
     },
     "metadata": {
      "needs_background": "light"
     },
     "output_type": "display_data"
    }
   ],
   "source": [
    "svm_gs5.fit(X_train, y)\n",
    "print(svm_gs5.best_params_)\n",
    "\n",
    "df_results_svm_gs5 = pd.DataFrame(svm_gs5.cv_results_)\n",
    "sns.scatterplot(x = 'param_C', y = 'mean_test_score', data = df_results_svm_gs5)"
   ]
  },
  {
   "cell_type": "markdown",
   "id": "ab67d5cd",
   "metadata": {},
   "source": [
    "After the grid search the best C is 0.024 wich shows a AUC over 0.93. This is a good improvemnt from the 0.83 in the basic sigmoid SVM. Lets compute probabilities over the test dataset and upload them to kaggle."
   ]
  },
  {
   "cell_type": "code",
   "execution_count": 92,
   "id": "7c7e2d55",
   "metadata": {},
   "outputs": [
    {
     "data": {
      "text/plain": [
       "<AxesSubplot:ylabel='Density'>"
      ]
     },
     "execution_count": 92,
     "metadata": {},
     "output_type": "execute_result"
    },
    {
     "data": {
      "image/png": "[encoded data removed]",
      "text/plain": [
       "<Figure size 432x288 with 1 Axes>"
      ]
     },
     "metadata": {
      "needs_background": "light"
     },
     "output_type": "display_data"
    }
   ],
   "source": [
    "model_svm_m7_sig = SVC(kernel='sigmoid', probability=True, class_weight='balanced', C =  0.024, gamma = 'scale')\n",
    "\n",
    "model_svm_m7_sig.fit(X_train, y)\n",
    "y_test_hat_svm_m7_sig = model_svm_m7_sig.predict_proba(X_test)\n",
    "sns.distplot(y_test_hat_svm_m7_sig[:,1])"
   ]
  },
  {
   "cell_type": "code",
   "execution_count": 93,
   "id": "60e40a2c",
   "metadata": {},
   "outputs": [],
   "source": [
    "# Export the probabilities\n",
    "test_predictions_submit = pd.DataFrame({\"icustay_id\": X_test.index, \"HOSPITAL_EXPIRE_FLAG\": y_test_hat_svm_m7_sig[:,1]})\n",
    "test_predictions_submit.to_csv(\"data/outputs/svm_m7_sig.csv\", index = False)"
   ]
  },
  {
   "cell_type": "markdown",
   "id": "229e928c",
   "metadata": {},
   "source": [
    "Over this model, lets see what happend when I recalibrate probabilities."
   ]
  },
  {
   "cell_type": "code",
   "execution_count": 94,
   "id": "e43b306b",
   "metadata": {},
   "outputs": [],
   "source": [
    "calibrated = CalibratedClassifierCV(model_svm_m7_sig, method='isotonic', cv=3) \n",
    "model_svm_m6_sig_proba_cal = cross_val_predict(calibrated,\n",
    "                          X_train, \n",
    "                          y,\n",
    "                          cv = 5,\n",
    "                          n_jobs=-1,\n",
    "                          method='predict_proba') "
   ]
  },
  {
   "cell_type": "code",
   "execution_count": 95,
   "id": "1fc3b7f0",
   "metadata": {},
   "outputs": [
    {
     "data": {
      "image/png": "[encoded data removed]",
      "text/plain": [
       "<Figure size 432x288 with 1 Axes>"
      ]
     },
     "metadata": {
      "needs_background": "light"
     },
     "output_type": "display_data"
    }
   ],
   "source": [
    "roc_curve_plot(y, model_svm_m6_sig_proba_cal[:,1])"
   ]
  },
  {
   "cell_type": "code",
   "execution_count": 96,
   "id": "2d61776d",
   "metadata": {},
   "outputs": [
    {
     "data": {
      "text/plain": [
       "0.9282367059754394"
      ]
     },
     "execution_count": 96,
     "metadata": {},
     "output_type": "execute_result"
    }
   ],
   "source": [
    "roc_auc_score(y, model_svm_m6_sig_proba_cal[:,1])"
   ]
  },
  {
   "cell_type": "markdown",
   "id": "7ca7c7fa",
   "metadata": {},
   "source": [
    "The calibrated probabilities does not improve the observed AUC. However, I want to upload predicted probabilities from this model."
   ]
  },
  {
   "cell_type": "code",
   "execution_count": 103,
   "id": "6bb71bc7",
   "metadata": {},
   "outputs": [],
   "source": [
    "# Delete\n",
    "model_svm_m7_sig = SVC(kernel='sigmoid', probability=True, class_weight='balanced', C =  0.024, gamma = 'scale')\n",
    "calibrated = CalibratedClassifierCV(model_svm_m7_sig, method='isotonic', cv=3) "
   ]
  },
  {
   "cell_type": "code",
   "execution_count": 104,
   "id": "f3e62ff9",
   "metadata": {},
   "outputs": [
    {
     "data": {
      "text/plain": [
       "<AxesSubplot:ylabel='Density'>"
      ]
     },
     "execution_count": 104,
     "metadata": {},
     "output_type": "execute_result"
    },
    {
     "data": {
      "image/png": "[encoded data removed]",
      "text/plain": [
       "<Figure size 432x288 with 1 Axes>"
      ]
     },
     "metadata": {
      "needs_background": "light"
     },
     "output_type": "display_data"
    }
   ],
   "source": [
    "calibrated.fit(X_train, y)\n",
    "y_test_hat_svm_m7_sig_cal = calibrated.predict_proba(X_test)\n",
    "sns.distplot(y_test_hat_svm_m7_sig_cal[:,1])"
   ]
  },
  {
   "cell_type": "code",
   "execution_count": 105,
   "id": "6521de70",
   "metadata": {},
   "outputs": [],
   "source": [
    "# Export the probabilities\n",
    "test_predictions_submit = pd.DataFrame({\"icustay_id\": X_test.index, \"HOSPITAL_EXPIRE_FLAG\": y_test_hat_svm_m7_sig_cal[:,1]})\n",
    "test_predictions_submit.to_csv(\"data/outputs/svm_m7_sig_cal.csv\", index = False)"
   ]
  },
  {
   "cell_type": "markdown",
   "id": "6db52147",
   "metadata": {},
   "source": [
    "### Trying the poly kernel"
   ]
  },
  {
   "cell_type": "markdown",
   "id": "6d0eb0cc",
   "metadata": {},
   "source": [
    "Here I will follow the same process that I did for Sigmoid and Radial kernels. "
   ]
  },
  {
   "cell_type": "code",
   "execution_count": 100,
   "id": "ef09054e",
   "metadata": {},
   "outputs": [
    {
     "name": "stderr",
     "output_type": "stream",
     "text": [
      "[Parallel(n_jobs=-1)]: Using backend LokyBackend with 8 concurrent workers.\n",
      "[Parallel(n_jobs=-1)]: Done   2 out of   5 | elapsed: 21.0min remaining: 31.5min\n",
      "[Parallel(n_jobs=-1)]: Done   5 out of   5 | elapsed: 24.0min finished\n"
     ]
    }
   ],
   "source": [
    "# Baseline model with rbf kernel\n",
    "\n",
    "model_svm_bl_poly = SVC(kernel='poly', probability=True, class_weight='balanced')\n",
    "\n",
    "# Get the predicted proba by cross validation to measure the expeted AUC\n",
    "model_svm_bl_poly_proba = cross_val_predict(model_svm_bl_poly, \n",
    "                                           X_train, \n",
    "                                           y, \n",
    "                                           cv = 5, \n",
    "                                           n_jobs = -1, \n",
    "                                           method='predict_proba',\n",
    "                                           verbose = 3)"
   ]
  },
  {
   "cell_type": "code",
   "execution_count": 101,
   "id": "0f678b9a",
   "metadata": {},
   "outputs": [
    {
     "data": {
      "image/png": "[encoded data removed]",
      "text/plain": [
       "<Figure size 432x288 with 1 Axes>"
      ]
     },
     "metadata": {
      "needs_background": "light"
     },
     "output_type": "display_data"
    }
   ],
   "source": [
    "roc_curve_plot(y, model_svm_bl_poly_proba[:,1])"
   ]
  },
  {
   "cell_type": "code",
   "execution_count": 107,
   "id": "5dbcecc6",
   "metadata": {},
   "outputs": [],
   "source": [
    "svm_params_6 = {'C': [0.001, 0.01, 0.1, 1, 3, 5, 10],\n",
    "                 'gamma' : ['scale', 'auto'],\n",
    "             }\n",
    "\n",
    "svm_gs6 = GridSearchCV(SVC(kernel='poly', class_weight = 'balanced'),\n",
    "                       param_grid = svm_params_6,\n",
    "                       scoring = 'roc_auc',\n",
    "                       n_jobs = -1,\n",
    "                       cv=5,\n",
    "                       refit = False,\n",
    "                       verbose = 2)"
   ]
  },
  {
   "cell_type": "code",
   "execution_count": 108,
   "id": "93400653",
   "metadata": {},
   "outputs": [
    {
     "name": "stdout",
     "output_type": "stream",
     "text": [
      "Fitting 5 folds for each of 14 candidates, totalling 70 fits\n",
      "Duration: 1:08:41.021030\n"
     ]
    }
   ],
   "source": [
    "start_time = datetime.now()\n",
    "svm_gs6.fit(X_train, y)\n",
    "end_time = datetime.now()\n",
    "print('Duration: {}'.format(end_time - start_time))"
   ]
  },
  {
   "cell_type": "code",
   "execution_count": 109,
   "id": "98b1bd44",
   "metadata": {},
   "outputs": [
    {
     "name": "stdout",
     "output_type": "stream",
     "text": [
      "{'C': 1, 'gamma': 'scale'}\n"
     ]
    }
   ],
   "source": [
    "print(svm_gs6.best_params_)"
   ]
  },
  {
   "cell_type": "code",
   "execution_count": 112,
   "id": "46215387",
   "metadata": {},
   "outputs": [
    {
     "data": {
      "text/plain": [
       "<AxesSubplot:xlabel='param_C', ylabel='mean_test_score'>"
      ]
     },
     "execution_count": 112,
     "metadata": {},
     "output_type": "execute_result"
    },
    {
     "data": {
      "image/png": "[encoded data removed]",
      "text/plain": [
       "<Figure size 432x288 with 1 Axes>"
      ]
     },
     "metadata": {
      "needs_background": "light"
     },
     "output_type": "display_data"
    }
   ],
   "source": [
    "df_results_svm_gs6 = pd.DataFrame(svm_gs6.cv_results_)\n",
    "sns.scatterplot(x = 'param_C', y = 'mean_test_score', hue='param_gamma', data = df_results_svm_gs6)"
   ]
  },
  {
   "cell_type": "code",
   "execution_count": 113,
   "id": "29f90aff",
   "metadata": {},
   "outputs": [
    {
     "data": {
      "image/png": "[encoded data removed]",
      "text/plain": [
       "<Figure size 432x288 with 1 Axes>"
      ]
     },
     "metadata": {
      "needs_background": "light"
     },
     "output_type": "display_data"
    }
   ],
   "source": [
    "calibrated = CalibratedClassifierCV(model_svm_bl_poly, method='isotonic', cv=5) \n",
    "model_svm_bl_poly_proba_cal = cross_val_predict(calibrated,\n",
    "                          X_train, \n",
    "                          y,\n",
    "                          cv = 5,\n",
    "                          n_jobs=-1,\n",
    "                          method='predict_proba') \n",
    "\n",
    "roc_curve_plot(y, model_svm_bl_poly_proba_cal[:,1])"
   ]
  },
  {
   "cell_type": "code",
   "execution_count": 116,
   "id": "27d719b6",
   "metadata": {},
   "outputs": [
    {
     "data": {
      "text/plain": [
       "<AxesSubplot:ylabel='Density'>"
      ]
     },
     "execution_count": 116,
     "metadata": {},
     "output_type": "execute_result"
    },
    {
     "data": {
      "image/png": "[encoded data removed]",
      "text/plain": [
       "<Figure size 432x288 with 1 Axes>"
      ]
     },
     "metadata": {
      "needs_background": "light"
     },
     "output_type": "display_data"
    }
   ],
   "source": [
    "calibrated.fit(X_train, y)\n",
    "y_test_hat_svm_m8_poly_cal = calibrated.predict_proba(X_test)\n",
    "sns.distplot(y_test_hat_svm_m8_poly_cal[:,1])"
   ]
  },
  {
   "cell_type": "code",
   "execution_count": 117,
   "id": "c2bdf3fc",
   "metadata": {},
   "outputs": [],
   "source": [
    "# Export the probabilities\n",
    "test_predictions_submit = pd.DataFrame({\"icustay_id\": X_test.index, \"HOSPITAL_EXPIRE_FLAG\": y_test_hat_svm_m8_poly_cal[:,1]})\n",
    "test_predictions_submit.to_csv(\"data/outputs/svm_m8_poly_cal.csv\", index = False)"
   ]
  },
  {
   "cell_type": "markdown",
   "id": "107cb98b",
   "metadata": {},
   "source": [
    "## Final remarks\n",
    "\n",
    "In this notebook I have run multiple KNN and SVM models for predicting the probability of death of patients entered into the ICU with data from the MIMIC project (https://mimic.physionet.org/). I started with basic models and I tried to improve the first fitting for each algorith (KNN and SVM)\n",
    "\n",
    "The main strategies followed to improve the predictions were to manage the class imbalance and the hyperparamenter tunning of each algorithm. To manage the class imbalance problem I tried the resampling approaches as well as the calibration of probabilties.\n",
    "\n",
    "The undersampling methods showed a good improvement in the KNN models, However when I tried to do the same in the linear SVM I couldn't find any improvement. Similarly, the calibration methods used shown a better improvement in the KNN algorith than in the SVM.\n",
    "\n",
    "The best KNN algorithm found according with the cross-validated AUC is based in a undersampled training data set by the Neighborhood Cleaning Rule with parameters K = 10 and selection = 'all'. Over this training data set the best KNN model have 30 neighboors and it uses weighted euclidean distances.\n",
    "\n",
    "On the other hand, since the first and most basic SVM, all of the SVM kernels used to make predictions with the exception of the 'sigmoid' kernel showed good values of AUC. However I could not improve the initial AUC using resampling, hyperparamenter tunning or calibration of probabilities. For this reason, the most trusted SVM model uses the sigmoid kernel, the option for balancing classes and a value for reguralization C of 0.024. Under theses parameters the AUC increased from 0.84 to 0.93."
   ]
  },
  {
   "cell_type": "code",
   "execution_count": null,
   "id": "1697fc4a",
   "metadata": {},
   "outputs": [],
   "source": []
  }
 ],
 "metadata": {
  "kernelspec": {
   "display_name": "Python 3",
   "language": "python",
   "name": "python3"
  },
  "language_info": {
   "codemirror_mode": {
    "name": "ipython",
    "version": 3
   },
   "file_extension": ".py",
   "mimetype": "text/x-python",
   "name": "python",
   "nbconvert_exporter": "python",
   "pygments_lexer": "ipython3",
   "version": "3.6.9"
  }
 },
 "nbformat": 4,
 "nbformat_minor": 5
}
