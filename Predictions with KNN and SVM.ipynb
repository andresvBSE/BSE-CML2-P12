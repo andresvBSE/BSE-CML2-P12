{
 "cells": [
  {
   "cell_type": "markdown",
   "id": "c298282e",
   "metadata": {},
   "source": [
    "# Prediction of the probability of death of a patient that is entering an ICU (Intensive Care Unit)\n",
    "## Using KNN and SVM\n",
    "\n",
    "#### Andrés Felipe Virgüez Clavijo"
   ]
  },
  {
   "cell_type": "markdown",
   "id": "a0bc3d46",
   "metadata": {},
   "source": [
    "This notebook shows the process of fitting KNN and SVM models into a dataset from MIMIC project (https://mimic.physionet.org/). MIMIC-III (Medical Information Mart for Intensive Care III) is a large, freely-available database comprising deidentified health-related data associated with over forty thousand patients who stayed in critical care units of the Beth Israel Deaconess Medical Center between 2001 and 2012.\n",
    "\n",
    "Each row of *mimic_train.csv* correponds to one ICU stay (*hadm_id*+*icustay_id*) of one patient (*subject_id*). Column HOSPITAL_EXPIRE_FLAG is the indicator of death (=1) as a result of the current hospital stay; this is the outcome to predict in our modelling exercise.\n",
    "The remaining columns correspond to vitals of each patient (when entering the ICU), plus some general characteristics (age, gender, etc.), and their explanation can be found at *mimic_patient_metadata.csv*.  \n",
    "\n",
    "The data used in this notebook results from a pre-processing process that is detailed in the notebook Data_preparation.ipynb (https://github.com/andresvBSE/BSE-CML2-P12/blob/main/Data_preparation.ipynb)"
   ]
  },
  {
   "cell_type": "code",
   "execution_count": 302,
   "id": "7c8fe50e",
   "metadata": {},
   "outputs": [],
   "source": [
    "import pandas as pd\n",
    "import numpy as np\n",
    "\n",
    "import seaborn as sns\n",
    "\n",
    "import warnings\n",
    "warnings.filterwarnings('ignore')"
   ]
  },
  {
   "cell_type": "code",
   "execution_count": 188,
   "id": "b06d3fa0",
   "metadata": {},
   "outputs": [],
   "source": [
    "import sys\n",
    "sys.path.append('src/features')\n",
    "\n",
    "from customplots import *\n",
    "from reweight_proba import *"
   ]
  },
  {
   "cell_type": "markdown",
   "id": "b45242d5",
   "metadata": {},
   "source": [
    "## Load the data"
   ]
  },
  {
   "cell_type": "code",
   "execution_count": 2,
   "id": "db6c68b3",
   "metadata": {},
   "outputs": [
    {
     "name": "stdout",
     "output_type": "stream",
     "text": [
      "<class 'pandas.core.frame.DataFrame'>\n",
      "Int64Index: 20885 entries, 228357 to 258400\n",
      "Columns: 811 entries, HeartRate_Min to ICD9_0_L1_1_2_3\n",
      "dtypes: float64(811)\n",
      "memory usage: 129.4 MB\n",
      "None\n"
     ]
    },
    {
     "data": {
      "text/html": [
       "<div>\n",
       "<style scoped>\n",
       "    .dataframe tbody tr th:only-of-type {\n",
       "        vertical-align: middle;\n",
       "    }\n",
       "\n",
       "    .dataframe tbody tr th {\n",
       "        vertical-align: top;\n",
       "    }\n",
       "\n",
       "    .dataframe thead th {\n",
       "        text-align: right;\n",
       "    }\n",
       "</style>\n",
       "<table border=\"1\" class=\"dataframe\">\n",
       "  <thead>\n",
       "    <tr style=\"text-align: right;\">\n",
       "      <th></th>\n",
       "      <th>HeartRate_Min</th>\n",
       "      <th>HeartRate_Max</th>\n",
       "      <th>HeartRate_Mean</th>\n",
       "      <th>SysBP_Min</th>\n",
       "      <th>SysBP_Max</th>\n",
       "      <th>SysBP_Mean</th>\n",
       "      <th>DiasBP_Min</th>\n",
       "      <th>DiasBP_Max</th>\n",
       "      <th>DiasBP_Mean</th>\n",
       "      <th>MeanBP_Min</th>\n",
       "      <th>...</th>\n",
       "      <th>ICD9_CODE_O_10_L1_ICD9_CODE_O_6_L1</th>\n",
       "      <th>ICD9_CODE_O_10_L1_ICD9_CODE_O_7_L1</th>\n",
       "      <th>ICD9_CODE_O_10_L1_ICD9_CODE_O_8_L1</th>\n",
       "      <th>ICD9_CODE_O_10_L1_ICD9_CODE_O_9_L1</th>\n",
       "      <th>GENDER_ICD9DIAG</th>\n",
       "      <th>AGE_ICD9DIAG</th>\n",
       "      <th>GENDER_AGE_ICD9DIAG</th>\n",
       "      <th>ICD9_diagnosis_1_2</th>\n",
       "      <th>ICD9_0_L1_1_2</th>\n",
       "      <th>ICD9_0_L1_1_2_3</th>\n",
       "    </tr>\n",
       "    <tr>\n",
       "      <th>icustay_id</th>\n",
       "      <th></th>\n",
       "      <th></th>\n",
       "      <th></th>\n",
       "      <th></th>\n",
       "      <th></th>\n",
       "      <th></th>\n",
       "      <th></th>\n",
       "      <th></th>\n",
       "      <th></th>\n",
       "      <th></th>\n",
       "      <th></th>\n",
       "      <th></th>\n",
       "      <th></th>\n",
       "      <th></th>\n",
       "      <th></th>\n",
       "      <th></th>\n",
       "      <th></th>\n",
       "      <th></th>\n",
       "      <th></th>\n",
       "      <th></th>\n",
       "      <th></th>\n",
       "    </tr>\n",
       "  </thead>\n",
       "  <tbody>\n",
       "    <tr>\n",
       "      <th>228357</th>\n",
       "      <td>1.33218</td>\n",
       "      <td>1.948876</td>\n",
       "      <td>2.403148</td>\n",
       "      <td>-1.006425</td>\n",
       "      <td>-1.021078</td>\n",
       "      <td>-0.772756</td>\n",
       "      <td>-0.202861</td>\n",
       "      <td>0.088173</td>\n",
       "      <td>-0.127848</td>\n",
       "      <td>0.189415</td>\n",
       "      <td>...</td>\n",
       "      <td>1.509058</td>\n",
       "      <td>-0.398645</td>\n",
       "      <td>0.929949</td>\n",
       "      <td>0.367890</td>\n",
       "      <td>-0.720769</td>\n",
       "      <td>0.232231</td>\n",
       "      <td>0.355083</td>\n",
       "      <td>-0.187505</td>\n",
       "      <td>-0.222547</td>\n",
       "      <td>0.394449</td>\n",
       "    </tr>\n",
       "    <tr>\n",
       "      <th>221004</th>\n",
       "      <td>-0.46234</td>\n",
       "      <td>0.234689</td>\n",
       "      <td>-0.405068</td>\n",
       "      <td>-0.127652</td>\n",
       "      <td>-1.279621</td>\n",
       "      <td>-0.763765</td>\n",
       "      <td>0.399285</td>\n",
       "      <td>-0.764372</td>\n",
       "      <td>0.202969</td>\n",
       "      <td>0.117851</td>\n",
       "      <td>...</td>\n",
       "      <td>-0.866732</td>\n",
       "      <td>-0.909108</td>\n",
       "      <td>-0.905278</td>\n",
       "      <td>-0.872673</td>\n",
       "      <td>-0.225775</td>\n",
       "      <td>-0.270395</td>\n",
       "      <td>-0.528072</td>\n",
       "      <td>-0.246277</td>\n",
       "      <td>-0.177883</td>\n",
       "      <td>-0.847985</td>\n",
       "    </tr>\n",
       "    <tr>\n",
       "      <th>296315</th>\n",
       "      <td>0.78002</td>\n",
       "      <td>-0.353032</td>\n",
       "      <td>0.437012</td>\n",
       "      <td>-0.186237</td>\n",
       "      <td>-0.547081</td>\n",
       "      <td>-0.392030</td>\n",
       "      <td>0.055202</td>\n",
       "      <td>-1.137360</td>\n",
       "      <td>-0.532373</td>\n",
       "      <td>0.547234</td>\n",
       "      <td>...</td>\n",
       "      <td>1.856850</td>\n",
       "      <td>0.058470</td>\n",
       "      <td>-0.864646</td>\n",
       "      <td>-0.206783</td>\n",
       "      <td>-0.077142</td>\n",
       "      <td>-0.255789</td>\n",
       "      <td>0.369981</td>\n",
       "      <td>-0.101701</td>\n",
       "      <td>-0.191736</td>\n",
       "      <td>0.177013</td>\n",
       "    </tr>\n",
       "    <tr>\n",
       "      <th>245557</th>\n",
       "      <td>0.43492</td>\n",
       "      <td>1.116271</td>\n",
       "      <td>0.917094</td>\n",
       "      <td>-0.420577</td>\n",
       "      <td>-0.676353</td>\n",
       "      <td>-0.749047</td>\n",
       "      <td>-1.235111</td>\n",
       "      <td>0.034889</td>\n",
       "      <td>-1.922454</td>\n",
       "      <td>-0.597786</td>\n",
       "      <td>...</td>\n",
       "      <td>-0.520172</td>\n",
       "      <td>-0.677242</td>\n",
       "      <td>-0.700432</td>\n",
       "      <td>-0.290224</td>\n",
       "      <td>-0.352110</td>\n",
       "      <td>-0.306233</td>\n",
       "      <td>-0.432051</td>\n",
       "      <td>-0.472576</td>\n",
       "      <td>-0.253667</td>\n",
       "      <td>0.405987</td>\n",
       "    </tr>\n",
       "    <tr>\n",
       "      <th>292786</th>\n",
       "      <td>0.71100</td>\n",
       "      <td>0.430596</td>\n",
       "      <td>0.744087</td>\n",
       "      <td>-1.182180</td>\n",
       "      <td>-0.503991</td>\n",
       "      <td>-1.047845</td>\n",
       "      <td>-1.235111</td>\n",
       "      <td>-1.563633</td>\n",
       "      <td>-1.922454</td>\n",
       "      <td>-0.884041</td>\n",
       "      <td>...</td>\n",
       "      <td>-0.506747</td>\n",
       "      <td>-0.664903</td>\n",
       "      <td>-0.679860</td>\n",
       "      <td>-0.322564</td>\n",
       "      <td>-0.666738</td>\n",
       "      <td>-0.381377</td>\n",
       "      <td>0.218631</td>\n",
       "      <td>-0.403414</td>\n",
       "      <td>-0.956360</td>\n",
       "      <td>-0.462257</td>\n",
       "    </tr>\n",
       "  </tbody>\n",
       "</table>\n",
       "<p>5 rows × 811 columns</p>\n",
       "</div>"
      ],
      "text/plain": [
       "            HeartRate_Min  HeartRate_Max  HeartRate_Mean  SysBP_Min  \\\n",
       "icustay_id                                                            \n",
       "228357            1.33218       1.948876        2.403148  -1.006425   \n",
       "221004           -0.46234       0.234689       -0.405068  -0.127652   \n",
       "296315            0.78002      -0.353032        0.437012  -0.186237   \n",
       "245557            0.43492       1.116271        0.917094  -0.420577   \n",
       "292786            0.71100       0.430596        0.744087  -1.182180   \n",
       "\n",
       "            SysBP_Max  SysBP_Mean  DiasBP_Min  DiasBP_Max  DiasBP_Mean  \\\n",
       "icustay_id                                                               \n",
       "228357      -1.021078   -0.772756   -0.202861    0.088173    -0.127848   \n",
       "221004      -1.279621   -0.763765    0.399285   -0.764372     0.202969   \n",
       "296315      -0.547081   -0.392030    0.055202   -1.137360    -0.532373   \n",
       "245557      -0.676353   -0.749047   -1.235111    0.034889    -1.922454   \n",
       "292786      -0.503991   -1.047845   -1.235111   -1.563633    -1.922454   \n",
       "\n",
       "            MeanBP_Min  ...  ICD9_CODE_O_10_L1_ICD9_CODE_O_6_L1  \\\n",
       "icustay_id              ...                                       \n",
       "228357        0.189415  ...                            1.509058   \n",
       "221004        0.117851  ...                           -0.866732   \n",
       "296315        0.547234  ...                            1.856850   \n",
       "245557       -0.597786  ...                           -0.520172   \n",
       "292786       -0.884041  ...                           -0.506747   \n",
       "\n",
       "            ICD9_CODE_O_10_L1_ICD9_CODE_O_7_L1  \\\n",
       "icustay_id                                       \n",
       "228357                               -0.398645   \n",
       "221004                               -0.909108   \n",
       "296315                                0.058470   \n",
       "245557                               -0.677242   \n",
       "292786                               -0.664903   \n",
       "\n",
       "            ICD9_CODE_O_10_L1_ICD9_CODE_O_8_L1  \\\n",
       "icustay_id                                       \n",
       "228357                                0.929949   \n",
       "221004                               -0.905278   \n",
       "296315                               -0.864646   \n",
       "245557                               -0.700432   \n",
       "292786                               -0.679860   \n",
       "\n",
       "            ICD9_CODE_O_10_L1_ICD9_CODE_O_9_L1  GENDER_ICD9DIAG  AGE_ICD9DIAG  \\\n",
       "icustay_id                                                                      \n",
       "228357                                0.367890        -0.720769      0.232231   \n",
       "221004                               -0.872673        -0.225775     -0.270395   \n",
       "296315                               -0.206783        -0.077142     -0.255789   \n",
       "245557                               -0.290224        -0.352110     -0.306233   \n",
       "292786                               -0.322564        -0.666738     -0.381377   \n",
       "\n",
       "            GENDER_AGE_ICD9DIAG  ICD9_diagnosis_1_2  ICD9_0_L1_1_2  \\\n",
       "icustay_id                                                           \n",
       "228357                 0.355083           -0.187505      -0.222547   \n",
       "221004                -0.528072           -0.246277      -0.177883   \n",
       "296315                 0.369981           -0.101701      -0.191736   \n",
       "245557                -0.432051           -0.472576      -0.253667   \n",
       "292786                 0.218631           -0.403414      -0.956360   \n",
       "\n",
       "            ICD9_0_L1_1_2_3  \n",
       "icustay_id                   \n",
       "228357             0.394449  \n",
       "221004            -0.847985  \n",
       "296315             0.177013  \n",
       "245557             0.405987  \n",
       "292786            -0.462257  \n",
       "\n",
       "[5 rows x 811 columns]"
      ]
     },
     "execution_count": 2,
     "metadata": {},
     "output_type": "execute_result"
    }
   ],
   "source": [
    "train = pd.read_csv('data/processed/train.csv') \n",
    "train.set_index('icustay_id', inplace=True)\n",
    "\n",
    "print(train.info())\n",
    "train.head()"
   ]
  },
  {
   "cell_type": "code",
   "execution_count": 3,
   "id": "0510df38",
   "metadata": {},
   "outputs": [
    {
     "name": "stdout",
     "output_type": "stream",
     "text": [
      "<class 'pandas.core.frame.DataFrame'>\n",
      "Int64Index: 5221 entries, 286120 to 286384\n",
      "Columns: 810 entries, HeartRate_Min to ICD9_0_L1_1_2_3\n",
      "dtypes: float64(810)\n",
      "memory usage: 32.3 MB\n",
      "None\n"
     ]
    },
    {
     "data": {
      "text/html": [
       "<div>\n",
       "<style scoped>\n",
       "    .dataframe tbody tr th:only-of-type {\n",
       "        vertical-align: middle;\n",
       "    }\n",
       "\n",
       "    .dataframe tbody tr th {\n",
       "        vertical-align: top;\n",
       "    }\n",
       "\n",
       "    .dataframe thead th {\n",
       "        text-align: right;\n",
       "    }\n",
       "</style>\n",
       "<table border=\"1\" class=\"dataframe\">\n",
       "  <thead>\n",
       "    <tr style=\"text-align: right;\">\n",
       "      <th></th>\n",
       "      <th>HeartRate_Min</th>\n",
       "      <th>HeartRate_Max</th>\n",
       "      <th>HeartRate_Mean</th>\n",
       "      <th>SysBP_Min</th>\n",
       "      <th>SysBP_Max</th>\n",
       "      <th>SysBP_Mean</th>\n",
       "      <th>DiasBP_Min</th>\n",
       "      <th>DiasBP_Max</th>\n",
       "      <th>DiasBP_Mean</th>\n",
       "      <th>MeanBP_Min</th>\n",
       "      <th>...</th>\n",
       "      <th>ICD9_CODE_O_10_L1_ICD9_CODE_O_6_L1</th>\n",
       "      <th>ICD9_CODE_O_10_L1_ICD9_CODE_O_7_L1</th>\n",
       "      <th>ICD9_CODE_O_10_L1_ICD9_CODE_O_8_L1</th>\n",
       "      <th>ICD9_CODE_O_10_L1_ICD9_CODE_O_9_L1</th>\n",
       "      <th>GENDER_ICD9DIAG</th>\n",
       "      <th>AGE_ICD9DIAG</th>\n",
       "      <th>GENDER_AGE_ICD9DIAG</th>\n",
       "      <th>ICD9_diagnosis_1_2</th>\n",
       "      <th>ICD9_0_L1_1_2</th>\n",
       "      <th>ICD9_0_L1_1_2_3</th>\n",
       "    </tr>\n",
       "    <tr>\n",
       "      <th>icustay_id</th>\n",
       "      <th></th>\n",
       "      <th></th>\n",
       "      <th></th>\n",
       "      <th></th>\n",
       "      <th></th>\n",
       "      <th></th>\n",
       "      <th></th>\n",
       "      <th></th>\n",
       "      <th></th>\n",
       "      <th></th>\n",
       "      <th></th>\n",
       "      <th></th>\n",
       "      <th></th>\n",
       "      <th></th>\n",
       "      <th></th>\n",
       "      <th></th>\n",
       "      <th></th>\n",
       "      <th></th>\n",
       "      <th></th>\n",
       "      <th></th>\n",
       "      <th></th>\n",
       "    </tr>\n",
       "  </thead>\n",
       "  <tbody>\n",
       "    <tr>\n",
       "      <th>286120</th>\n",
       "      <td>0.02080</td>\n",
       "      <td>-0.010194</td>\n",
       "      <td>0.022425</td>\n",
       "      <td>0.399611</td>\n",
       "      <td>-0.762534</td>\n",
       "      <td>-0.099920</td>\n",
       "      <td>0.227244</td>\n",
       "      <td>-0.657804</td>\n",
       "      <td>-0.368620</td>\n",
       "      <td>0.332543</td>\n",
       "      <td>...</td>\n",
       "      <td>-0.665465</td>\n",
       "      <td>-1.859467</td>\n",
       "      <td>-1.366493</td>\n",
       "      <td>-1.256403</td>\n",
       "      <td>-0.429993</td>\n",
       "      <td>-0.337667</td>\n",
       "      <td>-1.282706</td>\n",
       "      <td>-0.481984</td>\n",
       "      <td>-0.430885</td>\n",
       "      <td>-1.534544</td>\n",
       "    </tr>\n",
       "    <tr>\n",
       "      <th>248206</th>\n",
       "      <td>0.60747</td>\n",
       "      <td>0.234689</td>\n",
       "      <td>0.550471</td>\n",
       "      <td>0.546073</td>\n",
       "      <td>1.413541</td>\n",
       "      <td>1.248266</td>\n",
       "      <td>0.184233</td>\n",
       "      <td>0.221383</td>\n",
       "      <td>0.806786</td>\n",
       "      <td>0.296761</td>\n",
       "      <td>...</td>\n",
       "      <td>1.106359</td>\n",
       "      <td>-0.067872</td>\n",
       "      <td>-0.497785</td>\n",
       "      <td>0.202090</td>\n",
       "      <td>-0.668973</td>\n",
       "      <td>-0.395110</td>\n",
       "      <td>0.458094</td>\n",
       "      <td>-0.651950</td>\n",
       "      <td>0.869419</td>\n",
       "      <td>0.838465</td>\n",
       "    </tr>\n",
       "    <tr>\n",
       "      <th>293175</th>\n",
       "      <td>-0.80744</td>\n",
       "      <td>0.724457</td>\n",
       "      <td>0.140758</td>\n",
       "      <td>0.048102</td>\n",
       "      <td>2.383079</td>\n",
       "      <td>0.063354</td>\n",
       "      <td>-0.374902</td>\n",
       "      <td>0.461162</td>\n",
       "      <td>-0.846234</td>\n",
       "      <td>0.046288</td>\n",
       "      <td>...</td>\n",
       "      <td>-0.410181</td>\n",
       "      <td>-0.724168</td>\n",
       "      <td>-0.541266</td>\n",
       "      <td>0.452246</td>\n",
       "      <td>0.062963</td>\n",
       "      <td>1.314272</td>\n",
       "      <td>0.256677</td>\n",
       "      <td>-0.049629</td>\n",
       "      <td>-0.381478</td>\n",
       "      <td>-0.079716</td>\n",
       "    </tr>\n",
       "    <tr>\n",
       "      <th>240974</th>\n",
       "      <td>0.02080</td>\n",
       "      <td>-1.528474</td>\n",
       "      <td>-0.983438</td>\n",
       "      <td>0.399611</td>\n",
       "      <td>-0.934897</td>\n",
       "      <td>-0.663219</td>\n",
       "      <td>-0.202861</td>\n",
       "      <td>-1.989905</td>\n",
       "      <td>-1.489938</td>\n",
       "      <td>0.117851</td>\n",
       "      <td>...</td>\n",
       "      <td>0.157968</td>\n",
       "      <td>0.013478</td>\n",
       "      <td>-1.776884</td>\n",
       "      <td>-0.095481</td>\n",
       "      <td>1.539817</td>\n",
       "      <td>1.186751</td>\n",
       "      <td>3.854509</td>\n",
       "      <td>-0.240216</td>\n",
       "      <td>1.058680</td>\n",
       "      <td>0.546156</td>\n",
       "    </tr>\n",
       "    <tr>\n",
       "      <th>202015</th>\n",
       "      <td>0.26237</td>\n",
       "      <td>-0.867288</td>\n",
       "      <td>-0.563214</td>\n",
       "      <td>-0.391284</td>\n",
       "      <td>-1.365803</td>\n",
       "      <td>-1.280389</td>\n",
       "      <td>-0.159850</td>\n",
       "      <td>-0.471309</td>\n",
       "      <td>-0.765732</td>\n",
       "      <td>-0.132622</td>\n",
       "      <td>...</td>\n",
       "      <td>0.516158</td>\n",
       "      <td>0.984634</td>\n",
       "      <td>0.792480</td>\n",
       "      <td>-0.798425</td>\n",
       "      <td>-0.209156</td>\n",
       "      <td>0.700259</td>\n",
       "      <td>-1.080735</td>\n",
       "      <td>-0.251975</td>\n",
       "      <td>-1.114369</td>\n",
       "      <td>0.683819</td>\n",
       "    </tr>\n",
       "  </tbody>\n",
       "</table>\n",
       "<p>5 rows × 810 columns</p>\n",
       "</div>"
      ],
      "text/plain": [
       "            HeartRate_Min  HeartRate_Max  HeartRate_Mean  SysBP_Min  \\\n",
       "icustay_id                                                            \n",
       "286120            0.02080      -0.010194        0.022425   0.399611   \n",
       "248206            0.60747       0.234689        0.550471   0.546073   \n",
       "293175           -0.80744       0.724457        0.140758   0.048102   \n",
       "240974            0.02080      -1.528474       -0.983438   0.399611   \n",
       "202015            0.26237      -0.867288       -0.563214  -0.391284   \n",
       "\n",
       "            SysBP_Max  SysBP_Mean  DiasBP_Min  DiasBP_Max  DiasBP_Mean  \\\n",
       "icustay_id                                                               \n",
       "286120      -0.762534   -0.099920    0.227244   -0.657804    -0.368620   \n",
       "248206       1.413541    1.248266    0.184233    0.221383     0.806786   \n",
       "293175       2.383079    0.063354   -0.374902    0.461162    -0.846234   \n",
       "240974      -0.934897   -0.663219   -0.202861   -1.989905    -1.489938   \n",
       "202015      -1.365803   -1.280389   -0.159850   -0.471309    -0.765732   \n",
       "\n",
       "            MeanBP_Min  ...  ICD9_CODE_O_10_L1_ICD9_CODE_O_6_L1  \\\n",
       "icustay_id              ...                                       \n",
       "286120        0.332543  ...                           -0.665465   \n",
       "248206        0.296761  ...                            1.106359   \n",
       "293175        0.046288  ...                           -0.410181   \n",
       "240974        0.117851  ...                            0.157968   \n",
       "202015       -0.132622  ...                            0.516158   \n",
       "\n",
       "            ICD9_CODE_O_10_L1_ICD9_CODE_O_7_L1  \\\n",
       "icustay_id                                       \n",
       "286120                               -1.859467   \n",
       "248206                               -0.067872   \n",
       "293175                               -0.724168   \n",
       "240974                                0.013478   \n",
       "202015                                0.984634   \n",
       "\n",
       "            ICD9_CODE_O_10_L1_ICD9_CODE_O_8_L1  \\\n",
       "icustay_id                                       \n",
       "286120                               -1.366493   \n",
       "248206                               -0.497785   \n",
       "293175                               -0.541266   \n",
       "240974                               -1.776884   \n",
       "202015                                0.792480   \n",
       "\n",
       "            ICD9_CODE_O_10_L1_ICD9_CODE_O_9_L1  GENDER_ICD9DIAG  AGE_ICD9DIAG  \\\n",
       "icustay_id                                                                      \n",
       "286120                               -1.256403        -0.429993     -0.337667   \n",
       "248206                                0.202090        -0.668973     -0.395110   \n",
       "293175                                0.452246         0.062963      1.314272   \n",
       "240974                               -0.095481         1.539817      1.186751   \n",
       "202015                               -0.798425        -0.209156      0.700259   \n",
       "\n",
       "            GENDER_AGE_ICD9DIAG  ICD9_diagnosis_1_2  ICD9_0_L1_1_2  \\\n",
       "icustay_id                                                           \n",
       "286120                -1.282706           -0.481984      -0.430885   \n",
       "248206                 0.458094           -0.651950       0.869419   \n",
       "293175                 0.256677           -0.049629      -0.381478   \n",
       "240974                 3.854509           -0.240216       1.058680   \n",
       "202015                -1.080735           -0.251975      -1.114369   \n",
       "\n",
       "            ICD9_0_L1_1_2_3  \n",
       "icustay_id                   \n",
       "286120            -1.534544  \n",
       "248206             0.838465  \n",
       "293175            -0.079716  \n",
       "240974             0.546156  \n",
       "202015             0.683819  \n",
       "\n",
       "[5 rows x 810 columns]"
      ]
     },
     "execution_count": 3,
     "metadata": {},
     "output_type": "execute_result"
    }
   ],
   "source": [
    "test = pd.read_csv('data/processed/test.csv')\n",
    "test.set_index('icustay_id', inplace=True)\n",
    "print(test.info())\n",
    "test.head()"
   ]
  },
  {
   "cell_type": "code",
   "execution_count": 5,
   "id": "c27577b8",
   "metadata": {},
   "outputs": [
    {
     "name": "stdout",
     "output_type": "stream",
     "text": [
      "(20885, 810)\n",
      "(5221, 810)\n"
     ]
    }
   ],
   "source": [
    "# Create the X, y and target objects\n",
    "target = 'HOSPITAL_EXPIRE_FLAG'\n",
    "y = train[target]\n",
    "X_train = train.drop(target, axis=1)\n",
    "X_test = test\n",
    "print(X_train.shape)\n",
    "print(X_test.shape)"
   ]
  },
  {
   "cell_type": "code",
   "execution_count": 7,
   "id": "fe503e07",
   "metadata": {},
   "outputs": [],
   "source": [
    "feature_names = X_test.columns"
   ]
  },
  {
   "cell_type": "markdown",
   "id": "249efd21",
   "metadata": {},
   "source": [
    "# KNN\n",
    "\n",
    "## Base line Knn model"
   ]
  },
  {
   "cell_type": "markdown",
   "id": "15576d4b",
   "metadata": {},
   "source": [
    "First, I fit a KNN model with the default parameters and the data that I prepared in the Notebook: \"Data preparation\". Since the kaggle competition is based in the Area Under the Curve (AUC) of the Receiving Operating Characteristic line (ROC) I am focused on this metric. The average AUC from this first model is the started point from wich I expect to improve by hyperparamenter tunning and dealing the class imbalance."
   ]
  },
  {
   "cell_type": "code",
   "execution_count": 183,
   "id": "6595be1a",
   "metadata": {},
   "outputs": [],
   "source": [
    "# Initial libraries\n",
    "from sklearn.neighbors import KNeighborsClassifier\n",
    "from sklearn.model_selection import KFold, StratifiedKFold\n",
    "from sklearn.metrics import roc_auc_score, recall_score, f1_score"
   ]
  },
  {
   "cell_type": "code",
   "execution_count": 332,
   "id": "857b379a",
   "metadata": {},
   "outputs": [],
   "source": [
    "# Fist model with default parameters \n",
    "model_knn_bl = KNeighborsClassifier()\n",
    "splitter = StratifiedKFold(n_splits=5, random_state=None, shuffle=True)\n",
    "\n",
    "metrics = []\n",
    "# Split train data into train and validation to predict over unobserved data\n",
    "for train_index, val_index in splitter.split(X_train, y):\n",
    "    train_df, val_df = X_train.iloc[train_index], X_train.iloc[val_index] \n",
    "    train_y, val_y = y.iloc[train_index], y.iloc[val_index] \n",
    "\n",
    "    model_knn_bl.fit(train_df, train_y)\n",
    "    predictions = model_knn_bl.predict_proba(val_df)\n",
    "    metrics.append(roc_auc_score(val_y, predictions[:,1]))"
   ]
  },
  {
   "cell_type": "markdown",
   "id": "6bbb392a",
   "metadata": {},
   "source": [
    "Above, I use kfold splits to validate the model over data that was not observed by the model in the fittingm process"
   ]
  },
  {
   "cell_type": "code",
   "execution_count": 334,
   "id": "6f5bdd5a",
   "metadata": {},
   "outputs": [
    {
     "name": "stdout",
     "output_type": "stream",
     "text": [
      "[0.7929081476574594, 0.798857653480172, 0.7774652511828284, 0.793152533679269, 0.7880776423016678]\n",
      "0.7900922456602794\n"
     ]
    }
   ],
   "source": [
    "print(metrics)\n",
    "print(np.mean(metrics))"
   ]
  },
  {
   "cell_type": "code",
   "execution_count": 335,
   "id": "4f4baee6",
   "metadata": {},
   "outputs": [
    {
     "data": {
      "image/png": "[encoded data removed]",
      "text/plain": [
       "<Figure size 432x288 with 1 Axes>"
      ]
     },
     "metadata": {
      "needs_background": "light"
     },
     "output_type": "display_data"
    }
   ],
   "source": [
    "# Plot of the Roc curve and AUC using a function from my module (customplots) in the validation data\n",
    "roc_curve_plot(val_y, predictions[:,1])"
   ]
  },
  {
   "cell_type": "markdown",
   "id": "0192a330",
   "metadata": {},
   "source": [
    "Now I fit this basic model with the full data (no validation data)"
   ]
  },
  {
   "cell_type": "code",
   "execution_count": 22,
   "id": "e30d9173",
   "metadata": {},
   "outputs": [],
   "source": [
    "model_knn_bl.fit(X_train, y)\n",
    "y_train_hat_knn_bl = model_knn_bl.predict_proba(X_train)"
   ]
  },
  {
   "cell_type": "code",
   "execution_count": 23,
   "id": "fd9c1d6b",
   "metadata": {},
   "outputs": [
    {
     "data": {
      "image/png": "[encoded data removed]",
      "text/plain": [
       "<Figure size 432x288 with 1 Axes>"
      ]
     },
     "metadata": {
      "needs_background": "light"
     },
     "output_type": "display_data"
    }
   ],
   "source": [
    "roc_curve_plot(y, y_train_hat_knn_bl[:,1])"
   ]
  },
  {
   "cell_type": "markdown",
   "id": "b8655da1",
   "metadata": {},
   "source": [
    "See the huge difference of the AUC when predicts observed data and when there were not observed data. This overfitting is expected since we haven't started to find the best paramenters of the knn model.\n",
    "\n",
    "Lets send predicictions of this basic model to kaggle to have some information from the leaderboard."
   ]
  },
  {
   "cell_type": "code",
   "execution_count": 25,
   "id": "b41caed3",
   "metadata": {},
   "outputs": [],
   "source": [
    "y_test_hat_knn_bl = model_knn_bl.predict_proba(test[feature_names])\n",
    "\n",
    "test_predictions_submit = pd.DataFrame({\"icustay_id\": test.index, \"HOSPITAL_EXPIRE_FLAG\": y_test_hat_knn_bl[:,1]})\n",
    "test_predictions_submit.to_csv(\"data/outputs/knn_bl.csv\", index = False)"
   ]
  },
  {
   "cell_type": "markdown",
   "id": "b040e8b2",
   "metadata": {},
   "source": [
    "## A better approach -  Class imbalance and hyperparameter tunning\n",
    "\n",
    "Onwards I will follow try to improve the predictions by searching a way to del with the class imbalance and by doing hyperparameter tunning over the number of neighbors, the distance and if the distance is weighted."
   ]
  },
  {
   "cell_type": "markdown",
   "id": "69431e15",
   "metadata": {},
   "source": [
    "### Class imbalance\n",
    "\n",
    "Which one is the best approach to class imbalance ?"
   ]
  },
  {
   "cell_type": "code",
   "execution_count": 190,
   "id": "634bcf95",
   "metadata": {},
   "outputs": [],
   "source": [
    "import imblearn\n",
    "\n",
    "from imblearn.under_sampling import RandomUnderSampler, NearMiss, OneSidedSelection, NeighbourhoodCleaningRule, TomekLinks"
   ]
  },
  {
   "cell_type": "code",
   "execution_count": 228,
   "id": "3257fe63",
   "metadata": {},
   "outputs": [],
   "source": [
    "under_sampling = [RandomUnderSampler(random_state=123),\n",
    "                  NearMiss(),\n",
    "                  OneSidedSelection(random_state=123), \n",
    "                  NeighbourhoodCleaningRule(),\n",
    "                  TomekLinks()]\n",
    "\n",
    "reweight = [ReweightProba(reweight=False), ReweightProba(reweight=True)]"
   ]
  },
  {
   "cell_type": "code",
   "execution_count": 244,
   "id": "e04dce7c",
   "metadata": {},
   "outputs": [
    {
     "data": {
      "text/html": [
       "<div>\n",
       "<style scoped>\n",
       "    .dataframe tbody tr th:only-of-type {\n",
       "        vertical-align: middle;\n",
       "    }\n",
       "\n",
       "    .dataframe tbody tr th {\n",
       "        vertical-align: top;\n",
       "    }\n",
       "\n",
       "    .dataframe thead th {\n",
       "        text-align: right;\n",
       "    }\n",
       "</style>\n",
       "<table border=\"1\" class=\"dataframe\">\n",
       "  <thead>\n",
       "    <tr style=\"text-align: right;\">\n",
       "      <th></th>\n",
       "      <th></th>\n",
       "      <th>auc</th>\n",
       "      <th>f1</th>\n",
       "    </tr>\n",
       "    <tr>\n",
       "      <th>method</th>\n",
       "      <th>reweighted</th>\n",
       "      <th></th>\n",
       "      <th></th>\n",
       "    </tr>\n",
       "  </thead>\n",
       "  <tbody>\n",
       "    <tr>\n",
       "      <th rowspan=\"2\" valign=\"top\">NearMiss()</th>\n",
       "      <th>0</th>\n",
       "      <td>0.809772</td>\n",
       "      <td>0.446022</td>\n",
       "    </tr>\n",
       "    <tr>\n",
       "      <th>1</th>\n",
       "      <td>0.809772</td>\n",
       "      <td>0.289587</td>\n",
       "    </tr>\n",
       "    <tr>\n",
       "      <th rowspan=\"2\" valign=\"top\">Neighbourh</th>\n",
       "      <th>0</th>\n",
       "      <td>0.833107</td>\n",
       "      <td>0.494112</td>\n",
       "    </tr>\n",
       "    <tr>\n",
       "      <th>1</th>\n",
       "      <td>0.833107</td>\n",
       "      <td>0.259410</td>\n",
       "    </tr>\n",
       "    <tr>\n",
       "      <th rowspan=\"2\" valign=\"top\">OneSidedSe</th>\n",
       "      <th>0</th>\n",
       "      <td>0.789187</td>\n",
       "      <td>0.364320</td>\n",
       "    </tr>\n",
       "    <tr>\n",
       "      <th>1</th>\n",
       "      <td>0.789187</td>\n",
       "      <td>0.088269</td>\n",
       "    </tr>\n",
       "    <tr>\n",
       "      <th rowspan=\"2\" valign=\"top\">RandomUnde</th>\n",
       "      <th>0</th>\n",
       "      <td>0.844075</td>\n",
       "      <td>0.448690</td>\n",
       "    </tr>\n",
       "    <tr>\n",
       "      <th>1</th>\n",
       "      <td>0.844075</td>\n",
       "      <td>0.365706</td>\n",
       "    </tr>\n",
       "    <tr>\n",
       "      <th rowspan=\"2\" valign=\"top\">TomekLinks</th>\n",
       "      <th>0</th>\n",
       "      <td>0.789260</td>\n",
       "      <td>0.364320</td>\n",
       "    </tr>\n",
       "    <tr>\n",
       "      <th>1</th>\n",
       "      <td>0.789260</td>\n",
       "      <td>0.088269</td>\n",
       "    </tr>\n",
       "  </tbody>\n",
       "</table>\n",
       "</div>"
      ],
      "text/plain": [
       "                            auc        f1\n",
       "method     reweighted                    \n",
       "NearMiss() 0           0.809772  0.446022\n",
       "           1           0.809772  0.289587\n",
       "Neighbourh 0           0.833107  0.494112\n",
       "           1           0.833107  0.259410\n",
       "OneSidedSe 0           0.789187  0.364320\n",
       "           1           0.789187  0.088269\n",
       "RandomUnde 0           0.844075  0.448690\n",
       "           1           0.844075  0.365706\n",
       "TomekLinks 0           0.789260  0.364320\n",
       "           1           0.789260  0.088269"
      ]
     },
     "execution_count": 244,
     "metadata": {},
     "output_type": "execute_result"
    }
   ],
   "source": [
    "def class_imbalance_pipeline(model, classb_method, reweight_method):\n",
    "\n",
    "    splitter = StratifiedKFold(n_splits=5, random_state=123, shuffle=True)\n",
    "\n",
    "    fits_data = {}\n",
    "    fits_data['method'] = []; fits_data['reweighted'] = []; fits_data['nrows'] = []; fits_data['auc'] = []; fits_data['f1'] = []\n",
    "\n",
    "    for train_index, val_index in splitter.split(X_train, y):\n",
    "        train_df, val_df = X_train.iloc[train_index], X_train.iloc[val_index] \n",
    "        train_y, val_y = y.iloc[train_index], y.iloc[val_index] \n",
    "\n",
    "        for method in classb_method:\n",
    "            for j, adjust in enumerate(reweight_method):\n",
    "                X_resampled, y_resampled = method.fit_resample(train_df, train_y)\n",
    "\n",
    "                model.fit(X_resampled, y_resampled)\n",
    "                predictions = model.predict_proba(val_df)\n",
    "\n",
    "                reweighted_transformer = adjust\n",
    "                reweighted_transformer.fit(predictions[:,1], y.mean() ,0.5)\n",
    "                predictions_a = reweighted_transformer.transform(predictions[:,1])\n",
    "\n",
    "                fits_data['method'].append(str(method)[:10])\n",
    "                fits_data['reweighted'].append(j)\n",
    "                fits_data['nrows'].append(X_resampled.shape[0])\n",
    "                fits_data['auc'].append(roc_auc_score(val_y, predictions_a))\n",
    "                fits_data['f1'].append(f1_score(val_y, (predictions_a > 0.5).astype(int)))\n",
    "\n",
    "    return pd.DataFrame(fits_data)\n",
    "\n",
    "model_knn_bl = KNeighborsClassifier()\n",
    "\n",
    "df_fits_under = class_imbalance_pipeline(model_knn_bl, under_sampling, reweight)\n",
    "df_fits_under.groupby(['method', 'reweighted'])['auc', 'f1'].mean()"
   ]
  },
  {
   "cell_type": "markdown",
   "id": "f96c76a5",
   "metadata": {},
   "source": [
    "The table above shows that the reweight of probabilities do not affect the auc (for that reason I included the F1) and the F1 score is better if I do not reweighted the probabilities.\n",
    "\n",
    "Besides, according with the above table, the best strategy for dealing with class imbalance by the under-sampling approach is the Random undersampling. However this algorith's drawback is that is trained with same amount of rows whose target value is 1. This means that uses only around 12% of the training data.\n",
    "\n",
    "Another good algorithm to use is the Neighborhood Cleaning Rule NCR (NeighbourhoodCleaningRule()), this method belongs to the family of Cleaning under-sampling techniques, which consist in clear the noisy observations of the dataset (cleaning the data) instead of create a balanced data. The method of NCR is show in the next table, it performs a process in which noisy rows are droped. \n",
    "\n",
    "The full explanation of NCR is available in https://sci2s.ugr.es/keel/pdf/algorithm/congreso/2001-Laurikkala-LNCS.pdf"
   ]
  },
  {
   "attachments": {
    "NCR.png": {
     "image/png": "[encoded data removed]"
    }
   },
   "cell_type": "markdown",
   "id": "60620b5b",
   "metadata": {},
   "source": [
    "![NCR.png](attachment:NCR.png)"
   ]
  },
  {
   "cell_type": "markdown",
   "id": "549e1e4c",
   "metadata": {},
   "source": [
    "Lets see now how well a couple of algorithms for over sampling from imblearn work in constrast with the undersampling methods"
   ]
  },
  {
   "cell_type": "code",
   "execution_count": 237,
   "id": "dcfdb840",
   "metadata": {},
   "outputs": [],
   "source": [
    "# Classes for over samplig from imblearn\n",
    "from imblearn.over_sampling import RandomOverSampler, SMOTE, ADASYN, ADASYN, BorderlineSMOTE"
   ]
  },
  {
   "cell_type": "code",
   "execution_count": 245,
   "id": "5033e939",
   "metadata": {},
   "outputs": [],
   "source": [
    "# Algorithm to use with default paramenters (only choose the radom_state)\n",
    "over_sampling = [RandomOverSampler(random_state=123),\n",
    "                 SMOTE(random_state=123),\n",
    "                 ADASYN(random_state=123), \n",
    "                 BorderlineSMOTE(random_state=123)]"
   ]
  },
  {
   "cell_type": "code",
   "execution_count": 246,
   "id": "1b4d9661",
   "metadata": {},
   "outputs": [
    {
     "data": {
      "text/html": [
       "<div>\n",
       "<style scoped>\n",
       "    .dataframe tbody tr th:only-of-type {\n",
       "        vertical-align: middle;\n",
       "    }\n",
       "\n",
       "    .dataframe tbody tr th {\n",
       "        vertical-align: top;\n",
       "    }\n",
       "\n",
       "    .dataframe thead th {\n",
       "        text-align: right;\n",
       "    }\n",
       "</style>\n",
       "<table border=\"1\" class=\"dataframe\">\n",
       "  <thead>\n",
       "    <tr style=\"text-align: right;\">\n",
       "      <th></th>\n",
       "      <th></th>\n",
       "      <th>auc</th>\n",
       "      <th>f1</th>\n",
       "    </tr>\n",
       "    <tr>\n",
       "      <th>method</th>\n",
       "      <th>reweighted</th>\n",
       "      <th></th>\n",
       "      <th></th>\n",
       "    </tr>\n",
       "  </thead>\n",
       "  <tbody>\n",
       "    <tr>\n",
       "      <th rowspan=\"2\" valign=\"top\">ADASYN(ran</th>\n",
       "      <th>0</th>\n",
       "      <td>0.763994</td>\n",
       "      <td>0.271630</td>\n",
       "    </tr>\n",
       "    <tr>\n",
       "      <th>1</th>\n",
       "      <td>0.763994</td>\n",
       "      <td>0.362083</td>\n",
       "    </tr>\n",
       "    <tr>\n",
       "      <th rowspan=\"2\" valign=\"top\">Borderline</th>\n",
       "      <th>0</th>\n",
       "      <td>0.787103</td>\n",
       "      <td>0.292251</td>\n",
       "    </tr>\n",
       "    <tr>\n",
       "      <th>1</th>\n",
       "      <td>0.787103</td>\n",
       "      <td>0.392064</td>\n",
       "    </tr>\n",
       "    <tr>\n",
       "      <th rowspan=\"2\" valign=\"top\">RandomOver</th>\n",
       "      <th>0</th>\n",
       "      <td>0.783184</td>\n",
       "      <td>0.449111</td>\n",
       "    </tr>\n",
       "    <tr>\n",
       "      <th>1</th>\n",
       "      <td>0.783184</td>\n",
       "      <td>0.433596</td>\n",
       "    </tr>\n",
       "    <tr>\n",
       "      <th rowspan=\"2\" valign=\"top\">SMOTE(rand</th>\n",
       "      <th>0</th>\n",
       "      <td>0.772339</td>\n",
       "      <td>0.277340</td>\n",
       "    </tr>\n",
       "    <tr>\n",
       "      <th>1</th>\n",
       "      <td>0.772339</td>\n",
       "      <td>0.372561</td>\n",
       "    </tr>\n",
       "  </tbody>\n",
       "</table>\n",
       "</div>"
      ],
      "text/plain": [
       "                            auc        f1\n",
       "method     reweighted                    \n",
       "ADASYN(ran 0           0.763994  0.271630\n",
       "           1           0.763994  0.362083\n",
       "Borderline 0           0.787103  0.292251\n",
       "           1           0.787103  0.392064\n",
       "RandomOver 0           0.783184  0.449111\n",
       "           1           0.783184  0.433596\n",
       "SMOTE(rand 0           0.772339  0.277340\n",
       "           1           0.772339  0.372561"
      ]
     },
     "execution_count": 246,
     "metadata": {},
     "output_type": "execute_result"
    }
   ],
   "source": [
    "df_fits_over = class_imbalance_pipeline(model_knn_bl, over_sampling, reweight)\n",
    "df_fits_over.groupby(['method', 'reweighted'])['auc', 'f1'].mean()"
   ]
  },
  {
   "cell_type": "markdown",
   "id": "1ecc9772",
   "metadata": {},
   "source": [
    "The table above shows that in this case, the reweight improves F1 score in all of the methods (shoud I use a different function to reweight if I do undersampling?). However the performance in both the AUC and the F1 is lower in all the methods of oversampling in constrast with undersampling.\n",
    "\n",
    "According with the above, I will use the NCR method for under sampling. However I want to do a smalll grid search over the parameters of the NCR method to work with the best approach to balanced data possible."
   ]
  },
  {
   "cell_type": "markdown",
   "id": "08cf2b75",
   "metadata": {},
   "source": [
    "#### Grid search over the choosen method for dealing with imbalanced classes\n",
    "\n",
    "The next loop does grid search over a list of NeighbourhoodCleaningRule() classes with different values for number of nerigbors and the method to select the row to eliminate from the data."
   ]
  },
  {
   "cell_type": "code",
   "execution_count": 298,
   "id": "49651572",
   "metadata": {},
   "outputs": [
    {
     "data": {
      "text/plain": [
       "Params\n",
       "default           0.833107\n",
       "k=1, sel=all      0.811232\n",
       "k=1, sel=mode     0.811232\n",
       "k=10, sel=all     0.851447\n",
       "k=10, sel=mode    0.850478\n",
       "k=15, sel=all     0.849540\n",
       "k=15, sel=mode    0.850478\n",
       "k=20, sel=all     0.849540\n",
       "k=20, sel=mode    0.849533\n",
       "k=5, sel=all      0.841145\n",
       "k=5, sel=mode     0.840507\n",
       "Name: AUC, dtype: float64"
      ]
     },
     "execution_count": 298,
     "metadata": {},
     "output_type": "execute_result"
    }
   ],
   "source": [
    "# List (with) names of the methods of NCR to fit over\n",
    "NCR_gs = [('default', NeighbourhoodCleaningRule()),\n",
    "                 ('k=1, sel=all', NeighbourhoodCleaningRule(n_neighbors = 1, kind_sel = \"all\")),\n",
    "                 ('k=5, sel=all', NeighbourhoodCleaningRule(n_neighbors = 5, kind_sel = \"all\")),\n",
    "                 ('k=10, sel=all', NeighbourhoodCleaningRule(n_neighbors = 10, kind_sel = \"all\")),\n",
    "                 ('k=15, sel=all', NeighbourhoodCleaningRule(n_neighbors = 20, kind_sel = \"all\")),\n",
    "                 ('k=20, sel=all', NeighbourhoodCleaningRule(n_neighbors = 20, kind_sel = \"all\")),\n",
    "                 ('k=1, sel=mode', NeighbourhoodCleaningRule(n_neighbors = 1, kind_sel = \"mode\")),\n",
    "                 ('k=5, sel=mode', NeighbourhoodCleaningRule(n_neighbors = 5, kind_sel = \"mode\")),\n",
    "                 ('k=10, sel=mode', NeighbourhoodCleaningRule(n_neighbors = 10, kind_sel = \"mode\")),\n",
    "                 ('k=15, sel=mode', NeighbourhoodCleaningRule(n_neighbors = 10, kind_sel = \"mode\")),\n",
    "                 ('k=20, sel=mode', NeighbourhoodCleaningRule(n_neighbors = 20, kind_sel = \"mode\"))]\n",
    "\n",
    "# The splitter is a stratifield k fold since we have imbalanced data\n",
    "splitter = StratifiedKFold(n_splits=5, random_state=123, shuffle=True)\n",
    "\n",
    "# Dictionary to save results \n",
    "data = {}; data['Params'] = []; data['AUC'] = []\n",
    "\n",
    "# Loop that splits the data into training and validation 5 times, for each method. It is a grid search made by hand.\n",
    "for train_index, val_index in splitter.split(X_train, y):\n",
    "        train_df, val_df = X_train.iloc[train_index], X_train.iloc[val_index] \n",
    "        train_y, val_y = y.iloc[train_index], y.iloc[val_index] \n",
    "\n",
    "        for name, method in NCR_gs:\n",
    "            X_resampled, y_resampled = method.fit_resample(train_df, train_y)\n",
    "\n",
    "            model_knn_bl.fit(X_resampled, y_resampled)\n",
    "            predictions = model_knn_bl.predict_proba(val_df)\n",
    "            \n",
    "            data['Params'].append(name)\n",
    "            data['AUC'].append(roc_auc_score(val_y, predictions[:,1]))\n",
    "            \n",
    "# Data and data.frame\n",
    "df_fits_NCR = pd.DataFrame(data)\n",
    "df_fits_NCR.groupby(['Params'])['AUC'].mean()"
   ]
  },
  {
   "cell_type": "markdown",
   "id": "3ba0c6bc",
   "metadata": {},
   "source": [
    "So I will use the selection parameter with value all for 10 neighboors"
   ]
  },
  {
   "cell_type": "code",
   "execution_count": 264,
   "id": "49e6e069",
   "metadata": {},
   "outputs": [
    {
     "name": "stdout",
     "output_type": "stream",
     "text": [
      "(20885, 810) (20885,)\n",
      "(17902, 810) (17902,)\n"
     ]
    }
   ],
   "source": [
    "model_knn_bl_r = KNeighborsClassifier()\n",
    "resampling_m1 = NeighbourhoodCleaningRule(n_neighbors = 10, kind_sel = \"all\")\n",
    "\n",
    "print(X_train.shape, y.shape)\n",
    "X_resampled, y_resampled = resampling_m1.fit_resample(X_train, y)\n",
    "print(X_resampled.shape, y_resampled.shape)"
   ]
  },
  {
   "cell_type": "code",
   "execution_count": 267,
   "id": "2976b85f",
   "metadata": {},
   "outputs": [
    {
     "data": {
      "image/png": "[encoded data removed]",
      "text/plain": [
       "<Figure size 432x288 with 1 Axes>"
      ]
     },
     "metadata": {
      "needs_background": "light"
     },
     "output_type": "display_data"
    }
   ],
   "source": [
    "model_knn_bl_r.fit(X_resampled, y_resampled)\n",
    "y_train_hat_knn_bl_r = model_knn_bl_r.predict_proba(X_resampled)\n",
    "\n",
    "roc_curve_plot(y_resampled, y_train_hat_knn_bl_r[:,1])"
   ]
  },
  {
   "cell_type": "code",
   "execution_count": 268,
   "id": "98d398f3",
   "metadata": {},
   "outputs": [],
   "source": [
    "y_test_hat_knn_bl_r = model_knn_bl_r.predict_proba(X_test)\n",
    "\n",
    "test_predictions_submit = pd.DataFrame({\"icustay_id\": X_test.index, \"HOSPITAL_EXPIRE_FLAG\": y_test_hat_knn_bl_r[:,1]})\n",
    "test_predictions_submit.to_csv(\"data/outputs/knn_bl_r.csv\", index = False)"
   ]
  },
  {
   "cell_type": "markdown",
   "id": "7810c324",
   "metadata": {},
   "source": [
    "The new predictions are better. However the model overfits which is normal because I haven't started the hyperparameter tunning"
   ]
  },
  {
   "cell_type": "markdown",
   "id": "97630f82",
   "metadata": {},
   "source": [
    "### Hyper parameter tunning"
   ]
  },
  {
   "cell_type": "code",
   "execution_count": 299,
   "id": "fc87d8d3",
   "metadata": {},
   "outputs": [
    {
     "name": "stdout",
     "output_type": "stream",
     "text": [
      "k: 50 uniform p: 1  :  0.8565403961047433\n",
      "k: 50 uniform p: 2  :  0.8684683790652927\n",
      "k: 50 distance p: 1  :  0.8656728212309497\n",
      "k: 50 distance p: 2  :  0.8721817002328406\n",
      "k: 100 uniform p: 1  :  0.8556373346270966\n",
      "k: 100 uniform p: 2  :  0.8671391475496601\n",
      "k: 100 distance p: 1  :  0.862376113895275\n",
      "k: 100 distance p: 2  :  0.8696285392420091\n",
      "k: 300 uniform p: 1  :  0.8536196887249631\n",
      "k: 300 uniform p: 2  :  0.8635695370201912\n",
      "k: 300 distance p: 1  :  0.8574985895407324\n",
      "k: 300 distance p: 2  :  0.8647443990524654\n",
      "k: 600 uniform p: 1  :  0.852337135600727\n",
      "k: 600 uniform p: 2  :  0.8606502998259667\n",
      "k: 600 distance p: 1  :  0.8550257374358861\n",
      "k: 600 distance p: 2  :  0.8615452752830567\n",
      "k: 50 uniform p: 1  :  0.8689417954353836\n",
      "k: 50 uniform p: 2  :  0.8785279314902563\n",
      "k: 50 distance p: 1  :  0.8773735231636421\n",
      "k: 50 distance p: 2  :  0.8819834248244732\n",
      "k: 100 uniform p: 1  :  0.8694051419125145\n",
      "k: 100 uniform p: 2  :  0.8771056768687573\n",
      "k: 100 distance p: 1  :  0.875818726045705\n",
      "k: 100 distance p: 2  :  0.8794695354753674\n",
      "k: 300 uniform p: 1  :  0.8651584435092836\n",
      "k: 300 uniform p: 2  :  0.8723820095651501\n",
      "k: 300 distance p: 1  :  0.869211850771876\n",
      "k: 300 distance p: 2  :  0.8737919303710086\n",
      "k: 600 uniform p: 1  :  0.8621918847174821\n",
      "k: 600 uniform p: 2  :  0.8696184985144195\n",
      "k: 600 distance p: 1  :  0.8651604684640901\n",
      "k: 600 distance p: 2  :  0.8706896996071588\n",
      "k: 50 uniform p: 1  :  0.8572625924575956\n",
      "k: 50 uniform p: 2  :  0.8696602862181576\n",
      "k: 50 distance p: 1  :  0.8653997813048809\n",
      "k: 50 distance p: 2  :  0.8733876757568728\n",
      "k: 100 uniform p: 1  :  0.8550888955160137\n",
      "k: 100 uniform p: 2  :  0.865912831218176\n",
      "k: 100 distance p: 1  :  0.8613800619267997\n",
      "k: 100 distance p: 2  :  0.8686148572775034\n",
      "k: 300 uniform p: 1  :  0.8500640622066116\n",
      "k: 300 uniform p: 2  :  0.8595912904852897\n",
      "k: 300 distance p: 1  :  0.8540666615122365\n",
      "k: 300 distance p: 2  :  0.8611517942940456\n",
      "k: 600 uniform p: 1  :  0.8449070545743729\n",
      "k: 600 uniform p: 2  :  0.8550660687527384\n",
      "k: 600 distance p: 1  :  0.8480322961882987\n",
      "k: 600 distance p: 2  :  0.8563073660492395\n",
      "k: 50 uniform p: 1  :  0.8586064261020356\n",
      "k: 50 uniform p: 2  :  0.8732258634591383\n",
      "k: 50 distance p: 1  :  0.8659686095187602\n",
      "k: 50 distance p: 2  :  0.8765727455809963\n",
      "k: 100 uniform p: 1  :  0.8592420778245358\n",
      "k: 100 uniform p: 2  :  0.8689944442603577\n",
      "k: 100 distance p: 1  :  0.8653088424253804\n",
      "k: 100 distance p: 2  :  0.8715723958160752\n",
      "k: 300 uniform p: 1  :  0.8557363287937528\n",
      "k: 300 uniform p: 2  :  0.8652992699117488\n",
      "k: 300 distance p: 1  :  0.8595859519680719\n",
      "k: 300 distance p: 2  :  0.8667226290540515\n",
      "k: 600 uniform p: 1  :  0.8526852741604721\n",
      "k: 600 uniform p: 2  :  0.8618209498142564\n",
      "k: 600 distance p: 1  :  0.8556439172198473\n",
      "k: 600 distance p: 2  :  0.8629668901480427\n",
      "Duration: 1:23:49.186442\n"
     ]
    }
   ],
   "source": [
    "parameters1 = {'n_neighbors' : [50, 100, 300, 600], \n",
    "               'weights' : ['uniform', 'distance'],\n",
    "               'p': [1,2]}\n",
    "\n",
    "results = {'n_neighbors' : [], \n",
    "           'weights' : [],\n",
    "           'p': [],\n",
    "           'AUC' : []}\n",
    "\n",
    "from datetime import datetime\n",
    "start_time = datetime.now()\n",
    "\n",
    "resampling_m1 = NeighbourhoodCleaningRule(n_neighbors = 10, kind_sel = \"all\")\n",
    "splitter = StratifiedKFold(n_splits=4, random_state=123, shuffle=True, )\n",
    "\n",
    "metrics = []\n",
    "for train_index, val_index in splitter.split(X_train, y):\n",
    "    train_df, val_df = X_train.iloc[train_index], X_train.iloc[val_index] \n",
    "    train_y, val_y = y.iloc[train_index], y.iloc[val_index] \n",
    "\n",
    "    X_resampled, y_resampled = resampling_m1.fit_resample(train_df, train_y)\n",
    "    \n",
    "    for k in parameters1['n_neighbors']:\n",
    "        for weight in parameters1['weights']:\n",
    "            for p in parameters1['p']:\n",
    "                model = KNeighborsClassifier(n_neighbors = k,\n",
    "                                             weights = weight,\n",
    "                                             algorithm = 'kd_tree', # The faster: the three algorithms give the same AUC\n",
    "                                             p = p)\n",
    "                model.fit(X_resampled, y_resampled)\n",
    "                predictions = model.predict_proba(val_df)\n",
    "\n",
    "                results['n_neighbors'].append(k)\n",
    "                results['weights'].append(weight)\n",
    "                results['p'].append(p)\n",
    "                auc = roc_auc_score(val_y, predictions[:,1])\n",
    "                results['AUC'].append(auc)\n",
    "                print('k:', k, weight, 'p:', p, ' : ', auc)\n",
    "\n",
    "end_time = datetime.now()\n",
    "print('Duration: {}'.format(end_time - start_time))"
   ]
  },
  {
   "cell_type": "code",
   "execution_count": 301,
   "id": "2b19b89a",
   "metadata": {},
   "outputs": [
    {
     "data": {
      "text/plain": [
       "n_neighbors  weights   p\n",
       "50           distance  2    0.876031\n",
       "             uniform   2    0.872471\n",
       "100          distance  2    0.872321\n",
       "             uniform   2    0.869788\n",
       "50           distance  1    0.868604\n",
       "300          distance  2    0.866603\n",
       "100          distance  1    0.866221\n",
       "300          uniform   2    0.865211\n",
       "600          distance  2    0.862877\n",
       "             uniform   2    0.861789\n",
       "50           uniform   1    0.860338\n",
       "300          distance  1    0.860091\n",
       "100          uniform   1    0.859843\n",
       "300          uniform   1    0.856145\n",
       "600          distance  1    0.855966\n",
       "             uniform   1    0.853030\n",
       "Name: AUC, dtype: float64"
      ]
     },
     "execution_count": 301,
     "metadata": {},
     "output_type": "execute_result"
    }
   ],
   "source": [
    "results_gs_knn1 = pd.DataFrame(results)\n",
    "results_gs_knn1.groupby(['n_neighbors', 'weights', 'p'])['AUC'].mean().sort_values(ascending=False)"
   ]
  },
  {
   "cell_type": "code",
   "execution_count": 305,
   "id": "c66f24ce",
   "metadata": {},
   "outputs": [
    {
     "data": {
      "text/plain": [
       "<AxesSubplot:xlabel='n_neighbors', ylabel='AUC'>"
      ]
     },
     "execution_count": 305,
     "metadata": {},
     "output_type": "execute_result"
    },
    {
     "data": {
      "image/png": "[encoded data removed]",
      "text/plain": [
       "<Figure size 432x288 with 1 Axes>"
      ]
     },
     "metadata": {
      "needs_background": "light"
     },
     "output_type": "display_data"
    }
   ],
   "source": [
    "sns.scatterplot(x='n_neighbors', y='AUC', hue = 'weights',  style = 'p', data = results_gs_knn1)"
   ]
  },
  {
   "cell_type": "markdown",
   "id": "e2144827",
   "metadata": {},
   "source": [
    "From the graph above we see that the data adjust better when weight is set as distance and p as 2. Besides the results improve as we decrease the number of neighbors\n",
    "\n",
    "Lets fit this model to send it to the kaggle competition."
   ]
  },
  {
   "cell_type": "code",
   "execution_count": 306,
   "id": "0b7694ae",
   "metadata": {},
   "outputs": [],
   "source": [
    "# Initialization of model and resampling method\n",
    "model_knn_m1 = KNeighborsClassifier(weights = 'distance', p = 2, n_neighbors = 50, algorithm = 'kd_tree')\n",
    "resampling_m1 = NeighbourhoodCleaningRule(n_neighbors = 10, kind_sel = \"all\")\n",
    "\n",
    "# Getting the resample data\n",
    "X_resampled, y_resampled = resampling_m1.fit_resample(X_train, y)\n",
    "\n",
    "# FIt the model in the resampled data and get the predicted proba on this data\n",
    "model_knn_m1.fit(X_resampled, y_resampled)\n",
    "\n",
    "# Predict in the test data\n",
    "y_test_hat_knn_m1 = model_knn_m1.predict_proba(X_test)"
   ]
  },
  {
   "cell_type": "code",
   "execution_count": 321,
   "id": "0b3a94ed",
   "metadata": {},
   "outputs": [
    {
     "name": "stdout",
     "output_type": "stream",
     "text": [
      "0.14288450488412183\n"
     ]
    },
    {
     "data": {
      "image/png": "[encoded data removed]",
      "text/plain": [
       "<Figure size 432x288 with 1 Axes>"
      ]
     },
     "metadata": {
      "needs_background": "light"
     },
     "output_type": "display_data"
    }
   ],
   "source": [
    "# Plot of the distribution of the predicted probabilities\n",
    "sns.distplot(y_test_hat_knn_m1[:,1])\n",
    "print((y_test_hat_knn_m1[:,1] > 0.5).astype(int).mean()) # proportion of predicted deads"
   ]
  },
  {
   "cell_type": "markdown",
   "id": "6fe28a12",
   "metadata": {},
   "source": [
    "The model with 50 neighbors predicts a 14% of dead patients in the test data (p > 0.5), this is informative since is more than what we saw in the training data (without any adjustment for class imbalance). However, the metric to optimize is the AUC, and from the grid search we get into the conclution that this is the best fitting over a set of different 16 different models."
   ]
  },
  {
   "cell_type": "code",
   "execution_count": 308,
   "id": "89b7b656",
   "metadata": {},
   "outputs": [],
   "source": [
    "# Export the data\n",
    "test_predictions_submit = pd.DataFrame({\"icustay_id\": test.index, \"HOSPITAL_EXPIRE_FLAG\": y_test_hat_knn_m1[:,1]})\n",
    "test_predictions_submit.to_csv(\"data/outputs/knn_m1.csv\", index = False)"
   ]
  },
  {
   "cell_type": "markdown",
   "id": "75d7f4e6",
   "metadata": {},
   "source": [
    "#### More grid search\n",
    "\n",
    "We saw that on average the AUC increased in the left hand part of the graph. In this section I will try a new grid search only for number of neighbors (k) to get the best value for this parameter"
   ]
  },
  {
   "cell_type": "code",
   "execution_count": 311,
   "id": "b575f2e6",
   "metadata": {},
   "outputs": [
    {
     "name": "stdout",
     "output_type": "stream",
     "text": [
      "k:  10 AUC:  0.8709371881598607\n",
      "k:  20 AUC:  0.8751555180658239\n",
      "k:  30 AUC:  0.8742862708559604\n",
      "k:  40 AUC:  0.8731523902460538\n",
      "k:  50 AUC:  0.8721817002328406\n",
      "k:  60 AUC:  0.8721896024802032\n",
      "k:  80 AUC:  0.8699143065594166\n",
      "k:  100 AUC:  0.8696285392420091\n",
      "k:  10 AUC:  0.8780866754291985\n",
      "k:  20 AUC:  0.8811027535703636\n",
      "k:  30 AUC:  0.8843191181505904\n",
      "k:  40 AUC:  0.8843272179698172\n",
      "k:  50 AUC:  0.8819834248244732\n",
      "k:  60 AUC:  0.8812179919075442\n",
      "k:  80 AUC:  0.8800460953348723\n",
      "k:  100 AUC:  0.8794695354753674\n",
      "k:  10 AUC:  0.8694148985129467\n",
      "k:  20 AUC:  0.8750440887887457\n",
      "k:  30 AUC:  0.8751381571438565\n",
      "k:  40 AUC:  0.8734579969147053\n",
      "k:  50 AUC:  0.8733876757568728\n",
      "k:  60 AUC:  0.8726117498923094\n",
      "k:  80 AUC:  0.8692291549311332\n",
      "k:  100 AUC:  0.8686148572775034\n",
      "k:  10 AUC:  0.8697416525840264\n",
      "k:  20 AUC:  0.8744310797427203\n",
      "k:  30 AUC:  0.8752743813763065\n",
      "k:  40 AUC:  0.876163152449643\n",
      "k:  50 AUC:  0.8765727455809963\n",
      "k:  60 AUC:  0.874777531101465\n",
      "k:  80 AUC:  0.8733427585775244\n",
      "k:  100 AUC:  0.8715723958160752\n",
      "Duration: 0:42:09.037617\n"
     ]
    }
   ],
   "source": [
    "\n",
    "start_time = datetime.now()\n",
    "\n",
    "resampling_m1 = NeighbourhoodCleaningRule(n_neighbors = 10, kind_sel = \"all\")\n",
    "splitter = StratifiedKFold(n_splits=4, random_state=123, shuffle=True, )\n",
    "\n",
    "parameters2 = {'n_neighbors' : [10, 20, 30, 40, 50, 60, 80, 100]}\n",
    "\n",
    "results = {'n_neighbors' : [], \n",
    "           'AUC' : []}\n",
    "\n",
    "for train_index, val_index in splitter.split(X_train, y):\n",
    "    train_df, val_df = X_train.iloc[train_index], X_train.iloc[val_index] \n",
    "    train_y, val_y = y.iloc[train_index], y.iloc[val_index] \n",
    "\n",
    "    X_resampled, y_resampled = resampling_m1.fit_resample(train_df, train_y)\n",
    "    \n",
    "    for k in parameters2['n_neighbors']:\n",
    "        model = KNeighborsClassifier(n_neighbors = k,\n",
    "                                     weights = 'distance',\n",
    "                                     algorithm = 'kd_tree',\n",
    "                                     p = 2)\n",
    "        model.fit(X_resampled, y_resampled)\n",
    "        predictions = model.predict_proba(val_df)\n",
    "\n",
    "        results['n_neighbors'].append(k)\n",
    "        auc = roc_auc_score(val_y, predictions[:,1])\n",
    "        results['AUC'].append(auc)\n",
    "        print('k: ', k, 'AUC: ', auc)\n",
    "\n",
    "end_time = datetime.now()\n",
    "print('Duration: {}'.format(end_time - start_time))"
   ]
  },
  {
   "cell_type": "code",
   "execution_count": 319,
   "id": "503c456e",
   "metadata": {},
   "outputs": [
    {
     "data": {
      "text/html": [
       "<div>\n",
       "<style scoped>\n",
       "    .dataframe tbody tr th:only-of-type {\n",
       "        vertical-align: middle;\n",
       "    }\n",
       "\n",
       "    .dataframe tbody tr th {\n",
       "        vertical-align: top;\n",
       "    }\n",
       "\n",
       "    .dataframe thead tr th {\n",
       "        text-align: left;\n",
       "    }\n",
       "\n",
       "    .dataframe thead tr:last-of-type th {\n",
       "        text-align: right;\n",
       "    }\n",
       "</style>\n",
       "<table border=\"1\" class=\"dataframe\">\n",
       "  <thead>\n",
       "    <tr>\n",
       "      <th></th>\n",
       "      <th colspan=\"2\" halign=\"left\">AUC</th>\n",
       "    </tr>\n",
       "    <tr>\n",
       "      <th></th>\n",
       "      <th>mean</th>\n",
       "      <th>var</th>\n",
       "    </tr>\n",
       "    <tr>\n",
       "      <th>n_neighbors</th>\n",
       "      <th></th>\n",
       "      <th></th>\n",
       "    </tr>\n",
       "  </thead>\n",
       "  <tbody>\n",
       "    <tr>\n",
       "      <th>10</th>\n",
       "      <td>0.872045</td>\n",
       "      <td>0.000017</td>\n",
       "    </tr>\n",
       "    <tr>\n",
       "      <th>20</th>\n",
       "      <td>0.876433</td>\n",
       "      <td>0.000010</td>\n",
       "    </tr>\n",
       "    <tr>\n",
       "      <th>30</th>\n",
       "      <td>0.877254</td>\n",
       "      <td>0.000022</td>\n",
       "    </tr>\n",
       "    <tr>\n",
       "      <th>40</th>\n",
       "      <td>0.876775</td>\n",
       "      <td>0.000027</td>\n",
       "    </tr>\n",
       "    <tr>\n",
       "      <th>50</th>\n",
       "      <td>0.876031</td>\n",
       "      <td>0.000019</td>\n",
       "    </tr>\n",
       "    <tr>\n",
       "      <th>60</th>\n",
       "      <td>0.875199</td>\n",
       "      <td>0.000017</td>\n",
       "    </tr>\n",
       "    <tr>\n",
       "      <th>80</th>\n",
       "      <td>0.873133</td>\n",
       "      <td>0.000024</td>\n",
       "    </tr>\n",
       "    <tr>\n",
       "      <th>100</th>\n",
       "      <td>0.872321</td>\n",
       "      <td>0.000024</td>\n",
       "    </tr>\n",
       "  </tbody>\n",
       "</table>\n",
       "</div>"
      ],
      "text/plain": [
       "                  AUC          \n",
       "                 mean       var\n",
       "n_neighbors                    \n",
       "10           0.872045  0.000017\n",
       "20           0.876433  0.000010\n",
       "30           0.877254  0.000022\n",
       "40           0.876775  0.000027\n",
       "50           0.876031  0.000019\n",
       "60           0.875199  0.000017\n",
       "80           0.873133  0.000024\n",
       "100          0.872321  0.000024"
      ]
     },
     "execution_count": 319,
     "metadata": {},
     "output_type": "execute_result"
    }
   ],
   "source": [
    "results_gs_knn1 = pd.DataFrame(results)\n",
    "results_gs_knn1.groupby('n_neighbors').agg({'AUC': ['mean', 'var']})"
   ]
  },
  {
   "cell_type": "markdown",
   "id": "6dc1f893",
   "metadata": {},
   "source": [
    "Lets train a model with the full trained (and undersampled) data to send predictions to the kaggle competition. "
   ]
  },
  {
   "cell_type": "code",
   "execution_count": 329,
   "id": "de8ca898",
   "metadata": {},
   "outputs": [],
   "source": [
    "# Initialization of model\n",
    "model_knn_m2 = KNeighborsClassifier(weights = 'distance', p = 2, n_neighbors = 30, algorithm = 'kd_tree')\n",
    "\n",
    "# Fit the model in the resampled data and get the predicted proba on this data\n",
    "model_knn_m2.fit(X_resampled, y_resampled)\n",
    "\n",
    "# Predict in the test data\n",
    "y_test_hat_knn_m2 = model_knn_m2.predict_proba(X_test)"
   ]
  },
  {
   "cell_type": "code",
   "execution_count": 330,
   "id": "bcd7ba18",
   "metadata": {},
   "outputs": [
    {
     "name": "stdout",
     "output_type": "stream",
     "text": [
      "0.15897337674774947\n"
     ]
    },
    {
     "data": {
      "image/png": "[encoded data removed]",
      "text/plain": [
       "<Figure size 432x288 with 1 Axes>"
      ]
     },
     "metadata": {
      "needs_background": "light"
     },
     "output_type": "display_data"
    }
   ],
   "source": [
    "# Plot of the distribution of the predicted probabilities\n",
    "sns.distplot(y_test_hat_knn_m2[:,1])\n",
    "print((y_test_hat_knn_m2[:,1] > 0.5).astype(int).mean()) # proportion of predicted deads"
   ]
  },
  {
   "cell_type": "code",
   "execution_count": 331,
   "id": "8ea6b430",
   "metadata": {},
   "outputs": [],
   "source": [
    "# Export the data\n",
    "test_predictions_submit = pd.DataFrame({\"icustay_id\": test.index, \"HOSPITAL_EXPIRE_FLAG\": y_test_hat_knn_m2[:,1]})\n",
    "test_predictions_submit.to_csv(\"data/outputs/knn_m2.csv\", index = False)"
   ]
  },
  {
   "cell_type": "markdown",
   "id": "b0395388",
   "metadata": {},
   "source": [
    "With all of the above I have applied a class balace strategy and doing and hyperparameter tunning, which gets me into the best possible model according to the pre-processing  data made. At this point I improved my internal measurement of AUC from around 0.80 to a 0.87. Based on the kaggle public leaderboard my results improved from 0.79 on average to 0.85\n",
    "\n",
    "The next section focus on fitting models with another algorithm that should get better results."
   ]
  },
  {
   "cell_type": "markdown",
   "id": "878aca39",
   "metadata": {},
   "source": [
    "# SVM\n",
    "\n",
    "## SVM base line model"
   ]
  },
  {
   "cell_type": "code",
   "execution_count": 10,
   "id": "484212c9",
   "metadata": {},
   "outputs": [],
   "source": [
    "from sklearn.svm import SVC"
   ]
  },
  {
   "cell_type": "code",
   "execution_count": null,
   "id": "80661abc",
   "metadata": {},
   "outputs": [],
   "source": []
  }
 ],
 "metadata": {
  "kernelspec": {
   "display_name": "Python 3",
   "language": "python",
   "name": "python3"
  },
  "language_info": {
   "codemirror_mode": {
    "name": "ipython",
    "version": 3
   },
   "file_extension": ".py",
   "mimetype": "text/x-python",
   "name": "python",
   "nbconvert_exporter": "python",
   "pygments_lexer": "ipython3",
   "version": "3.6.9"
  }
 },
 "nbformat": 4,
 "nbformat_minor": 5
}
