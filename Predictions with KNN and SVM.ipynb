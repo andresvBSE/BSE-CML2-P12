{
 "cells": [
  {
   "cell_type": "code",
   "execution_count": null,
   "id": "c60b7f1e",
   "metadata": {},
   "outputs": [],
   "source": []
  },
  {
   "cell_type": "code",
   "execution_count": null,
   "id": "ee715a84",
   "metadata": {},
   "outputs": [],
   "source": []
  },
  {
   "cell_type": "markdown",
   "id": "b45242d5",
   "metadata": {},
   "source": [
    "## Load the data"
   ]
  },
  {
   "cell_type": "code",
   "execution_count": 12,
   "id": "7c8fe50e",
   "metadata": {},
   "outputs": [],
   "source": [
    "import pandas as pd\n",
    "import numpy as np"
   ]
  },
  {
   "cell_type": "code",
   "execution_count": 13,
   "id": "b06d3fa0",
   "metadata": {},
   "outputs": [],
   "source": [
    "import sys\n",
    "sys.path.append('src/features')\n",
    "\n",
    "from customplots import *"
   ]
  },
  {
   "cell_type": "code",
   "execution_count": 14,
   "id": "db6c68b3",
   "metadata": {},
   "outputs": [
    {
     "name": "stdout",
     "output_type": "stream",
     "text": [
      "<class 'pandas.core.frame.DataFrame'>\n",
      "Int64Index: 20885 entries, 228357 to 258400\n",
      "Columns: 508 entries, HeartRate_Min to GENDER_AGE_ICD9DIAG\n",
      "dtypes: float64(508)\n",
      "memory usage: 81.1 MB\n",
      "None\n"
     ]
    },
    {
     "data": {
      "text/html": [
       "<div>\n",
       "<style scoped>\n",
       "    .dataframe tbody tr th:only-of-type {\n",
       "        vertical-align: middle;\n",
       "    }\n",
       "\n",
       "    .dataframe tbody tr th {\n",
       "        vertical-align: top;\n",
       "    }\n",
       "\n",
       "    .dataframe thead th {\n",
       "        text-align: right;\n",
       "    }\n",
       "</style>\n",
       "<table border=\"1\" class=\"dataframe\">\n",
       "  <thead>\n",
       "    <tr style=\"text-align: right;\">\n",
       "      <th></th>\n",
       "      <th>HeartRate_Min</th>\n",
       "      <th>HeartRate_Max</th>\n",
       "      <th>HeartRate_Mean</th>\n",
       "      <th>SysBP_Min</th>\n",
       "      <th>SysBP_Max</th>\n",
       "      <th>SysBP_Mean</th>\n",
       "      <th>DiasBP_Min</th>\n",
       "      <th>DiasBP_Max</th>\n",
       "      <th>DiasBP_Mean</th>\n",
       "      <th>MeanBP_Min</th>\n",
       "      <th>...</th>\n",
       "      <th>ETHNICITY_AGE_GROUP</th>\n",
       "      <th>AGE_GROUP_GENDER</th>\n",
       "      <th>AGE_GROUP_ADMISSION_TYPE</th>\n",
       "      <th>AGE_GROUP_INSURANCE</th>\n",
       "      <th>AGE_GROUP_RELIGION</th>\n",
       "      <th>AGE_GROUP_MARITAL_STATUS</th>\n",
       "      <th>AGE_GROUP_ETHNICITY</th>\n",
       "      <th>GENDER_ICD9DIAG</th>\n",
       "      <th>AGE_ICD9DIAG</th>\n",
       "      <th>GENDER_AGE_ICD9DIAG</th>\n",
       "    </tr>\n",
       "    <tr>\n",
       "      <th>icustay_id</th>\n",
       "      <th></th>\n",
       "      <th></th>\n",
       "      <th></th>\n",
       "      <th></th>\n",
       "      <th></th>\n",
       "      <th></th>\n",
       "      <th></th>\n",
       "      <th></th>\n",
       "      <th></th>\n",
       "      <th></th>\n",
       "      <th></th>\n",
       "      <th></th>\n",
       "      <th></th>\n",
       "      <th></th>\n",
       "      <th></th>\n",
       "      <th></th>\n",
       "      <th></th>\n",
       "      <th></th>\n",
       "      <th></th>\n",
       "      <th></th>\n",
       "      <th></th>\n",
       "    </tr>\n",
       "  </thead>\n",
       "  <tbody>\n",
       "    <tr>\n",
       "      <th>228357</th>\n",
       "      <td>1.33218</td>\n",
       "      <td>1.948876</td>\n",
       "      <td>2.403148</td>\n",
       "      <td>-1.006425</td>\n",
       "      <td>-1.021078</td>\n",
       "      <td>-0.772756</td>\n",
       "      <td>-0.202861</td>\n",
       "      <td>0.088173</td>\n",
       "      <td>-0.127848</td>\n",
       "      <td>0.189415</td>\n",
       "      <td>...</td>\n",
       "      <td>-0.137465</td>\n",
       "      <td>0.029527</td>\n",
       "      <td>0.361440</td>\n",
       "      <td>0.054872</td>\n",
       "      <td>0.121116</td>\n",
       "      <td>-0.005283</td>\n",
       "      <td>-0.127987</td>\n",
       "      <td>-0.713200</td>\n",
       "      <td>0.244668</td>\n",
       "      <td>-0.436216</td>\n",
       "    </tr>\n",
       "    <tr>\n",
       "      <th>221004</th>\n",
       "      <td>-0.46234</td>\n",
       "      <td>0.234689</td>\n",
       "      <td>-0.405068</td>\n",
       "      <td>-0.127652</td>\n",
       "      <td>-1.279621</td>\n",
       "      <td>-0.763765</td>\n",
       "      <td>0.399285</td>\n",
       "      <td>-0.764372</td>\n",
       "      <td>0.202969</td>\n",
       "      <td>0.117851</td>\n",
       "      <td>...</td>\n",
       "      <td>-1.354388</td>\n",
       "      <td>-1.250569</td>\n",
       "      <td>-0.919620</td>\n",
       "      <td>-1.385577</td>\n",
       "      <td>1.825801</td>\n",
       "      <td>-1.307475</td>\n",
       "      <td>-1.354834</td>\n",
       "      <td>-0.213203</td>\n",
       "      <td>-0.275901</td>\n",
       "      <td>-0.257408</td>\n",
       "    </tr>\n",
       "    <tr>\n",
       "      <th>296315</th>\n",
       "      <td>0.78002</td>\n",
       "      <td>-0.353032</td>\n",
       "      <td>0.437012</td>\n",
       "      <td>-0.186237</td>\n",
       "      <td>-0.547081</td>\n",
       "      <td>-0.392030</td>\n",
       "      <td>0.055202</td>\n",
       "      <td>-1.137360</td>\n",
       "      <td>-0.532373</td>\n",
       "      <td>0.547234</td>\n",
       "      <td>...</td>\n",
       "      <td>-0.050633</td>\n",
       "      <td>-0.035086</td>\n",
       "      <td>0.364020</td>\n",
       "      <td>0.073752</td>\n",
       "      <td>0.136510</td>\n",
       "      <td>-0.345261</td>\n",
       "      <td>-0.066353</td>\n",
       "      <td>-0.085663</td>\n",
       "      <td>-0.280623</td>\n",
       "      <td>-0.277103</td>\n",
       "    </tr>\n",
       "    <tr>\n",
       "      <th>245557</th>\n",
       "      <td>0.43492</td>\n",
       "      <td>1.116271</td>\n",
       "      <td>0.917094</td>\n",
       "      <td>-0.420577</td>\n",
       "      <td>-0.676353</td>\n",
       "      <td>-0.749047</td>\n",
       "      <td>-1.235111</td>\n",
       "      <td>0.034889</td>\n",
       "      <td>-1.922454</td>\n",
       "      <td>-0.597786</td>\n",
       "      <td>...</td>\n",
       "      <td>0.160014</td>\n",
       "      <td>0.317795</td>\n",
       "      <td>-1.747893</td>\n",
       "      <td>0.113781</td>\n",
       "      <td>0.223111</td>\n",
       "      <td>-0.190493</td>\n",
       "      <td>0.151924</td>\n",
       "      <td>-0.350400</td>\n",
       "      <td>-0.332814</td>\n",
       "      <td>-0.285052</td>\n",
       "    </tr>\n",
       "    <tr>\n",
       "      <th>292786</th>\n",
       "      <td>0.71100</td>\n",
       "      <td>0.430596</td>\n",
       "      <td>0.744087</td>\n",
       "      <td>-1.182180</td>\n",
       "      <td>-0.503991</td>\n",
       "      <td>-1.047845</td>\n",
       "      <td>-1.235111</td>\n",
       "      <td>-1.563633</td>\n",
       "      <td>-1.922454</td>\n",
       "      <td>-0.884041</td>\n",
       "      <td>...</td>\n",
       "      <td>0.727670</td>\n",
       "      <td>0.817568</td>\n",
       "      <td>1.080807</td>\n",
       "      <td>0.801318</td>\n",
       "      <td>1.366617</td>\n",
       "      <td>0.408960</td>\n",
       "      <td>0.769847</td>\n",
       "      <td>-0.658985</td>\n",
       "      <td>-0.394405</td>\n",
       "      <td>-0.048078</td>\n",
       "    </tr>\n",
       "  </tbody>\n",
       "</table>\n",
       "<p>5 rows × 508 columns</p>\n",
       "</div>"
      ],
      "text/plain": [
       "            HeartRate_Min  HeartRate_Max  HeartRate_Mean  SysBP_Min  \\\n",
       "icustay_id                                                            \n",
       "228357            1.33218       1.948876        2.403148  -1.006425   \n",
       "221004           -0.46234       0.234689       -0.405068  -0.127652   \n",
       "296315            0.78002      -0.353032        0.437012  -0.186237   \n",
       "245557            0.43492       1.116271        0.917094  -0.420577   \n",
       "292786            0.71100       0.430596        0.744087  -1.182180   \n",
       "\n",
       "            SysBP_Max  SysBP_Mean  DiasBP_Min  DiasBP_Max  DiasBP_Mean  \\\n",
       "icustay_id                                                               \n",
       "228357      -1.021078   -0.772756   -0.202861    0.088173    -0.127848   \n",
       "221004      -1.279621   -0.763765    0.399285   -0.764372     0.202969   \n",
       "296315      -0.547081   -0.392030    0.055202   -1.137360    -0.532373   \n",
       "245557      -0.676353   -0.749047   -1.235111    0.034889    -1.922454   \n",
       "292786      -0.503991   -1.047845   -1.235111   -1.563633    -1.922454   \n",
       "\n",
       "            MeanBP_Min  ...  ETHNICITY_AGE_GROUP  AGE_GROUP_GENDER  \\\n",
       "icustay_id              ...                                          \n",
       "228357        0.189415  ...            -0.137465          0.029527   \n",
       "221004        0.117851  ...            -1.354388         -1.250569   \n",
       "296315        0.547234  ...            -0.050633         -0.035086   \n",
       "245557       -0.597786  ...             0.160014          0.317795   \n",
       "292786       -0.884041  ...             0.727670          0.817568   \n",
       "\n",
       "            AGE_GROUP_ADMISSION_TYPE  AGE_GROUP_INSURANCE  AGE_GROUP_RELIGION  \\\n",
       "icustay_id                                                                      \n",
       "228357                      0.361440             0.054872            0.121116   \n",
       "221004                     -0.919620            -1.385577            1.825801   \n",
       "296315                      0.364020             0.073752            0.136510   \n",
       "245557                     -1.747893             0.113781            0.223111   \n",
       "292786                      1.080807             0.801318            1.366617   \n",
       "\n",
       "            AGE_GROUP_MARITAL_STATUS  AGE_GROUP_ETHNICITY  GENDER_ICD9DIAG  \\\n",
       "icustay_id                                                                   \n",
       "228357                     -0.005283            -0.127987        -0.713200   \n",
       "221004                     -1.307475            -1.354834        -0.213203   \n",
       "296315                     -0.345261            -0.066353        -0.085663   \n",
       "245557                     -0.190493             0.151924        -0.350400   \n",
       "292786                      0.408960             0.769847        -0.658985   \n",
       "\n",
       "            AGE_ICD9DIAG  GENDER_AGE_ICD9DIAG  \n",
       "icustay_id                                     \n",
       "228357          0.244668            -0.436216  \n",
       "221004         -0.275901            -0.257408  \n",
       "296315         -0.280623            -0.277103  \n",
       "245557         -0.332814            -0.285052  \n",
       "292786         -0.394405            -0.048078  \n",
       "\n",
       "[5 rows x 508 columns]"
      ]
     },
     "execution_count": 14,
     "metadata": {},
     "output_type": "execute_result"
    }
   ],
   "source": [
    "train = pd.read_csv('data/processed/train.csv')\n",
    "train.set_index('icustay_id', inplace=True)\n",
    "\n",
    "print(train.info())\n",
    "train.head()"
   ]
  },
  {
   "cell_type": "code",
   "execution_count": 15,
   "id": "0510df38",
   "metadata": {},
   "outputs": [
    {
     "name": "stdout",
     "output_type": "stream",
     "text": [
      "<class 'pandas.core.frame.DataFrame'>\n",
      "Int64Index: 5221 entries, 286120 to 286384\n",
      "Columns: 507 entries, HeartRate_Min to GENDER_AGE_ICD9DIAG\n",
      "dtypes: float64(507)\n",
      "memory usage: 20.2 MB\n",
      "None\n"
     ]
    },
    {
     "data": {
      "text/html": [
       "<div>\n",
       "<style scoped>\n",
       "    .dataframe tbody tr th:only-of-type {\n",
       "        vertical-align: middle;\n",
       "    }\n",
       "\n",
       "    .dataframe tbody tr th {\n",
       "        vertical-align: top;\n",
       "    }\n",
       "\n",
       "    .dataframe thead th {\n",
       "        text-align: right;\n",
       "    }\n",
       "</style>\n",
       "<table border=\"1\" class=\"dataframe\">\n",
       "  <thead>\n",
       "    <tr style=\"text-align: right;\">\n",
       "      <th></th>\n",
       "      <th>HeartRate_Min</th>\n",
       "      <th>HeartRate_Max</th>\n",
       "      <th>HeartRate_Mean</th>\n",
       "      <th>SysBP_Min</th>\n",
       "      <th>SysBP_Max</th>\n",
       "      <th>SysBP_Mean</th>\n",
       "      <th>DiasBP_Min</th>\n",
       "      <th>DiasBP_Max</th>\n",
       "      <th>DiasBP_Mean</th>\n",
       "      <th>MeanBP_Min</th>\n",
       "      <th>...</th>\n",
       "      <th>ETHNICITY_AGE_GROUP</th>\n",
       "      <th>AGE_GROUP_GENDER</th>\n",
       "      <th>AGE_GROUP_ADMISSION_TYPE</th>\n",
       "      <th>AGE_GROUP_INSURANCE</th>\n",
       "      <th>AGE_GROUP_RELIGION</th>\n",
       "      <th>AGE_GROUP_MARITAL_STATUS</th>\n",
       "      <th>AGE_GROUP_ETHNICITY</th>\n",
       "      <th>GENDER_ICD9DIAG</th>\n",
       "      <th>AGE_ICD9DIAG</th>\n",
       "      <th>GENDER_AGE_ICD9DIAG</th>\n",
       "    </tr>\n",
       "    <tr>\n",
       "      <th>icustay_id</th>\n",
       "      <th></th>\n",
       "      <th></th>\n",
       "      <th></th>\n",
       "      <th></th>\n",
       "      <th></th>\n",
       "      <th></th>\n",
       "      <th></th>\n",
       "      <th></th>\n",
       "      <th></th>\n",
       "      <th></th>\n",
       "      <th></th>\n",
       "      <th></th>\n",
       "      <th></th>\n",
       "      <th></th>\n",
       "      <th></th>\n",
       "      <th></th>\n",
       "      <th></th>\n",
       "      <th></th>\n",
       "      <th></th>\n",
       "      <th></th>\n",
       "      <th></th>\n",
       "    </tr>\n",
       "  </thead>\n",
       "  <tbody>\n",
       "    <tr>\n",
       "      <th>286120</th>\n",
       "      <td>0.02080</td>\n",
       "      <td>-0.010194</td>\n",
       "      <td>0.022425</td>\n",
       "      <td>0.399611</td>\n",
       "      <td>-0.762534</td>\n",
       "      <td>-0.099920</td>\n",
       "      <td>0.227244</td>\n",
       "      <td>-0.657804</td>\n",
       "      <td>-0.368620</td>\n",
       "      <td>0.332543</td>\n",
       "      <td>...</td>\n",
       "      <td>-1.977046</td>\n",
       "      <td>-2.044903</td>\n",
       "      <td>-1.613668</td>\n",
       "      <td>-2.071710</td>\n",
       "      <td>-1.779702</td>\n",
       "      <td>-1.988831</td>\n",
       "      <td>-1.975180</td>\n",
       "      <td>-0.431932</td>\n",
       "      <td>-0.336469</td>\n",
       "      <td>-0.330581</td>\n",
       "    </tr>\n",
       "    <tr>\n",
       "      <th>248206</th>\n",
       "      <td>0.60747</td>\n",
       "      <td>0.234689</td>\n",
       "      <td>0.550471</td>\n",
       "      <td>0.546073</td>\n",
       "      <td>1.413541</td>\n",
       "      <td>1.248266</td>\n",
       "      <td>0.184233</td>\n",
       "      <td>0.221383</td>\n",
       "      <td>0.806786</td>\n",
       "      <td>0.296761</td>\n",
       "      <td>...</td>\n",
       "      <td>-0.616181</td>\n",
       "      <td>-0.186294</td>\n",
       "      <td>-0.247581</td>\n",
       "      <td>-0.519250</td>\n",
       "      <td>-0.709822</td>\n",
       "      <td>-0.449908</td>\n",
       "      <td>-0.601302</td>\n",
       "      <td>-0.661519</td>\n",
       "      <td>-0.363559</td>\n",
       "      <td>-0.324719</td>\n",
       "    </tr>\n",
       "    <tr>\n",
       "      <th>293175</th>\n",
       "      <td>-0.80744</td>\n",
       "      <td>0.724457</td>\n",
       "      <td>0.140758</td>\n",
       "      <td>0.048102</td>\n",
       "      <td>2.383079</td>\n",
       "      <td>0.063354</td>\n",
       "      <td>-0.374902</td>\n",
       "      <td>0.461162</td>\n",
       "      <td>-0.846234</td>\n",
       "      <td>0.046288</td>\n",
       "      <td>...</td>\n",
       "      <td>0.189406</td>\n",
       "      <td>0.324163</td>\n",
       "      <td>0.759620</td>\n",
       "      <td>0.141549</td>\n",
       "      <td>0.227938</td>\n",
       "      <td>0.817112</td>\n",
       "      <td>0.170832</td>\n",
       "      <td>0.111219</td>\n",
       "      <td>1.300563</td>\n",
       "      <td>1.510724</td>\n",
       "    </tr>\n",
       "    <tr>\n",
       "      <th>240974</th>\n",
       "      <td>0.02080</td>\n",
       "      <td>-1.528474</td>\n",
       "      <td>-0.983438</td>\n",
       "      <td>0.399611</td>\n",
       "      <td>-0.934897</td>\n",
       "      <td>-0.663219</td>\n",
       "      <td>-0.202861</td>\n",
       "      <td>-1.989905</td>\n",
       "      <td>-1.489938</td>\n",
       "      <td>0.117851</td>\n",
       "      <td>...</td>\n",
       "      <td>0.863440</td>\n",
       "      <td>1.215591</td>\n",
       "      <td>1.147238</td>\n",
       "      <td>1.122199</td>\n",
       "      <td>1.339455</td>\n",
       "      <td>1.399983</td>\n",
       "      <td>0.866515</td>\n",
       "      <td>1.545429</td>\n",
       "      <td>1.180824</td>\n",
       "      <td>0.947296</td>\n",
       "    </tr>\n",
       "    <tr>\n",
       "      <th>202015</th>\n",
       "      <td>0.26237</td>\n",
       "      <td>-0.867288</td>\n",
       "      <td>-0.563214</td>\n",
       "      <td>-0.391284</td>\n",
       "      <td>-1.365803</td>\n",
       "      <td>-1.280389</td>\n",
       "      <td>-0.159850</td>\n",
       "      <td>-0.471309</td>\n",
       "      <td>-0.765732</td>\n",
       "      <td>-0.132622</td>\n",
       "      <td>...</td>\n",
       "      <td>-0.440379</td>\n",
       "      <td>-0.320070</td>\n",
       "      <td>-0.120386</td>\n",
       "      <td>0.376855</td>\n",
       "      <td>-0.394457</td>\n",
       "      <td>-0.576380</td>\n",
       "      <td>-0.428330</td>\n",
       "      <td>-0.218762</td>\n",
       "      <td>0.725579</td>\n",
       "      <td>0.792913</td>\n",
       "    </tr>\n",
       "  </tbody>\n",
       "</table>\n",
       "<p>5 rows × 507 columns</p>\n",
       "</div>"
      ],
      "text/plain": [
       "            HeartRate_Min  HeartRate_Max  HeartRate_Mean  SysBP_Min  \\\n",
       "icustay_id                                                            \n",
       "286120            0.02080      -0.010194        0.022425   0.399611   \n",
       "248206            0.60747       0.234689        0.550471   0.546073   \n",
       "293175           -0.80744       0.724457        0.140758   0.048102   \n",
       "240974            0.02080      -1.528474       -0.983438   0.399611   \n",
       "202015            0.26237      -0.867288       -0.563214  -0.391284   \n",
       "\n",
       "            SysBP_Max  SysBP_Mean  DiasBP_Min  DiasBP_Max  DiasBP_Mean  \\\n",
       "icustay_id                                                               \n",
       "286120      -0.762534   -0.099920    0.227244   -0.657804    -0.368620   \n",
       "248206       1.413541    1.248266    0.184233    0.221383     0.806786   \n",
       "293175       2.383079    0.063354   -0.374902    0.461162    -0.846234   \n",
       "240974      -0.934897   -0.663219   -0.202861   -1.989905    -1.489938   \n",
       "202015      -1.365803   -1.280389   -0.159850   -0.471309    -0.765732   \n",
       "\n",
       "            MeanBP_Min  ...  ETHNICITY_AGE_GROUP  AGE_GROUP_GENDER  \\\n",
       "icustay_id              ...                                          \n",
       "286120        0.332543  ...            -1.977046         -2.044903   \n",
       "248206        0.296761  ...            -0.616181         -0.186294   \n",
       "293175        0.046288  ...             0.189406          0.324163   \n",
       "240974        0.117851  ...             0.863440          1.215591   \n",
       "202015       -0.132622  ...            -0.440379         -0.320070   \n",
       "\n",
       "            AGE_GROUP_ADMISSION_TYPE  AGE_GROUP_INSURANCE  AGE_GROUP_RELIGION  \\\n",
       "icustay_id                                                                      \n",
       "286120                     -1.613668            -2.071710           -1.779702   \n",
       "248206                     -0.247581            -0.519250           -0.709822   \n",
       "293175                      0.759620             0.141549            0.227938   \n",
       "240974                      1.147238             1.122199            1.339455   \n",
       "202015                     -0.120386             0.376855           -0.394457   \n",
       "\n",
       "            AGE_GROUP_MARITAL_STATUS  AGE_GROUP_ETHNICITY  GENDER_ICD9DIAG  \\\n",
       "icustay_id                                                                   \n",
       "286120                     -1.988831            -1.975180        -0.431932   \n",
       "248206                     -0.449908            -0.601302        -0.661519   \n",
       "293175                      0.817112             0.170832         0.111219   \n",
       "240974                      1.399983             0.866515         1.545429   \n",
       "202015                     -0.576380            -0.428330        -0.218762   \n",
       "\n",
       "            AGE_ICD9DIAG  GENDER_AGE_ICD9DIAG  \n",
       "icustay_id                                     \n",
       "286120         -0.336469            -0.330581  \n",
       "248206         -0.363559            -0.324719  \n",
       "293175          1.300563             1.510724  \n",
       "240974          1.180824             0.947296  \n",
       "202015          0.725579             0.792913  \n",
       "\n",
       "[5 rows x 507 columns]"
      ]
     },
     "execution_count": 15,
     "metadata": {},
     "output_type": "execute_result"
    }
   ],
   "source": [
    "test = pd.read_csv('data/processed/test.csv')\n",
    "test.set_index('icustay_id', inplace=True)\n",
    "print(test.info())\n",
    "test.head()"
   ]
  },
  {
   "cell_type": "code",
   "execution_count": 16,
   "id": "c27577b8",
   "metadata": {},
   "outputs": [
    {
     "name": "stdout",
     "output_type": "stream",
     "text": [
      "(20885, 507)\n",
      "(5221, 507)\n"
     ]
    }
   ],
   "source": [
    "target = 'HOSPITAL_EXPIRE_FLAG'\n",
    "y = train[target]\n",
    "X_train = train.drop(target, axis=1)\n",
    "X_test = test\n",
    "print(X_train.shape)\n",
    "print(X_test.shape)"
   ]
  },
  {
   "cell_type": "code",
   "execution_count": 17,
   "id": "fe503e07",
   "metadata": {},
   "outputs": [],
   "source": [
    "feature_names = X_test.columns"
   ]
  },
  {
   "cell_type": "markdown",
   "id": "249efd21",
   "metadata": {},
   "source": [
    "## Base line Knn model"
   ]
  },
  {
   "cell_type": "code",
   "execution_count": 18,
   "id": "6595be1a",
   "metadata": {},
   "outputs": [],
   "source": [
    "from sklearn.neighbors import KNeighborsClassifier\n",
    "\n",
    "from sklearn.model_selection import KFold\n",
    "\n",
    "from sklearn.metrics import roc_auc_score"
   ]
  },
  {
   "cell_type": "code",
   "execution_count": 19,
   "id": "857b379a",
   "metadata": {},
   "outputs": [],
   "source": [
    "model_knn_bl = KNeighborsClassifier()\n",
    "splitter = KFold(n_splits=5, random_state=None, shuffle=True)\n",
    "\n",
    "metrics = []\n",
    "for train_index, val_index in splitter.split(train):\n",
    "    train_df, val_df = train.iloc[train_index], train.iloc[val_index] \n",
    "    \n",
    "    model_knn_bl.fit(train_df[feature_names], train_df[target])\n",
    "    predictions = model_knn_bl.predict_proba(val_df[feature_names])\n",
    "    metrics.append(roc_auc_score(val_df[target], predictions[:,1]))"
   ]
  },
  {
   "cell_type": "code",
   "execution_count": 20,
   "id": "6f5bdd5a",
   "metadata": {},
   "outputs": [
    {
     "name": "stdout",
     "output_type": "stream",
     "text": [
      "[0.7707025257490036, 0.810343581945197, 0.8177782000020177, 0.781149248451704, 0.7959733300392933]\n"
     ]
    }
   ],
   "source": [
    "print(metrics)"
   ]
  },
  {
   "cell_type": "code",
   "execution_count": 21,
   "id": "e30d9173",
   "metadata": {},
   "outputs": [],
   "source": [
    "model_knn_bl.fit(train[feature_names], train[target])\n",
    "y_train_hat_knn_bl = model_knn_bl.predict_proba(train[feature_names])"
   ]
  },
  {
   "cell_type": "code",
   "execution_count": 22,
   "id": "fd9c1d6b",
   "metadata": {},
   "outputs": [
    {
     "data": {
      "image/png": "[encoded data removed]",
      "text/plain": [
       "<Figure size 432x288 with 1 Axes>"
      ]
     },
     "metadata": {
      "needs_background": "light"
     },
     "output_type": "display_data"
    }
   ],
   "source": [
    "roc_curve_plot(train[target], y_train_hat_knn_bl[:,1])"
   ]
  },
  {
   "cell_type": "markdown",
   "id": "b8655da1",
   "metadata": {},
   "source": [
    "The model is doing it so bad with un observed data"
   ]
  },
  {
   "cell_type": "code",
   "execution_count": 23,
   "id": "b41caed3",
   "metadata": {},
   "outputs": [],
   "source": [
    "y_test_hat_knn_bl = model_knn_bl.predict_proba(test[feature_names])\n",
    "\n",
    "test_predictions_submit = pd.DataFrame({\"icustay_id\": test.index, \"HOSPITAL_EXPIRE_FLAG\": y_test_hat_knn_bl[:,1]})\n",
    "test_predictions_submit.to_csv(\"data/outputs/knn_bl.csv\", index = False)"
   ]
  },
  {
   "cell_type": "markdown",
   "id": "878aca39",
   "metadata": {},
   "source": [
    "### Grid search"
   ]
  },
  {
   "cell_type": "code",
   "execution_count": 8,
   "id": "484212c9",
   "metadata": {},
   "outputs": [],
   "source": [
    "from sklearn.model_selection import RandomizedSearchCV"
   ]
  },
  {
   "cell_type": "code",
   "execution_count": 31,
   "id": "0159e68b",
   "metadata": {},
   "outputs": [],
   "source": [
    "parameters1 = {'n_neighbors' : [1, 5, 10, 40, 60, 80, 100, 200, 500, 1000], \n",
    "               'weights' : ['uniform', 'distance'],\n",
    "               'algorithm' : ['ball_tree', 'kd_tree', 'brute'],\n",
    "               'p': [1,2]}\n",
    "\n",
    "knn_gs1 = RandomizedSearchCV(KNeighborsClassifier(), \n",
    "                             parameters1, \n",
    "                             random_state = 0, \n",
    "                             scoring = 'roc_auc',\n",
    "                             cv = 5,\n",
    "                             verbose = 3)"
   ]
  },
  {
   "cell_type": "code",
   "execution_count": 32,
   "id": "ce2483da",
   "metadata": {},
   "outputs": [
    {
     "name": "stdout",
     "output_type": "stream",
     "text": [
      "Fitting 5 folds for each of 10 candidates, totalling 50 fits\n",
      "[CV 1/5] END algorithm=kd_tree, n_neighbors=10, p=1, weights=uniform;, score=0.721 total time= 1.1min\n",
      "[CV 2/5] END algorithm=kd_tree, n_neighbors=10, p=1, weights=uniform;, score=0.727 total time= 1.1min\n",
      "[CV 3/5] END algorithm=kd_tree, n_neighbors=10, p=1, weights=uniform;, score=0.752 total time= 1.1min\n",
      "[CV 4/5] END algorithm=kd_tree, n_neighbors=10, p=1, weights=uniform;, score=0.784 total time= 1.1min\n",
      "[CV 5/5] END algorithm=kd_tree, n_neighbors=10, p=1, weights=uniform;, score=0.772 total time= 1.1min\n",
      "[CV 1/5] END algorithm=brute, n_neighbors=40, p=2, weights=uniform;, score=0.770 total time=   1.4s\n",
      "[CV 2/5] END algorithm=brute, n_neighbors=40, p=2, weights=uniform;, score=0.798 total time=   1.3s\n",
      "[CV 3/5] END algorithm=brute, n_neighbors=40, p=2, weights=uniform;, score=0.802 total time=   1.4s\n",
      "[CV 4/5] END algorithm=brute, n_neighbors=40, p=2, weights=uniform;, score=0.848 total time=   1.4s\n",
      "[CV 5/5] END algorithm=brute, n_neighbors=40, p=2, weights=uniform;, score=0.843 total time=   1.4s\n",
      "[CV 1/5] END algorithm=brute, n_neighbors=40, p=2, weights=distance;, score=0.772 total time=   1.4s\n",
      "[CV 2/5] END algorithm=brute, n_neighbors=40, p=2, weights=distance;, score=0.798 total time=   1.3s\n",
      "[CV 3/5] END algorithm=brute, n_neighbors=40, p=2, weights=distance;, score=0.805 total time=   1.4s\n",
      "[CV 4/5] END algorithm=brute, n_neighbors=40, p=2, weights=distance;, score=0.851 total time=   1.4s\n",
      "[CV 5/5] END algorithm=brute, n_neighbors=40, p=2, weights=distance;, score=0.846 total time=   1.4s\n",
      "[CV 1/5] END algorithm=ball_tree, n_neighbors=10, p=1, weights=uniform;, score=0.721 total time=  50.9s\n",
      "[CV 2/5] END algorithm=ball_tree, n_neighbors=10, p=1, weights=uniform;, score=0.727 total time=  50.4s\n",
      "[CV 3/5] END algorithm=ball_tree, n_neighbors=10, p=1, weights=uniform;, score=0.752 total time=  51.0s\n",
      "[CV 4/5] END algorithm=ball_tree, n_neighbors=10, p=1, weights=uniform;, score=0.784 total time=  50.7s\n",
      "[CV 5/5] END algorithm=ball_tree, n_neighbors=10, p=1, weights=uniform;, score=0.772 total time=  50.9s\n",
      "[CV 1/5] END algorithm=brute, n_neighbors=60, p=1, weights=distance;, score=0.785 total time=  26.9s\n",
      "[CV 2/5] END algorithm=brute, n_neighbors=60, p=1, weights=distance;, score=0.797 total time=  26.9s\n",
      "[CV 3/5] END algorithm=brute, n_neighbors=60, p=1, weights=distance;, score=0.807 total time=  26.9s\n",
      "[CV 4/5] END algorithm=brute, n_neighbors=60, p=1, weights=distance;, score=0.849 total time=  26.9s\n",
      "[CV 5/5] END algorithm=brute, n_neighbors=60, p=1, weights=distance;, score=0.848 total time=  27.0s\n",
      "[CV 1/5] END algorithm=ball_tree, n_neighbors=80, p=2, weights=uniform;, score=0.793 total time=  50.8s\n",
      "[CV 2/5] END algorithm=ball_tree, n_neighbors=80, p=2, weights=uniform;, score=0.803 total time=  50.4s\n",
      "[CV 3/5] END algorithm=ball_tree, n_neighbors=80, p=2, weights=uniform;, score=0.814 total time=  50.7s\n",
      "[CV 4/5] END algorithm=ball_tree, n_neighbors=80, p=2, weights=uniform;, score=0.867 total time=  50.7s\n",
      "[CV 5/5] END algorithm=ball_tree, n_neighbors=80, p=2, weights=uniform;, score=0.856 total time=  50.8s\n",
      "[CV 1/5] END algorithm=ball_tree, n_neighbors=5, p=2, weights=distance;, score=0.706 total time=  50.7s\n",
      "[CV 2/5] END algorithm=ball_tree, n_neighbors=5, p=2, weights=distance;, score=0.695 total time=  50.4s\n",
      "[CV 3/5] END algorithm=ball_tree, n_neighbors=5, p=2, weights=distance;, score=0.709 total time=  50.7s\n",
      "[CV 4/5] END algorithm=ball_tree, n_neighbors=5, p=2, weights=distance;, score=0.744 total time=  50.5s\n",
      "[CV 5/5] END algorithm=ball_tree, n_neighbors=5, p=2, weights=distance;, score=0.724 total time=  50.9s\n",
      "[CV 1/5] END algorithm=ball_tree, n_neighbors=10, p=2, weights=uniform;, score=0.742 total time=  50.7s\n",
      "[CV 2/5] END algorithm=ball_tree, n_neighbors=10, p=2, weights=uniform;, score=0.738 total time=  50.4s\n",
      "[CV 3/5] END algorithm=ball_tree, n_neighbors=10, p=2, weights=uniform;, score=0.746 total time=  50.6s\n",
      "[CV 4/5] END algorithm=ball_tree, n_neighbors=10, p=2, weights=uniform;, score=0.793 total time=  50.4s\n",
      "[CV 5/5] END algorithm=ball_tree, n_neighbors=10, p=2, weights=uniform;, score=0.777 total time=  50.9s\n",
      "[CV 1/5] END algorithm=kd_tree, n_neighbors=5, p=1, weights=distance;, score=0.692 total time= 1.1min\n",
      "[CV 2/5] END algorithm=kd_tree, n_neighbors=5, p=1, weights=distance;, score=0.682 total time= 1.1min\n",
      "[CV 3/5] END algorithm=kd_tree, n_neighbors=5, p=1, weights=distance;, score=0.705 total time= 1.1min\n",
      "[CV 4/5] END algorithm=kd_tree, n_neighbors=5, p=1, weights=distance;, score=0.730 total time= 1.1min\n",
      "[CV 5/5] END algorithm=kd_tree, n_neighbors=5, p=1, weights=distance;, score=0.720 total time= 1.1min\n",
      "[CV 1/5] END algorithm=brute, n_neighbors=10, p=1, weights=distance;, score=0.726 total time=  26.9s\n",
      "[CV 2/5] END algorithm=brute, n_neighbors=10, p=1, weights=distance;, score=0.728 total time=  26.9s\n",
      "[CV 3/5] END algorithm=brute, n_neighbors=10, p=1, weights=distance;, score=0.755 total time=  27.1s\n",
      "[CV 4/5] END algorithm=brute, n_neighbors=10, p=1, weights=distance;, score=0.786 total time=  27.0s\n",
      "[CV 5/5] END algorithm=brute, n_neighbors=10, p=1, weights=distance;, score=0.774 total time=  27.0s\n"
     ]
    },
    {
     "data": {
      "text/plain": [
       "RandomizedSearchCV(cv=5, estimator=KNeighborsClassifier(),\n",
       "                   param_distributions={'algorithm': ['ball_tree', 'kd_tree',\n",
       "                                                      'brute'],\n",
       "                                        'n_neighbors': [1, 5, 10, 40, 60, 80,\n",
       "                                                        100, 200, 500, 1000],\n",
       "                                        'p': [1, 2],\n",
       "                                        'weights': ['uniform', 'distance']},\n",
       "                   random_state=0, scoring='roc_auc', verbose=3)"
      ]
     },
     "execution_count": 32,
     "metadata": {},
     "output_type": "execute_result"
    }
   ],
   "source": [
    "knn_gs1.fit(train[feature_names], train[target])"
   ]
  },
  {
   "cell_type": "code",
   "execution_count": 34,
   "id": "706f8075",
   "metadata": {},
   "outputs": [
    {
     "name": "stdout",
     "output_type": "stream",
     "text": [
      "{'weights': 'uniform', 'p': 2, 'n_neighbors': 80, 'algorithm': 'ball_tree'}\n"
     ]
    }
   ],
   "source": [
    "print(knn_gs1.best_params_)"
   ]
  },
  {
   "cell_type": "code",
   "execution_count": 35,
   "id": "4db06d0d",
   "metadata": {},
   "outputs": [
    {
     "name": "stdout",
     "output_type": "stream",
     "text": [
      "[0.8367071939344911, 0.8275069190596132, 0.8441012554563543, 0.8124607025386614, 0.8434183068730071]\n"
     ]
    }
   ],
   "source": [
    "model_knn_m1 = KNeighborsClassifier(weights = 'uniform', p = 2, n_neighbors = 80, algorithm = 'ball_tree')\n",
    "splitter = KFold(n_splits=5, random_state=None, shuffle=True)\n",
    "\n",
    "metrics = []\n",
    "for train_index, val_index in splitter.split(train):\n",
    "    train_df, val_df = train.iloc[train_index], train.iloc[val_index] \n",
    "    \n",
    "    model_knn_m1.fit(train_df[feature_names], train_df[target])\n",
    "    predictions = model_knn_m1.predict_proba(val_df[feature_names])\n",
    "    metrics.append(roc_auc_score(val_df[target], predictions[:,1]))\n",
    "    \n",
    "print(metrics)"
   ]
  },
  {
   "cell_type": "code",
   "execution_count": 10,
   "id": "b99fed01",
   "metadata": {},
   "outputs": [],
   "source": [
    "model_knn_m1.fit(train[feature_names], train[target])\n",
    "y_train_hat_knn_m1 = model_knn_m1.predict_proba(train[feature_names])"
   ]
  },
  {
   "cell_type": "code",
   "execution_count": 11,
   "id": "f7d553bf",
   "metadata": {},
   "outputs": [
    {
     "data": {
      "image/png": "[encoded data removed]",
      "text/plain": [
       "<Figure size 432x288 with 1 Axes>"
      ]
     },
     "metadata": {
      "needs_background": "light"
     },
     "output_type": "display_data"
    }
   ],
   "source": [
    "roc_curve_plot(train[target], y_train_hat_knn_m1[:,1])"
   ]
  },
  {
   "cell_type": "code",
   "execution_count": 12,
   "id": "86f6366c",
   "metadata": {},
   "outputs": [],
   "source": [
    "y_test_hat_knn_m1 = model_knn_m1.predict_proba(test[feature_names])\n",
    "\n",
    "test_predictions_submit = pd.DataFrame({\"icustay_id\": test.index, \"HOSPITAL_EXPIRE_FLAG\": y_test_hat_knn_m1[:,1]})\n",
    "test_predictions_submit.to_csv(\"data/outputs/knn_m1.csv\", index = False)"
   ]
  },
  {
   "cell_type": "code",
   "execution_count": null,
   "id": "60de6c1c",
   "metadata": {},
   "outputs": [],
   "source": []
  },
  {
   "cell_type": "code",
   "execution_count": 14,
   "id": "442f7176",
   "metadata": {},
   "outputs": [],
   "source": [
    "parameters2 = {'n_neighbors' : [60, 70, 80, 90, 100, 200, 500, 1000], \n",
    "               'weights' : ['uniform', 'distance'],\n",
    "               'algorithm' : ['ball_tree', 'kd_tree', 'brute'],\n",
    "               'p': [1,2]}\n",
    "\n",
    "knn_gs2 = RandomizedSearchCV(KNeighborsClassifier(), \n",
    "                             parameters2, \n",
    "                             random_state = 0, \n",
    "                             scoring = 'roc_auc',\n",
    "                             cv = 5,\n",
    "                             verbose = 3)"
   ]
  },
  {
   "cell_type": "code",
   "execution_count": 15,
   "id": "b68d84ac",
   "metadata": {},
   "outputs": [
    {
     "name": "stdout",
     "output_type": "stream",
     "text": [
      "Fitting 5 folds for each of 10 candidates, totalling 50 fits\n",
      "[CV 1/5] END algorithm=ball_tree, n_neighbors=500, p=2, weights=uniform;, score=0.803 total time=  51.9s\n",
      "[CV 2/5] END algorithm=ball_tree, n_neighbors=500, p=2, weights=uniform;, score=0.818 total time=  51.7s\n",
      "[CV 3/5] END algorithm=ball_tree, n_neighbors=500, p=2, weights=uniform;, score=0.829 total time=  51.7s\n",
      "[CV 4/5] END algorithm=ball_tree, n_neighbors=500, p=2, weights=uniform;, score=0.873 total time=  51.9s\n",
      "[CV 5/5] END algorithm=ball_tree, n_neighbors=500, p=2, weights=uniform;, score=0.861 total time=  52.2s\n",
      "[CV 1/5] END algorithm=brute, n_neighbors=200, p=1, weights=uniform;, score=0.798 total time=  27.2s\n",
      "[CV 2/5] END algorithm=brute, n_neighbors=200, p=1, weights=uniform;, score=0.799 total time=  27.2s\n",
      "[CV 3/5] END algorithm=brute, n_neighbors=200, p=1, weights=uniform;, score=0.816 total time=  27.2s\n",
      "[CV 4/5] END algorithm=brute, n_neighbors=200, p=1, weights=uniform;, score=0.862 total time=  27.2s\n",
      "[CV 5/5] END algorithm=brute, n_neighbors=200, p=1, weights=uniform;, score=0.855 total time=  27.3s\n",
      "[CV 1/5] END algorithm=ball_tree, n_neighbors=60, p=2, weights=uniform;, score=0.785 total time=  51.3s\n",
      "[CV 2/5] END algorithm=ball_tree, n_neighbors=60, p=2, weights=uniform;, score=0.804 total time=  50.9s\n",
      "[CV 3/5] END algorithm=ball_tree, n_neighbors=60, p=2, weights=uniform;, score=0.809 total time=  51.2s\n",
      "[CV 4/5] END algorithm=ball_tree, n_neighbors=60, p=2, weights=uniform;, score=0.857 total time=  50.8s\n",
      "[CV 5/5] END algorithm=ball_tree, n_neighbors=60, p=2, weights=uniform;, score=0.852 total time=  51.5s\n",
      "[CV 1/5] END algorithm=kd_tree, n_neighbors=200, p=2, weights=distance;, score=0.803 total time= 1.1min\n",
      "[CV 2/5] END algorithm=kd_tree, n_neighbors=200, p=2, weights=distance;, score=0.812 total time= 1.1min\n",
      "[CV 3/5] END algorithm=kd_tree, n_neighbors=200, p=2, weights=distance;, score=0.827 total time= 1.1min\n",
      "[CV 4/5] END algorithm=kd_tree, n_neighbors=200, p=2, weights=distance;, score=0.872 total time= 1.1min\n",
      "[CV 5/5] END algorithm=kd_tree, n_neighbors=200, p=2, weights=distance;, score=0.862 total time= 1.1min\n",
      "[CV 1/5] END algorithm=brute, n_neighbors=70, p=1, weights=uniform;, score=0.783 total time=  27.2s\n",
      "[CV 2/5] END algorithm=brute, n_neighbors=70, p=1, weights=uniform;, score=0.797 total time=  27.1s\n",
      "[CV 3/5] END algorithm=brute, n_neighbors=70, p=1, weights=uniform;, score=0.807 total time=  27.2s\n",
      "[CV 4/5] END algorithm=brute, n_neighbors=70, p=1, weights=uniform;, score=0.851 total time=  27.1s\n",
      "[CV 5/5] END algorithm=brute, n_neighbors=70, p=1, weights=uniform;, score=0.848 total time=  27.1s\n",
      "[CV 1/5] END algorithm=brute, n_neighbors=100, p=1, weights=distance;, score=0.792 total time=  27.2s\n",
      "[CV 2/5] END algorithm=brute, n_neighbors=100, p=1, weights=distance;, score=0.800 total time=  27.1s\n",
      "[CV 3/5] END algorithm=brute, n_neighbors=100, p=1, weights=distance;, score=0.811 total time=  27.1s\n",
      "[CV 4/5] END algorithm=brute, n_neighbors=100, p=1, weights=distance;, score=0.858 total time=  26.9s\n",
      "[CV 5/5] END algorithm=brute, n_neighbors=100, p=1, weights=distance;, score=0.854 total time=  27.1s\n",
      "[CV 1/5] END algorithm=ball_tree, n_neighbors=100, p=1, weights=uniform;, score=0.791 total time=  51.0s\n",
      "[CV 2/5] END algorithm=ball_tree, n_neighbors=100, p=1, weights=uniform;, score=0.798 total time=  50.3s\n",
      "[CV 3/5] END algorithm=ball_tree, n_neighbors=100, p=1, weights=uniform;, score=0.810 total time=  50.7s\n",
      "[CV 4/5] END algorithm=ball_tree, n_neighbors=100, p=1, weights=uniform;, score=0.857 total time=  50.5s\n",
      "[CV 5/5] END algorithm=ball_tree, n_neighbors=100, p=1, weights=uniform;, score=0.853 total time=  51.0s\n",
      "[CV 1/5] END algorithm=brute, n_neighbors=90, p=2, weights=uniform;, score=0.794 total time=   1.4s\n",
      "[CV 2/5] END algorithm=brute, n_neighbors=90, p=2, weights=uniform;, score=0.806 total time=   1.3s\n",
      "[CV 3/5] END algorithm=brute, n_neighbors=90, p=2, weights=uniform;, score=0.815 total time=   1.4s\n",
      "[CV 4/5] END algorithm=brute, n_neighbors=90, p=2, weights=uniform;, score=0.867 total time=   1.4s\n",
      "[CV 5/5] END algorithm=brute, n_neighbors=90, p=2, weights=uniform;, score=0.855 total time=   1.4s\n",
      "[CV 1/5] END algorithm=kd_tree, n_neighbors=200, p=2, weights=uniform;, score=0.803 total time= 1.1min\n",
      "[CV 2/5] END algorithm=kd_tree, n_neighbors=200, p=2, weights=uniform;, score=0.811 total time= 1.1min\n",
      "[CV 3/5] END algorithm=kd_tree, n_neighbors=200, p=2, weights=uniform;, score=0.826 total time= 1.1min\n",
      "[CV 4/5] END algorithm=kd_tree, n_neighbors=200, p=2, weights=uniform;, score=0.872 total time= 1.1min\n",
      "[CV 5/5] END algorithm=kd_tree, n_neighbors=200, p=2, weights=uniform;, score=0.862 total time= 1.1min\n",
      "[CV 1/5] END algorithm=brute, n_neighbors=60, p=2, weights=uniform;, score=0.785 total time=   1.4s\n",
      "[CV 2/5] END algorithm=brute, n_neighbors=60, p=2, weights=uniform;, score=0.804 total time=   1.3s\n",
      "[CV 3/5] END algorithm=brute, n_neighbors=60, p=2, weights=uniform;, score=0.809 total time=   1.4s\n",
      "[CV 4/5] END algorithm=brute, n_neighbors=60, p=2, weights=uniform;, score=0.857 total time=   1.4s\n",
      "[CV 5/5] END algorithm=brute, n_neighbors=60, p=2, weights=uniform;, score=0.852 total time=   1.4s\n"
     ]
    },
    {
     "data": {
      "text/plain": [
       "RandomizedSearchCV(cv=5, estimator=KNeighborsClassifier(),\n",
       "                   param_distributions={'algorithm': ['ball_tree', 'kd_tree',\n",
       "                                                      'brute'],\n",
       "                                        'n_neighbors': [60, 70, 80, 90, 100,\n",
       "                                                        200, 500, 1000],\n",
       "                                        'p': [1, 2],\n",
       "                                        'weights': ['uniform', 'distance']},\n",
       "                   random_state=0, scoring='roc_auc', verbose=3)"
      ]
     },
     "execution_count": 15,
     "metadata": {},
     "output_type": "execute_result"
    }
   ],
   "source": [
    "knn_gs2.fit(train[feature_names], train[target])"
   ]
  },
  {
   "cell_type": "code",
   "execution_count": 17,
   "id": "e2c09ffc",
   "metadata": {},
   "outputs": [
    {
     "name": "stdout",
     "output_type": "stream",
     "text": [
      "{'weights': 'uniform', 'p': 2, 'n_neighbors': 500, 'algorithm': 'ball_tree'}\n"
     ]
    }
   ],
   "source": [
    "\n",
    "print(knn_gs2.best_params_)"
   ]
  },
  {
   "cell_type": "code",
   "execution_count": 18,
   "id": "936b64ec",
   "metadata": {},
   "outputs": [
    {
     "name": "stdout",
     "output_type": "stream",
     "text": [
      "[0.8341287797895612, 0.829284237600644, 0.8383567619163237, 0.8513214333101236, 0.8457614453429867]\n"
     ]
    }
   ],
   "source": [
    "model_knn_m2 = KNeighborsClassifier(weights = 'uniform', p = 2, n_neighbors = 500, algorithm = 'ball_tree')\n",
    "splitter = KFold(n_splits=5, random_state=None, shuffle=True)\n",
    "\n",
    "metrics = []\n",
    "for train_index, val_index in splitter.split(train):\n",
    "    train_df, val_df = train.iloc[train_index], train.iloc[val_index] \n",
    "    \n",
    "    model_knn_m2.fit(train_df[feature_names], train_df[target])\n",
    "    predictions = model_knn_m2.predict_proba(val_df[feature_names])\n",
    "    metrics.append(roc_auc_score(val_df[target], predictions[:,1]))\n",
    "    \n",
    "print(metrics)"
   ]
  },
  {
   "cell_type": "code",
   "execution_count": 20,
   "id": "c5628218",
   "metadata": {},
   "outputs": [],
   "source": [
    "model_knn_m2.fit(train[feature_names], train[target])\n",
    "y_train_hat_knn_m2 = model_knn_m2.predict_proba(train[feature_names])"
   ]
  },
  {
   "cell_type": "code",
   "execution_count": 21,
   "id": "19e39ffa",
   "metadata": {},
   "outputs": [
    {
     "data": {
      "image/png": "[encoded data removed]",
      "text/plain": [
       "<Figure size 432x288 with 1 Axes>"
      ]
     },
     "metadata": {
      "needs_background": "light"
     },
     "output_type": "display_data"
    }
   ],
   "source": [
    "roc_curve_plot(train[target], y_train_hat_knn_m1[:,1])"
   ]
  },
  {
   "cell_type": "code",
   "execution_count": 22,
   "id": "72ad8822",
   "metadata": {},
   "outputs": [],
   "source": [
    "y_test_hat_knn_m2 = model_knn_m2.predict_proba(test[feature_names])\n",
    "\n",
    "test_predictions_submit = pd.DataFrame({\"icustay_id\": test.index, \"HOSPITAL_EXPIRE_FLAG\": y_test_hat_knn_m2[:,1]})\n",
    "test_predictions_submit.to_csv(\"data/outputs/knn_m2.csv\", index = False)"
   ]
  },
  {
   "cell_type": "code",
   "execution_count": null,
   "id": "80661abc",
   "metadata": {},
   "outputs": [],
   "source": []
  }
 ],
 "metadata": {
  "kernelspec": {
   "display_name": "Python 3",
   "language": "python",
   "name": "python3"
  },
  "language_info": {
   "codemirror_mode": {
    "name": "ipython",
    "version": 3
   },
   "file_extension": ".py",
   "mimetype": "text/x-python",
   "name": "python",
   "nbconvert_exporter": "python",
   "pygments_lexer": "ipython3",
   "version": "3.6.9"
  }
 },
 "nbformat": 4,
 "nbformat_minor": 5
}
